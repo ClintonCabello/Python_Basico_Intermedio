{
  "cells": [
    {
      "cell_type": "markdown",
      "metadata": {
        "id": "I4c0J82DFj5y"
      },
      "source": [
        "# Ejercicios Sesión 2"
      ]
    },
    {
      "cell_type": "markdown",
      "metadata": {
        "id": "fH5VFoIGNm1Y"
      },
      "source": [
        "## Algunos conceptos útiles"
      ]
    },
    {
      "cell_type": "code",
      "execution_count": 1,
      "metadata": {
        "id": "fVjsw2OtGR9i"
      },
      "outputs": [],
      "source": [
        "#Crear variables\n",
        "\n",
        "x = 18"
      ]
    },
    {
      "cell_type": "code",
      "execution_count": 2,
      "metadata": {
        "colab": {
          "base_uri": "https://localhost:8080/"
        },
        "id": "1rss0wumHHt-",
        "outputId": "b850bea1-e01a-4767-dfe9-80173111730c"
      },
      "outputs": [
        {
          "output_type": "execute_result",
          "data": {
            "text/plain": [
              "18"
            ]
          },
          "metadata": {},
          "execution_count": 2
        }
      ],
      "source": [
        "#Consultar variables\n",
        "x"
      ]
    },
    {
      "cell_type": "code",
      "execution_count": 3,
      "metadata": {
        "colab": {
          "base_uri": "https://localhost:8080/"
        },
        "id": "ECaHBI3ZHN5A",
        "outputId": "1cf2c940-d49f-431e-f849-8e1fe035bb3d"
      },
      "outputs": [
        {
          "output_type": "stream",
          "name": "stdout",
          "text": [
            "La variable x vale: 18\n"
          ]
        }
      ],
      "source": [
        "#Mostrar en pantalla\n",
        "\n",
        "print(\"La variable x vale:\", x)"
      ]
    },
    {
      "cell_type": "code",
      "execution_count": 4,
      "metadata": {
        "colab": {
          "base_uri": "https://localhost:8080/"
        },
        "id": "dxDqXxDFHYDr",
        "outputId": "d494773b-b7be-4aa1-cf26-1cf191f839f3"
      },
      "outputs": [
        {
          "output_type": "stream",
          "name": "stdout",
          "text": [
            "Juan\n",
            "Mi nombre es Juan\n"
          ]
        }
      ],
      "source": [
        "#Solicitar datos (se almacena como un string)\n",
        "\n",
        "nombre = input()\n",
        "print(\"Mi nombre es \"+nombre)"
      ]
    },
    {
      "cell_type": "code",
      "execution_count": 5,
      "metadata": {
        "id": "7USqa7jjIVMf"
      },
      "outputs": [],
      "source": [
        "#Eliminar una variable\n",
        "\n",
        "del nombre"
      ]
    },
    {
      "cell_type": "markdown",
      "metadata": {
        "id": "rXSPSXpmJnuq"
      },
      "source": [
        "## Bool"
      ]
    },
    {
      "cell_type": "code",
      "execution_count": 6,
      "metadata": {
        "id": "m9Uwyn6CInVR"
      },
      "outputs": [],
      "source": [
        "b1 = True\n",
        "b2 = True\n",
        "b3 = False"
      ]
    },
    {
      "cell_type": "code",
      "execution_count": 7,
      "metadata": {
        "colab": {
          "base_uri": "https://localhost:8080/"
        },
        "id": "4I47hQuJJ0xD",
        "outputId": "80f17c17-da05-487d-a8b3-1b26793abe55"
      },
      "outputs": [
        {
          "output_type": "execute_result",
          "data": {
            "text/plain": [
              "True"
            ]
          },
          "metadata": {},
          "execution_count": 7
        }
      ],
      "source": [
        "b1"
      ]
    },
    {
      "cell_type": "code",
      "execution_count": 8,
      "metadata": {
        "colab": {
          "base_uri": "https://localhost:8080/"
        },
        "id": "0k_GdFilJ8DA",
        "outputId": "bc7b8417-12c2-4ce8-89c9-23375d71d7af"
      },
      "outputs": [
        {
          "output_type": "execute_result",
          "data": {
            "text/plain": [
              "False"
            ]
          },
          "metadata": {},
          "execution_count": 8
        }
      ],
      "source": [
        "#Negación\n",
        "\n",
        "not b1"
      ]
    },
    {
      "cell_type": "code",
      "execution_count": 9,
      "metadata": {
        "colab": {
          "base_uri": "https://localhost:8080/"
        },
        "id": "mnltgIYnJ_BP",
        "outputId": "5b0cc5a6-0996-435c-df96-68688ece5d66"
      },
      "outputs": [
        {
          "output_type": "execute_result",
          "data": {
            "text/plain": [
              "False"
            ]
          },
          "metadata": {},
          "execution_count": 9
        }
      ],
      "source": [
        "#Operador and\n",
        "\n",
        "b1 and b3"
      ]
    },
    {
      "cell_type": "code",
      "execution_count": 10,
      "metadata": {
        "colab": {
          "base_uri": "https://localhost:8080/"
        },
        "id": "nJj333fnK8zc",
        "outputId": "a21654c5-cfc8-455e-c9c8-fc2994610c3b"
      },
      "outputs": [
        {
          "output_type": "execute_result",
          "data": {
            "text/plain": [
              "True"
            ]
          },
          "metadata": {},
          "execution_count": 10
        }
      ],
      "source": [
        "#Operador or\n",
        "\n",
        "b2 or b3"
      ]
    },
    {
      "cell_type": "code",
      "execution_count": 11,
      "metadata": {
        "colab": {
          "base_uri": "https://localhost:8080/"
        },
        "id": "x7EOaAwzK_mB",
        "outputId": "e745ab30-9b70-45e6-8080-004ef8b067e0"
      },
      "outputs": [
        {
          "output_type": "execute_result",
          "data": {
            "text/plain": [
              "True"
            ]
          },
          "metadata": {},
          "execution_count": 11
        }
      ],
      "source": [
        "#Operador xor\n",
        "\n",
        "b1 ^ b3"
      ]
    },
    {
      "cell_type": "markdown",
      "metadata": {
        "id": "3JgHmz_RLnUD"
      },
      "source": [
        "## Numéricos"
      ]
    },
    {
      "cell_type": "code",
      "execution_count": 12,
      "metadata": {
        "id": "VjvAebXALFUY"
      },
      "outputs": [],
      "source": [
        "a = 142\n",
        "b = 13"
      ]
    },
    {
      "cell_type": "code",
      "execution_count": 13,
      "metadata": {
        "colab": {
          "base_uri": "https://localhost:8080/"
        },
        "id": "JxRvbYCBLu_3",
        "outputId": "d9c164a2-630b-4fe4-b1fa-f7337eb2887f"
      },
      "outputs": [
        {
          "output_type": "execute_result",
          "data": {
            "text/plain": [
              "155"
            ]
          },
          "metadata": {},
          "execution_count": 13
        }
      ],
      "source": [
        "a + b"
      ]
    },
    {
      "cell_type": "code",
      "execution_count": 14,
      "metadata": {
        "colab": {
          "base_uri": "https://localhost:8080/"
        },
        "id": "AEA8ZgiILx6Q",
        "outputId": "080b56c5-77be-4dec-a681-8b08f040d70a"
      },
      "outputs": [
        {
          "output_type": "execute_result",
          "data": {
            "text/plain": [
              "129"
            ]
          },
          "metadata": {},
          "execution_count": 14
        }
      ],
      "source": [
        "a - b"
      ]
    },
    {
      "cell_type": "code",
      "execution_count": 15,
      "metadata": {
        "colab": {
          "base_uri": "https://localhost:8080/"
        },
        "id": "zqW3ooW6Lz7w",
        "outputId": "f0d92bc0-aa80-4aac-e8a9-651719385e3c"
      },
      "outputs": [
        {
          "output_type": "execute_result",
          "data": {
            "text/plain": [
              "1846"
            ]
          },
          "metadata": {},
          "execution_count": 15
        }
      ],
      "source": [
        "a * b"
      ]
    },
    {
      "cell_type": "code",
      "execution_count": 16,
      "metadata": {
        "colab": {
          "base_uri": "https://localhost:8080/"
        },
        "id": "3OpOSiXFL1lv",
        "outputId": "0525fa58-c59d-40d2-8e7a-2c126dd29b50"
      },
      "outputs": [
        {
          "output_type": "execute_result",
          "data": {
            "text/plain": [
              "10.923076923076923"
            ]
          },
          "metadata": {},
          "execution_count": 16
        }
      ],
      "source": [
        "#División real\n",
        "\n",
        "a / b"
      ]
    },
    {
      "cell_type": "code",
      "execution_count": 17,
      "metadata": {
        "colab": {
          "base_uri": "https://localhost:8080/"
        },
        "id": "PBXTk-hcL5vG",
        "outputId": "aa2dec6e-51a4-446d-d94b-d3dca407bb3e"
      },
      "outputs": [
        {
          "output_type": "execute_result",
          "data": {
            "text/plain": [
              "10"
            ]
          },
          "metadata": {},
          "execution_count": 17
        }
      ],
      "source": [
        "#División entera\n",
        "\n",
        "a // b"
      ]
    },
    {
      "cell_type": "code",
      "execution_count": 18,
      "metadata": {
        "colab": {
          "base_uri": "https://localhost:8080/"
        },
        "id": "bQKw57eLMPQs",
        "outputId": "40006e41-188d-4cb8-be2d-0811990b632a"
      },
      "outputs": [
        {
          "output_type": "execute_result",
          "data": {
            "text/plain": [
              "12"
            ]
          },
          "metadata": {},
          "execution_count": 18
        }
      ],
      "source": [
        "#Residuo (Operador módulo)\n",
        "\n",
        "a % b"
      ]
    },
    {
      "cell_type": "markdown",
      "metadata": {
        "id": "NGV5PVEmN3IR"
      },
      "source": [
        "Al tener diversas operaciones y consultas dentro de una misma celda de código, todas las operaciones son ejecutadas pero solo la última consulta será visible en el output."
      ]
    },
    {
      "cell_type": "code",
      "execution_count": 19,
      "metadata": {
        "colab": {
          "base_uri": "https://localhost:8080/"
        },
        "id": "wpitkfm1Maye",
        "outputId": "7a82bb32-728f-46eb-ea3f-3b0ac717dd5d"
      },
      "outputs": [
        {
          "output_type": "stream",
          "name": "stdout",
          "text": [
            "142\n",
            "13\n",
            "10.923076923076923\n"
          ]
        }
      ],
      "source": [
        "c = a / b\n",
        "\n",
        "print(a)\n",
        "print(b)\n",
        "print(c)"
      ]
    },
    {
      "cell_type": "code",
      "execution_count": 20,
      "metadata": {
        "colab": {
          "base_uri": "https://localhost:8080/"
        },
        "id": "Bl_FgPvqM6kK",
        "outputId": "4f08596e-8121-4eb7-c520-1a5dd1217f46"
      },
      "outputs": [
        {
          "output_type": "execute_result",
          "data": {
            "text/plain": [
              "(int, float, bool)"
            ]
          },
          "metadata": {},
          "execution_count": 20
        }
      ],
      "source": [
        "#Consultar el tipo de dato de una variable\n",
        "\n",
        "type(a), type(c), type(b1)"
      ]
    },
    {
      "cell_type": "code",
      "execution_count": 21,
      "metadata": {
        "colab": {
          "base_uri": "https://localhost:8080/"
        },
        "id": "wOAZvXk5NZ_d",
        "outputId": "c6535489-4fae-44e4-c3cb-c843b7797573"
      },
      "outputs": [
        {
          "output_type": "execute_result",
          "data": {
            "text/plain": [
              "4586471424"
            ]
          },
          "metadata": {},
          "execution_count": 21
        }
      ],
      "source": [
        "#Operador exponencial\n",
        "\n",
        "24 ** 7"
      ]
    },
    {
      "cell_type": "code",
      "execution_count": 22,
      "metadata": {
        "colab": {
          "base_uri": "https://localhost:8080/"
        },
        "id": "tp71DFIYNt-k",
        "outputId": "f05848a8-2c09-4368-f92f-df7f19865ab6"
      },
      "outputs": [
        {
          "output_type": "execute_result",
          "data": {
            "text/plain": [
              "220456481550294418260989059243567753021091198872134235180889802225934240784005166727806186240638412119140625"
            ]
          },
          "metadata": {},
          "execution_count": 22
        }
      ],
      "source": [
        "#Números muy grandes son soportados en Python\n",
        "\n",
        "54241574455 ** 10"
      ]
    },
    {
      "cell_type": "code",
      "execution_count": 23,
      "metadata": {
        "colab": {
          "base_uri": "https://localhost:8080/"
        },
        "id": "Xq_rFyOhNyEH",
        "outputId": "b4700806-d440-42f8-e045-3e3472eb2efc"
      },
      "outputs": [
        {
          "output_type": "execute_result",
          "data": {
            "text/plain": [
              "2.0476725110792193"
            ]
          },
          "metadata": {},
          "execution_count": 23
        }
      ],
      "source": [
        "#Calculando una raiz como la inversa de la exponencial\n",
        "\n",
        "36 ** (1/5)"
      ]
    },
    {
      "cell_type": "code",
      "execution_count": 24,
      "metadata": {
        "colab": {
          "base_uri": "https://localhost:8080/"
        },
        "id": "QxQuo7UGOAGe",
        "outputId": "2d8bd1a2-7030-47eb-8c29-a9f27277d492"
      },
      "outputs": [
        {
          "output_type": "execute_result",
          "data": {
            "text/plain": [
              "3.8501476017100584"
            ]
          },
          "metadata": {},
          "execution_count": 24
        }
      ],
      "source": [
        "#Llamando a la función log que se encuentra en numpy (alias np)\n",
        "import numpy\n",
        "numpy.log(47)"
      ]
    },
    {
      "cell_type": "markdown",
      "metadata": {
        "id": "08gs7n1zPvEM"
      },
      "source": [
        "## String"
      ]
    },
    {
      "cell_type": "code",
      "execution_count": 25,
      "metadata": {
        "id": "Rz_cQEi1PSQw"
      },
      "outputs": [],
      "source": [
        "s1 = 'Hola, soy un string.'\n",
        "s2 = \"Fundamentos de Programación en Python.\""
      ]
    },
    {
      "cell_type": "code",
      "execution_count": 26,
      "metadata": {
        "colab": {
          "base_uri": "https://localhost:8080/"
        },
        "id": "5mIvqhi0P1xd",
        "outputId": "f5669989-381d-45db-df13-28d6f557583f"
      },
      "outputs": [
        {
          "output_type": "execute_result",
          "data": {
            "text/plain": [
              "str"
            ]
          },
          "metadata": {},
          "execution_count": 26
        }
      ],
      "source": [
        "type(s2)"
      ]
    },
    {
      "cell_type": "code",
      "execution_count": 27,
      "metadata": {
        "colab": {
          "base_uri": "https://localhost:8080/",
          "height": 0
        },
        "id": "mXCNHqxdP4pa",
        "outputId": "a438a9fc-ea82-4113-e06b-bc4b9ef1980f"
      },
      "outputs": [
        {
          "output_type": "execute_result",
          "data": {
            "text/plain": [
              "'Hola, soy un string.Fundamentos de Programación en Python.'"
            ],
            "application/vnd.google.colaboratory.intrinsic+json": {
              "type": "string"
            }
          },
          "metadata": {},
          "execution_count": 27
        }
      ],
      "source": [
        "#Concatenar strings\n",
        "\n",
        "s1 + s2"
      ]
    },
    {
      "cell_type": "code",
      "execution_count": 28,
      "metadata": {
        "colab": {
          "base_uri": "https://localhost:8080/"
        },
        "id": "zj_lV-xSQDUc",
        "outputId": "f4c35115-8d14-4d7b-af8a-445f446e06cd"
      },
      "outputs": [
        {
          "output_type": "execute_result",
          "data": {
            "text/plain": [
              "20"
            ]
          },
          "metadata": {},
          "execution_count": 28
        }
      ],
      "source": [
        "#Cantidad de caracteres de un string\n",
        "\n",
        "len(s1)"
      ]
    },
    {
      "cell_type": "code",
      "execution_count": 29,
      "metadata": {
        "colab": {
          "base_uri": "https://localhost:8080/",
          "height": 0
        },
        "id": "JWimUyIXQMq7",
        "outputId": "99596a48-571d-4d26-c342-21befb987e61"
      },
      "outputs": [
        {
          "output_type": "execute_result",
          "data": {
            "text/plain": [
              "'HOLA, SOY UN STRING.'"
            ],
            "application/vnd.google.colaboratory.intrinsic+json": {
              "type": "string"
            }
          },
          "metadata": {},
          "execution_count": 29
        }
      ],
      "source": [
        "#String convertido a mayúsculas\n",
        "\n",
        "s1.upper()"
      ]
    },
    {
      "cell_type": "code",
      "execution_count": 30,
      "metadata": {
        "colab": {
          "base_uri": "https://localhost:8080/",
          "height": 0
        },
        "id": "bchH66syQnRR",
        "outputId": "1b67edb0-647a-490d-e1bb-2e8f31e81e9f"
      },
      "outputs": [
        {
          "output_type": "execute_result",
          "data": {
            "text/plain": [
              "'Hola, soy un string.Hola, soy un string.'"
            ],
            "application/vnd.google.colaboratory.intrinsic+json": {
              "type": "string"
            }
          },
          "metadata": {},
          "execution_count": 30
        }
      ],
      "source": [
        "#Réplica de un string n veces\n",
        "\n",
        "s1 * 2"
      ]
    },
    {
      "cell_type": "markdown",
      "metadata": {
        "id": "S0Xuw1NVRbu8"
      },
      "source": [
        "## Cast\n",
        "\n",
        "Es la operación de cambio de tipo de dato entre variables:\n",
        "- De int a float\n",
        "- De int a str\n",
        "- De float a str\n",
        "- Viceversa\n",
        "\n",
        "Tener en cuenta que un str se puede convertir a número (int o float) siempre que no tenga otros caracteres, es decir, solo puede estar compuesto por dígitos.\n"
      ]
    },
    {
      "cell_type": "code",
      "execution_count": 31,
      "metadata": {
        "colab": {
          "base_uri": "https://localhost:8080/"
        },
        "id": "r9D-S2JdREhm",
        "outputId": "5d5898f2-2b35-4236-973e-acd57b1551eb"
      },
      "outputs": [
        {
          "output_type": "execute_result",
          "data": {
            "text/plain": [
              "142"
            ]
          },
          "metadata": {},
          "execution_count": 31
        }
      ],
      "source": [
        "a"
      ]
    },
    {
      "cell_type": "code",
      "execution_count": 32,
      "metadata": {
        "colab": {
          "base_uri": "https://localhost:8080/"
        },
        "id": "G_9yzswYRkZE",
        "outputId": "8518cf5b-5d5a-404f-fc17-92444b6a1bf4"
      },
      "outputs": [
        {
          "output_type": "execute_result",
          "data": {
            "text/plain": [
              "142.0"
            ]
          },
          "metadata": {},
          "execution_count": 32
        }
      ],
      "source": [
        "#De int a float\n",
        "\n",
        "float(a)"
      ]
    },
    {
      "cell_type": "code",
      "execution_count": 33,
      "metadata": {
        "colab": {
          "base_uri": "https://localhost:8080/",
          "height": 36
        },
        "id": "Jcp9DXroRtXk",
        "outputId": "dfaad9eb-b4a8-4118-c5cd-6c49ed901b28"
      },
      "outputs": [
        {
          "output_type": "execute_result",
          "data": {
            "text/plain": [
              "'142'"
            ],
            "application/vnd.google.colaboratory.intrinsic+json": {
              "type": "string"
            }
          },
          "metadata": {},
          "execution_count": 33
        }
      ],
      "source": [
        "#De int a str\n",
        "\n",
        "str(a)"
      ]
    },
    {
      "cell_type": "code",
      "execution_count": 34,
      "metadata": {
        "colab": {
          "base_uri": "https://localhost:8080/",
          "height": 36
        },
        "id": "6PA9hicfRxQY",
        "outputId": "28e6f470-e84b-4784-adc2-4442aeda8f0a"
      },
      "outputs": [
        {
          "output_type": "execute_result",
          "data": {
            "text/plain": [
              "'Hola, soy un string.'"
            ],
            "application/vnd.google.colaboratory.intrinsic+json": {
              "type": "string"
            }
          },
          "metadata": {},
          "execution_count": 34
        }
      ],
      "source": [
        "s1"
      ]
    },
    {
      "cell_type": "code",
      "execution_count": 35,
      "metadata": {
        "colab": {
          "base_uri": "https://localhost:8080/"
        },
        "id": "Z7jeUlGHO7wi",
        "outputId": "567973bb-9070-4e23-edd2-487e11bd96a0"
      },
      "outputs": [
        {
          "name": "stdout",
          "output_type": "stream",
          "text": [
            "Ingrese la edad: 23\n"
          ]
        }
      ],
      "source": [
        "edad = input(\"Ingrese la edad: \")"
      ]
    },
    {
      "cell_type": "code",
      "execution_count": 36,
      "metadata": {
        "colab": {
          "base_uri": "https://localhost:8080/"
        },
        "id": "7K9SqXaPR5Fe",
        "outputId": "48af5fa4-8502-489d-fef0-67a939152847"
      },
      "outputs": [
        {
          "name": "stdout",
          "output_type": "stream",
          "text": [
            "Ingrese la edad: 34\n"
          ]
        }
      ],
      "source": [
        "#Solicitamos la edad y convertimos a int, puesto que la función input() siempre devuelve un str\n",
        "\n",
        "edad = int(input(\"Ingrese la edad: \"))"
      ]
    },
    {
      "cell_type": "code",
      "execution_count": 37,
      "metadata": {
        "colab": {
          "base_uri": "https://localhost:8080/"
        },
        "id": "4eMrsQX_SDcP",
        "outputId": "6b769d68-560a-403e-c1e9-3d5ca322a317"
      },
      "outputs": [
        {
          "output_type": "execute_result",
          "data": {
            "text/plain": [
              "39"
            ]
          },
          "metadata": {},
          "execution_count": 37
        }
      ],
      "source": [
        "edad + 5"
      ]
    },
    {
      "cell_type": "code",
      "execution_count": 38,
      "metadata": {
        "colab": {
          "base_uri": "https://localhost:8080/"
        },
        "id": "8IDFB0rPSJZR",
        "outputId": "21b56f07-4c66-4fce-e9ac-c9ad35d3ccdc"
      },
      "outputs": [
        {
          "output_type": "execute_result",
          "data": {
            "text/plain": [
              "10.923076923076923"
            ]
          },
          "metadata": {},
          "execution_count": 38
        }
      ],
      "source": [
        "c"
      ]
    },
    {
      "cell_type": "markdown",
      "metadata": {
        "id": "TxYDSkblYp6c"
      },
      "source": [
        "## Ejercicio 1\n",
        "\n",
        "Solicitar por pantalla 'n' segundos e imprimir la cantidad de horas, minutos y segundos que representa.\n",
        "\n",
        "**Ejemplo:**\n",
        "\n",
        "315\n",
        "\n",
        "\n",
        "0 horas\n",
        "5 minutos\n",
        "15 segundos"
      ]
    },
    {
      "cell_type": "code",
      "execution_count": 39,
      "metadata": {
        "colab": {
          "base_uri": "https://localhost:8080/"
        },
        "id": "jczvtg2_P0OP",
        "outputId": "cba80dd9-aeb7-481e-ae6f-d3542e039e2a"
      },
      "outputs": [
        {
          "name": "stdout",
          "output_type": "stream",
          "text": [
            "Ingrese un numero en segundos:34\n"
          ]
        }
      ],
      "source": [
        "n=int(input(\"Ingrese un numero en segundos:\"))"
      ]
    },
    {
      "cell_type": "code",
      "execution_count": 40,
      "metadata": {
        "colab": {
          "base_uri": "https://localhost:8080/"
        },
        "id": "fjjUc6uM6wdd",
        "outputId": "70658579-c99d-4f06-d170-2827e5340932"
      },
      "outputs": [
        {
          "output_type": "stream",
          "name": "stdout",
          "text": [
            "0 horas 0 minutos 34 segundos\n"
          ]
        }
      ],
      "source": [
        "h=n//3600\n",
        "\n",
        "m=n//60\n",
        "\n",
        "s=n%60\n",
        "\n",
        "print(str(h)+\" horas \"+str(m)+\" minutos \"+str(s)+ \" segundos\")"
      ]
    },
    {
      "cell_type": "markdown",
      "metadata": {
        "id": "afJBoMWrPP1z"
      },
      "source": [
        "## Ejercicio 2\n",
        "\n",
        "Solicitar el peso y la altura de un usuario para informarle cuál es su IMC (Índice de Masa Corporal).\n",
        "\n",
        "**Obs: El IMC se calcula como peso/altura^2**"
      ]
    },
    {
      "cell_type": "code",
      "execution_count": 41,
      "metadata": {
        "colab": {
          "base_uri": "https://localhost:8080/"
        },
        "id": "kv5vRMNHUUeR",
        "outputId": "54469b66-a48c-40a5-ac0d-07c8b1bb265d"
      },
      "outputs": [
        {
          "output_type": "stream",
          "name": "stdout",
          "text": [
            "Ingrese peso: 32\n",
            "ingrese su altura: 1.56\n",
            "su indice de masa corporal es: 13.149243918474687\n"
          ]
        }
      ],
      "source": [
        "peso=float(input(\"Ingrese peso: \"))\n",
        "altura=float(input(\"ingrese su altura: \"))\n",
        "imc=peso/(altura**2)\n",
        "print(\"su indice de masa corporal es: \"+ str(imc))"
      ]
    },
    {
      "cell_type": "markdown",
      "metadata": {
        "id": "jjUhPKW0UICg"
      },
      "source": [
        "## Ejercicio 3\n",
        "\n",
        "Calcular el producto de 444...444 (150 dígitos) por 777...777 (300 dígitos). Sin escribir el número completo."
      ]
    },
    {
      "cell_type": "code",
      "execution_count": 42,
      "metadata": {
        "colab": {
          "base_uri": "https://localhost:8080/"
        },
        "id": "KMT-oQ1wUMuv",
        "outputId": "d1a1cc0b-e6f5-4e33-dd37-24f85a45f0da"
      },
      "outputs": [
        {
          "output_type": "stream",
          "name": "stdout",
          "text": [
            "345679012345679012345679012345679012345679012345679012345679012345679012345679012345679012345679012345679012345679012345679012345679012345679012345678666666666666666666666666666666666666666666666666666666666666666666666666666666666666666666666666666666666666666666666666666666666666666666666666666666320987654320987654320987654320987654320987654320987654320987654320987654320987654320987654320987654320987654320987654320987654320987654320987654320988\n"
          ]
        }
      ],
      "source": [
        "p1=\"4\"*150\n",
        "p2=\"7\"*300\n",
        "print(int(p1)*int(p2))"
      ]
    }
  ],
  "metadata": {
    "colab": {
      "collapsed_sections": [
        "08gs7n1zPvEM"
      ],
      "provenance": []
    },
    "kernelspec": {
      "display_name": "Python 3 (ipykernel)",
      "language": "python",
      "name": "python3"
    },
    "language_info": {
      "codemirror_mode": {
        "name": "ipython",
        "version": 3
      },
      "file_extension": ".py",
      "mimetype": "text/x-python",
      "name": "python",
      "nbconvert_exporter": "python",
      "pygments_lexer": "ipython3",
      "version": "3.11.2"
    }
  },
  "nbformat": 4,
  "nbformat_minor": 0
}