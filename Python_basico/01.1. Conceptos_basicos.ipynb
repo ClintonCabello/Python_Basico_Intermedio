{
  "cells": [
    {
      "cell_type": "markdown",
      "metadata": {
        "id": "fXRv49EQEprR"
      },
      "source": [
        "# S1: Funcionalidades de Python\n"
      ]
    },
    {
      "cell_type": "markdown",
      "metadata": {
        "id": "TrPzmikqEprS"
      },
      "source": [
        "## Funcionalidad 1 - Los comentarios\n"
      ]
    },
    {
      "cell_type": "code",
      "execution_count": 1,
      "metadata": {
        "id": "3JIsQYnbEprS",
        "outputId": "7508915e-9b74-44d7-8ffb-26f7b8e081e7",
        "colab": {
          "base_uri": "https://localhost:8080/"
        }
      },
      "outputs": [
        {
          "output_type": "stream",
          "name": "stdout",
          "text": [
            "el numero es: 50\n"
          ]
        }
      ],
      "source": [
        "#print(\"Hola\")\n",
        "valores_util = 50\n",
        "print(\"el numero es: \"+str(valores_util))"
      ]
    },
    {
      "cell_type": "markdown",
      "metadata": {
        "id": "X13UgzuEEprT"
      },
      "source": [
        "## Funcionalidad 2 - El print()\n"
      ]
    },
    {
      "cell_type": "code",
      "execution_count": 2,
      "metadata": {
        "id": "vECcxj5jEprT",
        "outputId": "556d6ef1-5a28-4566-a184-f8d943a7a131",
        "colab": {
          "base_uri": "https://localhost:8080/"
        }
      },
      "outputs": [
        {
          "output_type": "stream",
          "name": "stdout",
          "text": [
            "My First line\n",
            "10\n",
            "True\n",
            "['Daniel', 'Ana']\n"
          ]
        }
      ],
      "source": [
        "print(\"My First line\")\n",
        "print(10)\n",
        "print(True)\n",
        "print([\"Daniel\", \"Ana\"])\n"
      ]
    },
    {
      "cell_type": "markdown",
      "metadata": {
        "id": "oSiEVsonEprT"
      },
      "source": [
        "## Funcionalidad 3 - Los Strings"
      ]
    },
    {
      "cell_type": "code",
      "execution_count": 3,
      "metadata": {
        "id": "AFNnuqmPEprU",
        "outputId": "3fb0758c-c80e-455f-b497-b8f3e5bafab2",
        "colab": {
          "base_uri": "https://localhost:8080/"
        }
      },
      "outputs": [
        {
          "output_type": "stream",
          "name": "stdout",
          "text": [
            "Hello world\n",
            "we are printing with simple quotes\n"
          ]
        }
      ],
      "source": [
        "# Valid strings\n",
        "print(\"Hello world\")\n",
        "print('we are printing with simple quotes')\n"
      ]
    },
    {
      "cell_type": "code",
      "execution_count": 4,
      "metadata": {
        "id": "xD10w5q1EprU",
        "outputId": "5645cc91-3a7f-4a73-8664-2f6eeee051bd",
        "colab": {
          "base_uri": "https://localhost:8080/"
        }
      },
      "outputs": [
        {
          "output_type": "stream",
          "name": "stdout",
          "text": [
            "A common use of \"strings\"\n"
          ]
        }
      ],
      "source": [
        "# Valid strings\n",
        "print(\"A common use of \\\"strings\\\"\")\n"
      ]
    },
    {
      "cell_type": "markdown",
      "metadata": {
        "id": "FElNViAGEprU"
      },
      "source": [
        "## Funcionalidad 4 - Las Variables"
      ]
    },
    {
      "cell_type": "code",
      "execution_count": 5,
      "metadata": {
        "id": "WnttxAayEprU",
        "outputId": "420a793c-d012-4cc0-c49b-c073ea6f951b",
        "colab": {
          "base_uri": "https://localhost:8080/"
        }
      },
      "outputs": [
        {
          "output_type": "stream",
          "name": "stdout",
          "text": [
            "Hello there\n"
          ]
        }
      ],
      "source": [
        "my_message = \"Hello there\"\n",
        "print(my_message)\n"
      ]
    },
    {
      "cell_type": "code",
      "execution_count": 6,
      "metadata": {
        "id": "mNt35qcsEprU",
        "outputId": "bcbbb990-8556-4124-8453-4ca5552a7b64",
        "colab": {
          "base_uri": "https://localhost:8080/"
        }
      },
      "outputs": [
        {
          "output_type": "stream",
          "name": "stdout",
          "text": [
            "Hello there\n",
            "Hola a todos\n"
          ]
        }
      ],
      "source": [
        "my_message = \"Hello there\"\n",
        "print(my_message)\n",
        "\n",
        "my_message = \"Hola a todos\"\n",
        "print(my_message)"
      ]
    },
    {
      "cell_type": "code",
      "execution_count": 7,
      "metadata": {
        "id": "HQuBCUXwEprU",
        "outputId": "ba00f114-b9bd-4a04-d506-2fc898911dab",
        "colab": {
          "base_uri": "https://localhost:8080/"
        }
      },
      "outputs": [
        {
          "output_type": "stream",
          "name": "stdout",
          "text": [
            "Hola a todos\n",
            "85\n",
            "True\n"
          ]
        }
      ],
      "source": [
        "# Esta variable es inicialmente asignada como un string\n",
        "my_var = \"Hola a todos\"\n",
        "print(my_var)\n",
        "\n",
        "# Puede ser reasignada a otro valor, independiente del tipo\n",
        "my_var = 85\n",
        "print(my_var)\n",
        "\n",
        "my_var = True\n",
        "print(my_var)\n"
      ]
    },
    {
      "cell_type": "markdown",
      "metadata": {
        "id": "Dn4uQBpgEprV"
      },
      "source": [
        "## Funcionalidad 5 - Los Errores"
      ]
    },
    {
      "cell_type": "markdown",
      "metadata": {
        "id": "rytXOAuHEprV"
      },
      "source": [
        "Cuando nos encontramos con un error no esperado, a esto lo llamamos “bugs”\n",
        "Dos errores comunes en python son SyntaxError y NameError\n",
        "\n",
        "#### SyntaxError: significa que algo está mal escrito en el programa, como puntuaciones donde no pertenecen, no hay paréntesis de cierre, etc.\n",
        "\n",
        "#### NameError: cuando el interpretador de python ve una palabra que no reconoce, como una variable no definida por ejemplo.\n"
      ]
    },
    {
      "cell_type": "markdown",
      "metadata": {
        "id": "_Udw8w0GEprV"
      },
      "source": [
        "## Funcionalidad 6 - Los Números"
      ]
    },
    {
      "cell_type": "markdown",
      "metadata": {
        "id": "2ekcLW5jEprV"
      },
      "source": [
        "Hay dos tipos de datos numéricos en python: int como integer y float como decimal\n"
      ]
    },
    {
      "cell_type": "code",
      "execution_count": 8,
      "metadata": {
        "id": "kwem9qYbEprV",
        "outputId": "154080fc-b1c7-46a6-e251-2efe074836fc",
        "colab": {
          "base_uri": "https://localhost:8080/"
        }
      },
      "outputs": [
        {
          "output_type": "stream",
          "name": "stdout",
          "text": [
            "7\n"
          ]
        }
      ],
      "source": [
        "the_int = 4\n",
        "the_float = 4.5\n",
        "\n",
        "print(the_int + 3)\n",
        "# prints 7\n"
      ]
    },
    {
      "cell_type": "markdown",
      "metadata": {
        "id": "UG8Usl8-EprV"
      },
      "source": [
        "## Funcionalidad 7 -  Los Cálculos"
      ]
    },
    {
      "cell_type": "code",
      "execution_count": 9,
      "metadata": {
        "id": "NXNFrixjEprV",
        "outputId": "b0d6214f-7d2e-469e-f672-a61d7323e74e",
        "colab": {
          "base_uri": "https://localhost:8080/"
        }
      },
      "outputs": [
        {
          "output_type": "stream",
          "name": "stdout",
          "text": [
            "500\n",
            "50\n",
            "2.0\n"
          ]
        }
      ],
      "source": [
        "#Prints \"500\"\n",
        "print(573 - 74 + 1)\n",
        "\n",
        "#Prints \"50\"\n",
        "print(25 * 2)\n",
        "\n",
        "#Prints \"2.0\"\n",
        "print(10/5)\n"
      ]
    },
    {
      "cell_type": "markdown",
      "metadata": {
        "id": "y8T6w3hBEprV"
      },
      "source": [
        "## Funcionalidad 8 -  Cambiando Números"
      ]
    },
    {
      "cell_type": "code",
      "execution_count": 10,
      "metadata": {
        "id": "GDLhJdLVEprW",
        "outputId": "f55855ca-850a-4243-fbdb-79b8786bcd47",
        "colab": {
          "base_uri": "https://localhost:8080/"
        }
      },
      "outputs": [
        {
          "output_type": "stream",
          "name": "stdout",
          "text": [
            "6.0\n",
            "1.5\n",
            "4\n",
            "8\n",
            "2\n",
            "4\n"
          ]
        }
      ],
      "source": [
        "ice_cream_price = 1.50\n",
        "number_of_ice_creams = 4\n",
        "\n",
        "# prints \"6.0\"\n",
        "print(ice_cream_price * number_of_ice_creams)\n",
        "\n",
        "# prints \"1.5\"\n",
        "print(ice_cream_price)\n",
        "\n",
        "#prints #4\n",
        "print(number_of_ice_creams)\n",
        "\n",
        "\n",
        "# Updating the price\n",
        "ice_cream_price = 2\n",
        "\n",
        "# prints \"8\"\n",
        "print(ice_cream_price * number_of_ice_creams)\n",
        "\n",
        "# prints \"2\"\n",
        "print(ice_cream_price)\n",
        "\n",
        "#prints #4\n",
        "print(number_of_ice_creams)\n"
      ]
    },
    {
      "cell_type": "markdown",
      "metadata": {
        "id": "oFUoZ2O6EprW"
      },
      "source": [
        "## Funcionalidad 9 -  Exponenciales"
      ]
    },
    {
      "cell_type": "code",
      "execution_count": 11,
      "metadata": {
        "id": "737Ny-b1EprW",
        "colab": {
          "base_uri": "https://localhost:8080/"
        },
        "outputId": "cd7f7352-9b32-4c50-b936-d61197f59e37"
      },
      "outputs": [
        {
          "output_type": "stream",
          "name": "stdout",
          "text": [
            "1024\n",
            "64\n",
            "729\n",
            "2.0\n"
          ]
        }
      ],
      "source": [
        "# 2 to the 10th power, or 1.24\n",
        "print(2 ** 10)\n",
        "\n",
        "# 8 squared, or 64\n",
        "print(8 ** 2)\n",
        "\n",
        "# 9 * 9 * 9, 9 cubed, or 729\n",
        "print(9 ** 3)\n",
        "\n",
        "# We can even perform fractional exponents, 4 to the half power, or 2\n",
        "print(4 ** 0.5)\n"
      ]
    },
    {
      "cell_type": "markdown",
      "metadata": {
        "id": "tVfVbvamEprW"
      },
      "source": [
        "## Funcionalidad 10 -  El Módulo"
      ]
    },
    {
      "cell_type": "code",
      "execution_count": 12,
      "metadata": {
        "id": "ES7kD-1oEprW",
        "colab": {
          "base_uri": "https://localhost:8080/"
        },
        "outputId": "46431004-bb3e-4617-de2a-e0fa622b9cd2"
      },
      "outputs": [
        {
          "output_type": "stream",
          "name": "stdout",
          "text": [
            "4\n",
            "2\n",
            "0\n"
          ]
        }
      ],
      "source": [
        "# prints 4 because 29/5 is 5 with a remainder of 4\n",
        "print(29 % 5)\n",
        "\n",
        "# prints 2 because 32/3 is 10 with a remainder of 2\n",
        "print(32 % 3)\n",
        "\n",
        "# Modulo by 2 returns 0 for even numbers and 1 for odd numbers\n",
        "# print 0\n",
        "print(44 % 2)\n"
      ]
    },
    {
      "cell_type": "markdown",
      "metadata": {
        "id": "NdxyRpRzEprW"
      },
      "source": [
        "## Funcionalidad 11 -  La Concatenación"
      ]
    },
    {
      "cell_type": "code",
      "execution_count": 13,
      "metadata": {
        "id": "_lgFfpoGEprW",
        "colab": {
          "base_uri": "https://localhost:8080/"
        },
        "outputId": "583aceea-982c-4091-8091-39b5ee576e9b"
      },
      "outputs": [
        {
          "output_type": "stream",
          "name": "stdout",
          "text": [
            "I am 19 years old\n"
          ]
        }
      ],
      "source": [
        "my_birthday = \"I am \"\n",
        "age = 19\n",
        "my_birthday_two = \" years old\"\n",
        "\n",
        "# Concatenating an integer with strings is possible if we turn the integer into a string first\n",
        "full_string = my_birthday + str(age) + my_birthday_two\n",
        "# prints \"I am 19 years old\"\n",
        "print(full_string)\n"
      ]
    },
    {
      "cell_type": "markdown",
      "metadata": {
        "id": "YUZmTSadEprW"
      },
      "source": [
        "## Funcionalidad 12 -  El Más Igual (+=)"
      ]
    },
    {
      "cell_type": "code",
      "execution_count": 14,
      "metadata": {
        "id": "_rg3WCSJEprW",
        "colab": {
          "base_uri": "https://localhost:8080/"
        },
        "outputId": "b193e112-397f-409e-8e2e-8ed8a890630b"
      },
      "outputs": [
        {
          "output_type": "stream",
          "name": "stdout",
          "text": [
            "12\n"
          ]
        }
      ],
      "source": [
        "# we have a variable with a number saved\n",
        "number_km_runned = 10\n",
        "# we need to update with another 2 kms today\n",
        "number_km_runned += 2\n",
        "# when we print, the new value is the old value plus the number after plus-euqlas\n",
        "print(number_km_runned)\n",
        "#Prints 12\n"
      ]
    },
    {
      "cell_type": "markdown",
      "metadata": {
        "id": "tp_pexIDEprW"
      },
      "source": [
        "## Funcionalidad 13 -  Strings Multilinea"
      ]
    },
    {
      "cell_type": "code",
      "execution_count": 15,
      "metadata": {
        "id": "i10CfLoqEprW",
        "outputId": "ee8b2a68-3b38-459f-fc50-abdcb95edce9",
        "colab": {
          "base_uri": "https://localhost:8080/"
        }
      },
      "outputs": [
        {
          "output_type": "stream",
          "name": "stdout",
          "text": [
            "\n",
            "Lorem ipsum dolor sit amet, consectetur adipisicing elit, sed do eiusmod tempor\n",
            "incididunt ut labore et dolore magna aliqua. Ut enim ad minim veniam, quis nostrud\n",
            "exercitation ullamco laboris nisi ut aliquip ex ea commodo consequat. Duis aute irure\n",
            "dolor in reprehenderit in voluptate velit esse cillum dolore eu fugiat nulla\n",
            "pariatur. Excepteur sint occaecat cupidatat non proident, sunt in culpa qui officia\n",
            "deserunt mollit anim id est laborum.\n",
            "\n"
          ]
        }
      ],
      "source": [
        "lorem_ipsum = \"\"\"\n",
        "Lorem ipsum dolor sit amet, consectetur adipisicing elit, sed do eiusmod tempor\n",
        "incididunt ut labore et dolore magna aliqua. Ut enim ad minim veniam, quis nostrud\n",
        "exercitation ullamco laboris nisi ut aliquip ex ea commodo consequat. Duis aute irure\n",
        "dolor in reprehenderit in voluptate velit esse cillum dolore eu fugiat nulla\n",
        "pariatur. Excepteur sint occaecat cupidatat non proident, sunt in culpa qui officia\n",
        "deserunt mollit anim id est laborum.\n",
        "\"\"\"\n",
        "print(lorem_ipsum)"
      ]
    }
  ],
  "metadata": {
    "kernelspec": {
      "display_name": "Python 3 (ipykernel)",
      "language": "python",
      "name": "python3"
    },
    "language_info": {
      "codemirror_mode": {
        "name": "ipython",
        "version": 3
      },
      "file_extension": ".py",
      "mimetype": "text/x-python",
      "name": "python",
      "nbconvert_exporter": "python",
      "pygments_lexer": "ipython3",
      "version": "3.11.2"
    },
    "colab": {
      "provenance": []
    }
  },
  "nbformat": 4,
  "nbformat_minor": 0
}