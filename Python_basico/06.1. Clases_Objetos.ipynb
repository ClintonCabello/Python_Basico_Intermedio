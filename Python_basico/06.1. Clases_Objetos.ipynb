{
  "cells": [
    {
      "cell_type": "markdown",
      "metadata": {
        "id": "lEzMFO_nT8BX"
      },
      "source": [
        "### Programación orientada a objetos"
      ]
    },
    {
      "cell_type": "code",
      "execution_count": 1,
      "metadata": {
        "id": "TW05WHo1vz_7"
      },
      "outputs": [],
      "source": [
        "class Proveedor():\n",
        "\n",
        "  # Atributos por defecto\n",
        "  nombre = 'Juan'\n",
        "  correo = 'juan@gmail.com'"
      ]
    },
    {
      "cell_type": "code",
      "execution_count": 2,
      "metadata": {
        "id": "cyZJf3tzwEuc"
      },
      "outputs": [],
      "source": [
        "p1 = Proveedor()\n",
        "p2 = Proveedor()"
      ]
    },
    {
      "cell_type": "code",
      "execution_count": 3,
      "metadata": {
        "colab": {
          "base_uri": "https://localhost:8080/"
        },
        "id": "sgb7VOzawK-w",
        "outputId": "82418a71-f99a-4114-bbe4-0cf824627e90"
      },
      "outputs": [
        {
          "output_type": "execute_result",
          "data": {
            "text/plain": [
              "__main__.Proveedor"
            ]
          },
          "metadata": {},
          "execution_count": 3
        }
      ],
      "source": [
        "type(p1)"
      ]
    },
    {
      "cell_type": "code",
      "execution_count": 4,
      "metadata": {
        "colab": {
          "base_uri": "https://localhost:8080/",
          "height": 36
        },
        "id": "YGNWFkeRwQdU",
        "outputId": "9b785ede-31a7-4d2e-8fe7-7e5b8c4f3604"
      },
      "outputs": [
        {
          "output_type": "execute_result",
          "data": {
            "text/plain": [
              "'juan@gmail.com'"
            ],
            "application/vnd.google.colaboratory.intrinsic+json": {
              "type": "string"
            }
          },
          "metadata": {},
          "execution_count": 4
        }
      ],
      "source": [
        "p1.correo"
      ]
    },
    {
      "cell_type": "code",
      "execution_count": 5,
      "metadata": {
        "colab": {
          "base_uri": "https://localhost:8080/",
          "height": 36
        },
        "id": "E371h8MjwZSH",
        "outputId": "7bf0c3d2-bde6-416e-fc95-fc884cf05363"
      },
      "outputs": [
        {
          "output_type": "execute_result",
          "data": {
            "text/plain": [
              "'juan@gmail.com'"
            ],
            "application/vnd.google.colaboratory.intrinsic+json": {
              "type": "string"
            }
          },
          "metadata": {},
          "execution_count": 5
        }
      ],
      "source": [
        "p2.correo"
      ]
    },
    {
      "cell_type": "code",
      "execution_count": 6,
      "metadata": {
        "id": "SFpm1hDkwcaN"
      },
      "outputs": [],
      "source": [
        "p2.nombre = 'Maria'\n",
        "p2.correo = 'maria@gmail.com'"
      ]
    },
    {
      "cell_type": "code",
      "execution_count": 7,
      "metadata": {
        "colab": {
          "base_uri": "https://localhost:8080/"
        },
        "id": "aTz07welwjPB",
        "outputId": "a586dc4f-0f93-49b6-f56b-07846ff92982"
      },
      "outputs": [
        {
          "output_type": "execute_result",
          "data": {
            "text/plain": [
              "('Maria', 'maria@gmail.com')"
            ]
          },
          "metadata": {},
          "execution_count": 7
        }
      ],
      "source": [
        "p2.nombre, p2.correo"
      ]
    },
    {
      "cell_type": "code",
      "execution_count": 8,
      "metadata": {
        "colab": {
          "base_uri": "https://localhost:8080/"
        },
        "id": "Ve3Sz0jlwpu4",
        "outputId": "e6c59fbe-7f81-4f6a-cee2-3e4b72486bfb"
      },
      "outputs": [
        {
          "output_type": "execute_result",
          "data": {
            "text/plain": [
              "('Juan', 'juan@gmail.com')"
            ]
          },
          "metadata": {},
          "execution_count": 8
        }
      ],
      "source": [
        "p1.nombre, p1.correo"
      ]
    },
    {
      "cell_type": "code",
      "execution_count": 9,
      "metadata": {
        "id": "bz1-IxPIxC_t"
      },
      "outputs": [],
      "source": [
        "class Proveedor_new():\n",
        "\n",
        "  # Atributo por defecto\n",
        "  cliente = True\n",
        "\n",
        "  # Inicializador (usado para crear atributos propios)\n",
        "  def __init__(self, nombre, edad):\n",
        "    self.name = nombre\n",
        "    self.age  = edad"
      ]
    },
    {
      "cell_type": "code",
      "execution_count": 10,
      "metadata": {
        "id": "jA-oRorSx2F9"
      },
      "outputs": [],
      "source": [
        "p3 = Proveedor_new('Axel', 27)\n",
        "p4 = Proveedor_new('Leonardo', 29)"
      ]
    },
    {
      "cell_type": "code",
      "execution_count": 11,
      "metadata": {
        "colab": {
          "base_uri": "https://localhost:8080/"
        },
        "id": "A7Bg5IMo8Wk4",
        "outputId": "0296f192-d2d6-4af1-9c0b-7521a03cfa70"
      },
      "outputs": [
        {
          "output_type": "execute_result",
          "data": {
            "text/plain": [
              "27"
            ]
          },
          "metadata": {},
          "execution_count": 11
        }
      ],
      "source": [
        "p3.age"
      ]
    },
    {
      "cell_type": "code",
      "execution_count": 12,
      "metadata": {
        "colab": {
          "base_uri": "https://localhost:8080/"
        },
        "id": "HCXNXhMGx5oj",
        "outputId": "7bf43ea4-a5e9-42dd-f527-9653db328251"
      },
      "outputs": [
        {
          "output_type": "execute_result",
          "data": {
            "text/plain": [
              "56"
            ]
          },
          "metadata": {},
          "execution_count": 12
        }
      ],
      "source": [
        "p3.age + p4.age"
      ]
    },
    {
      "cell_type": "code",
      "execution_count": 13,
      "metadata": {
        "colab": {
          "base_uri": "https://localhost:8080/"
        },
        "id": "z9AYkvp7yUPx",
        "outputId": "03c88d12-bb59-4845-f023-2207d3e44139"
      },
      "outputs": [
        {
          "output_type": "execute_result",
          "data": {
            "text/plain": [
              "(True, True)"
            ]
          },
          "metadata": {},
          "execution_count": 13
        }
      ],
      "source": [
        "p3.cliente, p4.cliente"
      ]
    },
    {
      "cell_type": "markdown",
      "metadata": {
        "id": "VGDmasQEyvKt"
      },
      "source": [
        "### Ejercicio 1.\n",
        "\n",
        "Crear la clase Auto con sus respectivos métodos de Arranque y Apagado."
      ]
    },
    {
      "cell_type": "code",
      "execution_count": 14,
      "metadata": {
        "id": "IG65eX8vB2di"
      },
      "outputs": [],
      "source": [
        "class Auto():\n",
        "\n",
        "  #Atributo inicial\n",
        "  categoria = 'SUV'\n",
        "\n",
        "  #Se define el constructor indicando los parámetros que pasarán a convertirse en los atributos del objeto\n",
        "  def __init__(self, ma, mo, pl, en):\n",
        "    self.marca = ma\n",
        "    self.modelo = mo\n",
        "    self.placa = pl\n",
        "    self.encendido = en\n",
        "\n",
        "  #Método arranque, solo self porque es necesario el acceso a los atributos del objeto\n",
        "  def arranque(self):\n",
        "    print('--- Encendiendo el auto ---')\n",
        "    self.encendido = True\n",
        "    print('Auto encendido')\n",
        "\n",
        "  def apagado(self):\n",
        "    print('--- Apagando el auto ---')\n",
        "    self.encendido = False\n",
        "    print('Auto apagado')"
      ]
    },
    {
      "cell_type": "code",
      "execution_count": 15,
      "metadata": {
        "id": "vKeq--5IuX5X"
      },
      "outputs": [],
      "source": [
        "a1 = Auto('Toyota', 'RAV4', 'BPH-450', False)"
      ]
    },
    {
      "cell_type": "code",
      "execution_count": 16,
      "metadata": {
        "colab": {
          "base_uri": "https://localhost:8080/",
          "height": 104
        },
        "id": "FXzgrGayuX7h",
        "outputId": "bf9fd60c-795c-4fd2-e280-cbfc67f7e836"
      },
      "outputs": [
        {
          "output_type": "execute_result",
          "data": {
            "text/plain": [
              "__main__.Auto"
            ],
            "text/html": [
              "<div style=\"max-width:800px; border: 1px solid var(--colab-border-color);\"><style>\n",
              "      pre.function-repr-contents {\n",
              "        overflow-x: auto;\n",
              "        padding: 8px 12px;\n",
              "        max-height: 500px;\n",
              "      }\n",
              "\n",
              "      pre.function-repr-contents.function-repr-contents-collapsed {\n",
              "        cursor: pointer;\n",
              "        max-height: 100px;\n",
              "      }\n",
              "    </style>\n",
              "    <pre style=\"white-space: initial; background:\n",
              "         var(--colab-secondary-surface-color); padding: 8px 12px;\n",
              "         border-bottom: 1px solid var(--colab-border-color);\"><b>Auto</b><br/>def __init__(ma, mo, pl, en)</pre><pre class=\"function-repr-contents function-repr-contents-collapsed\" style=\"\"><a class=\"filepath\" style=\"display:none\" href=\"#\"></a>&lt;no docstring&gt;</pre></div>"
            ]
          },
          "metadata": {},
          "execution_count": 16
        }
      ],
      "source": [
        "type(a1)"
      ]
    },
    {
      "cell_type": "code",
      "execution_count": 17,
      "metadata": {
        "colab": {
          "base_uri": "https://localhost:8080/"
        },
        "id": "PYLjiFmtumB7",
        "outputId": "162e1c83-72e8-4c96-ce72-e670cc85408a"
      },
      "outputs": [
        {
          "output_type": "stream",
          "name": "stdout",
          "text": [
            "--- Encendiendo el auto ---\n",
            "Auto encendido\n"
          ]
        }
      ],
      "source": [
        "a1.arranque()"
      ]
    },
    {
      "cell_type": "code",
      "execution_count": 18,
      "metadata": {
        "colab": {
          "base_uri": "https://localhost:8080/"
        },
        "id": "mvF2hkz7u1n1",
        "outputId": "f2309a97-70f2-4a54-95a7-893cf803eb2e"
      },
      "outputs": [
        {
          "output_type": "execute_result",
          "data": {
            "text/plain": [
              "True"
            ]
          },
          "metadata": {},
          "execution_count": 18
        }
      ],
      "source": [
        "a1.encendido"
      ]
    },
    {
      "cell_type": "code",
      "execution_count": 19,
      "metadata": {
        "colab": {
          "base_uri": "https://localhost:8080/"
        },
        "id": "cEC0h_35u1qS",
        "outputId": "ebc1bd4b-b3fc-474c-d19d-f948ffe0581b"
      },
      "outputs": [
        {
          "output_type": "stream",
          "name": "stdout",
          "text": [
            "--- Apagando el auto ---\n",
            "Auto apagado\n"
          ]
        }
      ],
      "source": [
        "a1.apagado()"
      ]
    },
    {
      "cell_type": "code",
      "execution_count": 20,
      "metadata": {
        "colab": {
          "base_uri": "https://localhost:8080/"
        },
        "id": "I0iOehKGv1dS",
        "outputId": "ee93a5e7-08ae-4aea-b9d1-1e2f03939408"
      },
      "outputs": [
        {
          "output_type": "execute_result",
          "data": {
            "text/plain": [
              "False"
            ]
          },
          "metadata": {},
          "execution_count": 20
        }
      ],
      "source": [
        "a1.encendido"
      ]
    },
    {
      "cell_type": "markdown",
      "metadata": {
        "id": "UseTrwtA4VHa"
      },
      "source": [
        "## Ejercicio 2.\n",
        "\n",
        "Crear la clase Vendedor que permita:\n",
        "\n",
        "- Añadir nuevos vendedores (idVendedor, nombre).\n",
        "- Añadir unidades vendidas.\n",
        "- Calcular el porcentaje de avance (2 decimales) con respecto a su meta (Todos los vendedores tienen una meta de 1450 unidades).\n",
        "      El vendedor Pepe está al 48.52% de avance."
      ]
    },
    {
      "cell_type": "code",
      "execution_count": 21,
      "metadata": {
        "id": "1uKQ2t3k4_tZ"
      },
      "outputs": [],
      "source": [
        "class Vendedor:\n",
        "\n",
        "  #Definiendo atributos iniciales para todos los objetos creados\n",
        "  meta = 1450\n",
        "  unidades_vendidas = 0\n",
        "\n",
        "  #Constructor que recibe 2 parámetros\n",
        "  def __init__(self, idVendedor, nombre):\n",
        "    self.id = idVendedor\n",
        "    self.name = nombre\n",
        "\n",
        "  #Método para actualizar el valor de las ventas\n",
        "  def ventaNueva(self, unidades):\n",
        "    self.unidades_vendidas = self.unidades_vendidas + unidades\n",
        "\n",
        "  #Método para calcular el avance de ventas del vendedor\n",
        "  def calculaAvance(self):\n",
        "    avance = self.unidades_vendidas / self.meta\n",
        "    print('El vendedor', self.name, 'está al', round(avance*100, 2), '% de avance.')"
      ]
    },
    {
      "cell_type": "code",
      "execution_count": 22,
      "metadata": {
        "id": "2aoprfsBxoms"
      },
      "outputs": [],
      "source": [
        "v1 = Vendedor('0001', 'Alonso')"
      ]
    },
    {
      "cell_type": "code",
      "execution_count": 23,
      "metadata": {
        "colab": {
          "base_uri": "https://localhost:8080/"
        },
        "id": "_MAcJAX9xuT5",
        "outputId": "60147bb2-8dd6-427a-83fb-2ae88a7a126a"
      },
      "outputs": [
        {
          "output_type": "execute_result",
          "data": {
            "text/plain": [
              "1450"
            ]
          },
          "metadata": {},
          "execution_count": 23
        }
      ],
      "source": [
        "v1.meta"
      ]
    },
    {
      "cell_type": "code",
      "execution_count": 24,
      "metadata": {
        "colab": {
          "base_uri": "https://localhost:8080/"
        },
        "id": "Vd6JYHG2xvvZ",
        "outputId": "1939e89d-baba-4a44-b4f6-ed6ba92abe56"
      },
      "outputs": [
        {
          "output_type": "execute_result",
          "data": {
            "text/plain": [
              "0"
            ]
          },
          "metadata": {},
          "execution_count": 24
        }
      ],
      "source": [
        "v1.unidades_vendidas"
      ]
    },
    {
      "cell_type": "code",
      "execution_count": 25,
      "metadata": {
        "id": "rS40XM45xxEJ"
      },
      "outputs": [],
      "source": [
        "v1.ventaNueva(200)"
      ]
    },
    {
      "cell_type": "code",
      "execution_count": 26,
      "metadata": {
        "id": "VbH4rt1mx061"
      },
      "outputs": [],
      "source": [
        "v1.ventaNueva(500)"
      ]
    },
    {
      "cell_type": "code",
      "execution_count": 27,
      "metadata": {
        "colab": {
          "base_uri": "https://localhost:8080/"
        },
        "id": "4FGLagLWx3H8",
        "outputId": "5f7947cb-7192-4f4f-9004-5cfaed43bb35"
      },
      "outputs": [
        {
          "output_type": "execute_result",
          "data": {
            "text/plain": [
              "700"
            ]
          },
          "metadata": {},
          "execution_count": 27
        }
      ],
      "source": [
        "v1.unidades_vendidas"
      ]
    },
    {
      "cell_type": "code",
      "execution_count": 28,
      "metadata": {
        "colab": {
          "base_uri": "https://localhost:8080/"
        },
        "id": "ggDQxESbx5jJ",
        "outputId": "1f1c7765-65e2-49fb-8847-2d786382b920"
      },
      "outputs": [
        {
          "output_type": "stream",
          "name": "stdout",
          "text": [
            "El vendedor Alonso está al 48.28 % de avance.\n"
          ]
        }
      ],
      "source": [
        "v1.calculaAvance()"
      ]
    },
    {
      "cell_type": "code",
      "execution_count": 29,
      "metadata": {
        "id": "3xrOvnrix-kn"
      },
      "outputs": [],
      "source": [
        "v1.ventaNueva(1000)"
      ]
    },
    {
      "cell_type": "code",
      "execution_count": 30,
      "metadata": {
        "colab": {
          "base_uri": "https://localhost:8080/"
        },
        "id": "Zh0nTFnUyLgu",
        "outputId": "d62584b5-ba76-474f-914c-906dd8e44b81"
      },
      "outputs": [
        {
          "output_type": "stream",
          "name": "stdout",
          "text": [
            "El vendedor Alonso está al 117.24 % de avance.\n"
          ]
        }
      ],
      "source": [
        "v1.calculaAvance()"
      ]
    },
    {
      "cell_type": "code",
      "execution_count": 31,
      "metadata": {
        "id": "HqSQnnypyM-a"
      },
      "outputs": [],
      "source": [
        "v2 = Vendedor('0002', 'Julio')"
      ]
    },
    {
      "cell_type": "code",
      "execution_count": 32,
      "metadata": {
        "id": "pf_wt4Np_0ol"
      },
      "outputs": [],
      "source": [
        "v2.ventaNueva(1400)"
      ]
    },
    {
      "cell_type": "code",
      "execution_count": 33,
      "metadata": {
        "colab": {
          "base_uri": "https://localhost:8080/"
        },
        "id": "hoh0qyQi_0om",
        "outputId": "0dd52241-d20d-4f64-a9b6-a039fe52b386"
      },
      "outputs": [
        {
          "output_type": "stream",
          "name": "stdout",
          "text": [
            "El vendedor Julio está al 96.55 % de avance.\n"
          ]
        }
      ],
      "source": [
        "v2.calculaAvance()"
      ]
    },
    {
      "cell_type": "code",
      "execution_count": 33,
      "metadata": {
        "id": "5uiu-tHN_0om"
      },
      "outputs": [],
      "source": []
    }
  ],
  "metadata": {
    "colab": {
      "provenance": []
    },
    "kernelspec": {
      "display_name": "Python 3",
      "language": "python",
      "name": "python3"
    },
    "language_info": {
      "codemirror_mode": {
        "name": "ipython",
        "version": 3
      },
      "file_extension": ".py",
      "mimetype": "text/x-python",
      "name": "python",
      "nbconvert_exporter": "python",
      "pygments_lexer": "ipython3",
      "version": "3.8.5"
    }
  },
  "nbformat": 4,
  "nbformat_minor": 0
}