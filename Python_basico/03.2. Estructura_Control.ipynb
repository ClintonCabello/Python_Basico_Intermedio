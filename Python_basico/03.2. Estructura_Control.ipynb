{
  "cells": [
    {
      "cell_type": "markdown",
      "metadata": {
        "id": "J8sOjq4auugN"
      },
      "source": [
        "# ESTRUCTURAS DE CONTROL\n",
        "\n",
        "# if - elif - else"
      ]
    },
    {
      "cell_type": "code",
      "execution_count": 1,
      "metadata": {
        "colab": {
          "base_uri": "https://localhost:8080/"
        },
        "id": "8j_db5L-sayQ",
        "outputId": "65404558-8c5c-4c95-b993-28ca7e54968c"
      },
      "outputs": [
        {
          "output_type": "stream",
          "name": "stdout",
          "text": [
            "1.Fuera del if\n",
            "Adulto mayor\n",
            "Dentro del if\n",
            "2.Fuera del if\n"
          ]
        }
      ],
      "source": [
        "# if\n",
        "\n",
        "edad = 70\n",
        "\n",
        "print('1.Fuera del if')\n",
        "\n",
        "if edad >= 60:\n",
        "    print('Adulto mayor')\n",
        "    print('Dentro del if')\n",
        "print('2.Fuera del if')"
      ]
    },
    {
      "cell_type": "code",
      "execution_count": 2,
      "metadata": {
        "colab": {
          "base_uri": "https://localhost:8080/"
        },
        "id": "aEZiz5y4tvi6",
        "outputId": "f5396fde-e477-441f-8e5b-c67f23290d5b"
      },
      "outputs": [
        {
          "output_type": "stream",
          "name": "stdout",
          "text": [
            "Adulto\n"
          ]
        }
      ],
      "source": [
        "# if - else\n",
        "\n",
        "edad = 30\n",
        "\n",
        "if edad >= 60:\n",
        "  print(\"Adulto mayor\")\n",
        "else:\n",
        "  print(\"Adulto\")"
      ]
    },
    {
      "cell_type": "code",
      "execution_count": 3,
      "metadata": {
        "colab": {
          "base_uri": "https://localhost:8080/"
        },
        "id": "89bdSQNvtx74",
        "outputId": "f0319b7b-6062-483d-a9b9-e8ea4811c499"
      },
      "outputs": [
        {
          "output_type": "stream",
          "name": "stdout",
          "text": [
            "Adulto mayor\n"
          ]
        }
      ],
      "source": [
        "edad = 65\n",
        "\n",
        "if edad >= 60:\n",
        "  print(\"Adulto mayor\")\n",
        "else:\n",
        "  if edad <= 25:\n",
        "    print(\"Joven\")\n",
        "  else:\n",
        "    print(\"Adulto\")"
      ]
    },
    {
      "cell_type": "code",
      "execution_count": 4,
      "metadata": {
        "colab": {
          "base_uri": "https://localhost:8080/"
        },
        "id": "baHX5UWMt0Xv",
        "outputId": "222203e0-ae96-420b-8e0e-de1615857ff6"
      },
      "outputs": [
        {
          "output_type": "stream",
          "name": "stdout",
          "text": [
            "Adulto joven\n"
          ]
        }
      ],
      "source": [
        "# if - elif - else\n",
        "\n",
        "edad = 39\n",
        "\n",
        "if edad >= 60:\n",
        "  print(\"Adulto mayor\")\n",
        "elif edad <= 25:\n",
        "  print(\"Joven\")\n",
        "elif edad <= 40:\n",
        "  print(\"Adulto joven\")\n",
        "else:\n",
        "  print(\"Adulto\")"
      ]
    },
    {
      "cell_type": "markdown",
      "metadata": {
        "id": "XtWMgZwwu0e7"
      },
      "source": [
        "# for - while"
      ]
    },
    {
      "cell_type": "code",
      "execution_count": 5,
      "metadata": {
        "colab": {
          "base_uri": "https://localhost:8080/"
        },
        "id": "brfc5bhQuAjn",
        "outputId": "12bee730-05b5-4a31-e219-32d7715b41a3"
      },
      "outputs": [
        {
          "output_type": "stream",
          "name": "stdout",
          "text": [
            "2015\n",
            "2016\n",
            "2017\n",
            "2018\n",
            "2019\n",
            "2020\n",
            "2021\n",
            "2022\n"
          ]
        }
      ],
      "source": [
        "#while\n",
        "\n",
        "año = 2015\n",
        "\n",
        "while año <= 2022:\n",
        "  print(año)\n",
        "  año += 1"
      ]
    },
    {
      "cell_type": "code",
      "execution_count": 6,
      "metadata": {
        "colab": {
          "base_uri": "https://localhost:8080/"
        },
        "id": "cE5IRviS9ISe",
        "outputId": "f70fbb49-8c53-47b9-8d23-021214c1be58"
      },
      "outputs": [
        {
          "output_type": "stream",
          "name": "stdout",
          "text": [
            "1\n",
            "2\n",
            "3\n",
            "4\n",
            "5\n"
          ]
        }
      ],
      "source": [
        "a = 1\n",
        "while a <=5:\n",
        "    print(a)\n",
        "    a = a+1"
      ]
    },
    {
      "cell_type": "code",
      "execution_count": 7,
      "metadata": {
        "colab": {
          "base_uri": "https://localhost:8080/"
        },
        "id": "yriAOnJ62vL0",
        "outputId": "fa0aa5f0-2497-4939-a019-bcf95f92e08e"
      },
      "outputs": [
        {
          "name": "stdout",
          "output_type": "stream",
          "text": [
            "Ingrese el genero:M\n"
          ]
        }
      ],
      "source": [
        "genero = input('Ingrese el genero:') # G\n",
        "        # G != M   and      G != F\n",
        "while genero != 'M' and genero != 'F':\n",
        "  genero = input('Ingrese el genero: ')"
      ]
    },
    {
      "cell_type": "code",
      "execution_count": 8,
      "metadata": {
        "colab": {
          "base_uri": "https://localhost:8080/"
        },
        "id": "h6W43M-C2vUD",
        "outputId": "f6cff641-64d9-4684-dae5-c57634aed3c5"
      },
      "outputs": [
        {
          "output_type": "stream",
          "name": "stdout",
          "text": [
            "Ingrese el genero: M\n",
            "El genero es M\n"
          ]
        }
      ],
      "source": [
        "while 1:\n",
        "  genero = input('Ingrese el genero: ')\n",
        "  if genero == 'M' or genero == 'F':\n",
        "        print(\"El genero es \"+genero)\n",
        "        break"
      ]
    },
    {
      "cell_type": "code",
      "execution_count": 9,
      "metadata": {
        "colab": {
          "base_uri": "https://localhost:8080/"
        },
        "id": "6110jz1nt27t",
        "outputId": "2bbbde1b-4482-4834-b3f0-39219485619d"
      },
      "outputs": [
        {
          "output_type": "stream",
          "name": "stdout",
          "text": [
            "Ingrese el ingreso mensual en soles:12\n",
            "Ingreso válido\n"
          ]
        }
      ],
      "source": [
        "# while True\n",
        "\n",
        "while True:\n",
        "\n",
        "  ingreso = int(input('Ingrese el ingreso mensual en soles:'))\n",
        "\n",
        "  if ingreso > 0:\n",
        "    print('Ingreso válido')\n",
        "    break\n",
        "  elif ingreso == 0:\n",
        "    print('Dato perdido')\n",
        "    break\n",
        "  else:\n",
        "    print('Ingreso inválido')\n",
        "    print('Ingrese nuevamente')"
      ]
    },
    {
      "cell_type": "code",
      "execution_count": 10,
      "metadata": {
        "colab": {
          "base_uri": "https://localhost:8080/"
        },
        "id": "WXjFDSXYt6_6",
        "outputId": "2c714343-b496-4d8b-dba0-9a12bb107095"
      },
      "outputs": [
        {
          "output_type": "stream",
          "name": "stdout",
          "text": [
            "0\n",
            "1\n",
            "2\n",
            "3\n",
            "4\n",
            "5\n",
            "6\n",
            "7\n",
            "8\n",
            "9\n",
            "10\n"
          ]
        }
      ],
      "source": [
        "#for\n",
        "\n",
        "for i in range(11):\n",
        "  print(i)"
      ]
    },
    {
      "cell_type": "code",
      "execution_count": 11,
      "metadata": {
        "colab": {
          "base_uri": "https://localhost:8080/",
          "height": 111
        },
        "id": "gGGZpEFX9ISf",
        "outputId": "73d450d2-f2e1-4689-b26e-d0079890cdd5"
      },
      "outputs": [
        {
          "output_type": "error",
          "ename": "SyntaxError",
          "evalue": "expected ':' (<ipython-input-11-b9c217b64c0d>, line 3)",
          "traceback": [
            "\u001b[0;36m  File \u001b[0;32m\"<ipython-input-11-b9c217b64c0d>\"\u001b[0;36m, line \u001b[0;32m3\u001b[0m\n\u001b[0;31m    for m in range ()\u001b[0m\n\u001b[0m                     ^\u001b[0m\n\u001b[0;31mSyntaxError\u001b[0m\u001b[0;31m:\u001b[0m expected ':'\n"
          ]
        }
      ],
      "source": [
        "m = 5\n",
        "\n",
        "for m in range ()"
      ]
    },
    {
      "cell_type": "code",
      "execution_count": 12,
      "metadata": {
        "colab": {
          "base_uri": "https://localhost:8080/"
        },
        "id": "JTg-QJLFuLvz",
        "outputId": "99e784ad-5db0-4afe-c0cd-f9f77b6367a5"
      },
      "outputs": [
        {
          "output_type": "stream",
          "name": "stdout",
          "text": [
            "H\n",
            "o\n",
            "l\n",
            "a\n",
            " \n",
            "m\n",
            "u\n",
            "n\n",
            "d\n",
            "o\n",
            "!\n"
          ]
        }
      ],
      "source": [
        "for c in 'Hola mundo!':\n",
        "  print(c)"
      ]
    },
    {
      "cell_type": "markdown",
      "metadata": {
        "id": "wGmZzE7KuXpI"
      },
      "source": [
        "Imprimir la tabla de multiplicación de un número n desde el 1 al 10."
      ]
    },
    {
      "cell_type": "code",
      "execution_count": 13,
      "metadata": {
        "colab": {
          "base_uri": "https://localhost:8080/"
        },
        "id": "QzfSNV_WudeJ",
        "outputId": "84d0ea10-fd35-41bd-bc49-6bf9d065cd01"
      },
      "outputs": [
        {
          "output_type": "stream",
          "name": "stdout",
          "text": [
            "12 * 1 = 12\n",
            "12 * 2 = 24\n",
            "12 * 3 = 36\n",
            "12 * 4 = 48\n",
            "12 * 5 = 60\n"
          ]
        }
      ],
      "source": [
        "print(12, '*', 1, '=', 12*1)\n",
        "print(12, '*', 2, '=', 12*2)\n",
        "print(12, '*', 3, '=', 12*3)\n",
        "print(12, '*', 4, '=', 12*4)\n",
        "print(12, '*', 5, '=', 12*5)"
      ]
    },
    {
      "cell_type": "code",
      "execution_count": 14,
      "metadata": {
        "colab": {
          "base_uri": "https://localhost:8080/"
        },
        "id": "zt35ToNK02OI",
        "outputId": "9ea5bd93-a7f4-4884-beb2-9ea2a7c866dd"
      },
      "outputs": [
        {
          "output_type": "stream",
          "name": "stdout",
          "text": [
            "13 * 1 = 13\n",
            "13 * 2 = 26\n",
            "13 * 3 = 39\n",
            "13 * 4 = 52\n",
            "13 * 5 = 65\n",
            "13 * 6 = 78\n",
            "13 * 7 = 91\n",
            "13 * 8 = 104\n",
            "13 * 9 = 117\n",
            "13 * 10 = 130\n"
          ]
        }
      ],
      "source": [
        "n = 13\n",
        "\n",
        "for i in range(1, 11):\n",
        "  print(n, '*', i, '=', n*i)"
      ]
    },
    {
      "cell_type": "markdown",
      "metadata": {
        "id": "jPtCmO6nSHGQ"
      },
      "source": [
        "# Ejercicios a resolver - Estructura Control\n",
        "\n"
      ]
    },
    {
      "cell_type": "markdown",
      "metadata": {
        "id": "m6BZ_n08gTgN"
      },
      "source": [
        "1. Escribir un programa que calcule el monto final (préstamo + interés) a pagar considerando:\n",
        "- Solicitar el monto del préstamo **M**.\n",
        "- Si se trata de un **colaborador** del banco, la tasa es del 10.5%\n",
        "- Si el cliente es del **segmento** *VIP* la tasa será del 13% si tiene **cuenta** de ahorro,\n",
        "  de lo contrario la tasa es del 16%\n",
        "- En otros casos, la tasa es del 18.5%"
      ]
    },
    {
      "cell_type": "code",
      "execution_count": 15,
      "metadata": {
        "colab": {
          "base_uri": "https://localhost:8080/"
        },
        "id": "m3oRE44qRel_",
        "outputId": "19b3dee0-27c8-477e-bf89-588af475787d"
      },
      "outputs": [
        {
          "output_type": "stream",
          "name": "stdout",
          "text": [
            "Ingrese monto de prestamo: 345\n",
            "Es Colaborador  (si/no): SI\n",
            "Es cliente VIP (si/no):SI\n",
            "Monto final es: 408.825\n"
          ]
        }
      ],
      "source": [
        "monto=float(input(\"Ingrese monto de prestamo: \"))\n",
        "clt=input(\"Es Colaborador  (si/no): \")\n",
        "if clt=='si':\n",
        "\ttasa=0.105\n",
        "\tmonto_final=monto + monto*tasa\n",
        "else:\n",
        "\ttipo=input(\"Es cliente VIP (si/no):\")\n",
        "\tif tipo=='si':\n",
        "\t\tcta=input(\"Tiene cta de ahorro (si/no):\")\n",
        "\t\tif cta=='si':\n",
        "\t\t\ttasa=0.13\n",
        "\t\t\tmonto_final=monto+monto*tasa\n",
        "\t\telse:\n",
        "\t\t\ttasa=0.16\n",
        "\t\t\tmonto_final=monto+monto*tasa\n",
        "\telse:\n",
        "\t\ttasa=0.185\n",
        "\t\tmonto_final=monto+monto*tasa\n",
        "print(\"Monto final es: \"+str(monto_final))"
      ]
    },
    {
      "cell_type": "markdown",
      "metadata": {
        "id": "EY5qvyVcTFIk"
      },
      "source": [
        "2. Solicitar a, b, c (lados de un triangulo) y devolver si se trata de un escaleno, un isósceles o un equilátero."
      ]
    },
    {
      "cell_type": "code",
      "execution_count": 16,
      "metadata": {
        "colab": {
          "base_uri": "https://localhost:8080/"
        },
        "id": "wlP42oApTCBu",
        "outputId": "d1c13294-a4e3-4e4a-b9e1-fdabb3a658e8"
      },
      "outputs": [
        {
          "output_type": "stream",
          "name": "stdout",
          "text": [
            "Introduzca el Valor Numerico del Lado a:3\n",
            "Introduzca el Valor Numerico del Lado b:4\n",
            "Introduzca el Valor Numerico del Lado c:5\n",
            "\n",
            "El Triangulo es Escaleno\n"
          ]
        }
      ],
      "source": [
        "#Ingrese su solución aquí\n",
        "a = float(input(\"Introduzca el Valor Numerico del Lado a:\"))\n",
        "b = float(input(\"Introduzca el Valor Numerico del Lado b:\"))\n",
        "c = float(input(\"Introduzca el Valor Numerico del Lado c:\"))\n",
        "if(a==b and b==c):\n",
        "   print(\"\\nEl Triangulo es Equilatero\")\n",
        "elif (a!=b or a!=c or b!=c):\n",
        "       print(\"\\nEl Triangulo es Escaleno\")\n",
        "elif(a==b or a==c or b==c):\n",
        "       print(\"\\nEl Triangulo es Isoceles\")\n"
      ]
    },
    {
      "cell_type": "markdown",
      "metadata": {
        "id": "fUtMBa6zS-qW"
      },
      "source": [
        "3. Ingresar el n y mostrar todos los números primos del 2 al n."
      ]
    },
    {
      "cell_type": "code",
      "execution_count": 17,
      "metadata": {
        "colab": {
          "base_uri": "https://localhost:8080/"
        },
        "id": "UQIyY5B4TIAk",
        "outputId": "deb922e1-8e19-4d0e-e899-198f6616fc40"
      },
      "outputs": [
        {
          "output_type": "stream",
          "name": "stdout",
          "text": [
            "Ingrese numero: 5\n",
            "2\n",
            "3\n",
            "5\n"
          ]
        }
      ],
      "source": [
        "#Ingrese su solución aquí\n",
        "numero= int(input(\"Ingrese numero: \"))\n",
        "\n",
        "for num in range(2,numero+1):\n",
        "    prime = True\n",
        "    for i in range(2,num):\n",
        "        if (num%i==0):\n",
        "            prime = False\n",
        "    if prime:\n",
        "       print(num)"
      ]
    },
    {
      "cell_type": "code",
      "execution_count": null,
      "metadata": {
        "id": "RSAHcfNg9ISg"
      },
      "outputs": [],
      "source": []
    }
  ],
  "metadata": {
    "colab": {
      "provenance": []
    },
    "kernelspec": {
      "display_name": "Python 3 (ipykernel)",
      "language": "python",
      "name": "python3"
    },
    "language_info": {
      "codemirror_mode": {
        "name": "ipython",
        "version": 3
      },
      "file_extension": ".py",
      "mimetype": "text/x-python",
      "name": "python",
      "nbconvert_exporter": "python",
      "pygments_lexer": "ipython3",
      "version": "3.11.2"
    }
  },
  "nbformat": 4,
  "nbformat_minor": 0
}