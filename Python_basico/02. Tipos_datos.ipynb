{
  "cells": [
    {
      "cell_type": "markdown",
      "metadata": {
        "id": "IQuZ8-Y3spHv"
      },
      "source": [
        "# Estructuras Datos"
      ]
    },
    {
      "cell_type": "markdown",
      "metadata": {
        "id": "BSdZ2tu33qW1"
      },
      "source": [
        "## Listas"
      ]
    },
    {
      "cell_type": "code",
      "execution_count": 1,
      "metadata": {
        "id": "0ifmObAs3a6F"
      },
      "outputs": [],
      "source": [
        "#Creación\n",
        "\n",
        "lista_inicial = [24, 'comercial', False, 3.14]"
      ]
    },
    {
      "cell_type": "code",
      "execution_count": 2,
      "metadata": {
        "colab": {
          "base_uri": "https://localhost:8080/",
          "height": 36
        },
        "id": "5ZKCcvb13xtk",
        "outputId": "341f8262-5042-41a1-eb9b-47bddb3dc918"
      },
      "outputs": [
        {
          "output_type": "execute_result",
          "data": {
            "text/plain": [
              "'comercial'"
            ],
            "application/vnd.google.colaboratory.intrinsic+json": {
              "type": "string"
            }
          },
          "metadata": {},
          "execution_count": 2
        }
      ],
      "source": [
        "#Acceso\n",
        "\n",
        "lista_inicial[1]"
      ]
    },
    {
      "cell_type": "code",
      "execution_count": 3,
      "metadata": {
        "colab": {
          "base_uri": "https://localhost:8080/"
        },
        "id": "0OemMI2W4RrU",
        "outputId": "2e9efa8b-f1e4-47ce-eae6-0ca2b1921cac"
      },
      "outputs": [
        {
          "output_type": "execute_result",
          "data": {
            "text/plain": [
              "3.14"
            ]
          },
          "metadata": {},
          "execution_count": 3
        }
      ],
      "source": [
        "lista_inicial[-1]"
      ]
    },
    {
      "cell_type": "code",
      "execution_count": 4,
      "metadata": {
        "colab": {
          "base_uri": "https://localhost:8080/"
        },
        "id": "XbxJlMFV4WXK",
        "outputId": "c11eaafb-3d5c-4f2d-c95f-846e206236f5"
      },
      "outputs": [
        {
          "output_type": "execute_result",
          "data": {
            "text/plain": [
              "4"
            ]
          },
          "metadata": {},
          "execution_count": 4
        }
      ],
      "source": [
        "#Cantidad de elementos\n",
        "\n",
        "len(lista_inicial)"
      ]
    },
    {
      "cell_type": "code",
      "execution_count": 5,
      "metadata": {
        "colab": {
          "base_uri": "https://localhost:8080/"
        },
        "id": "zFuwaXc14n85",
        "outputId": "c8ed621a-481c-4175-a19c-eb511b3dc164"
      },
      "outputs": [
        {
          "output_type": "execute_result",
          "data": {
            "text/plain": [
              "False"
            ]
          },
          "metadata": {},
          "execution_count": 5
        }
      ],
      "source": [
        "lista_inicial[len(lista_inicial)-2]"
      ]
    },
    {
      "cell_type": "code",
      "execution_count": 6,
      "metadata": {
        "id": "JjSWD2Mp4_9_"
      },
      "outputs": [],
      "source": [
        "lista_inicial.append('ultimo')"
      ]
    },
    {
      "cell_type": "code",
      "execution_count": 7,
      "metadata": {
        "colab": {
          "base_uri": "https://localhost:8080/"
        },
        "id": "tAXJLe8tgcXS",
        "outputId": "ef3acbc8-f8f2-4603-a25b-775e209193f4"
      },
      "outputs": [
        {
          "output_type": "execute_result",
          "data": {
            "text/plain": [
              "[24, 'comercial', False, 3.14, 'ultimo']"
            ]
          },
          "metadata": {},
          "execution_count": 7
        }
      ],
      "source": [
        "lista_inicial"
      ]
    },
    {
      "cell_type": "code",
      "execution_count": 8,
      "metadata": {
        "id": "rxV8fzsa52lM"
      },
      "outputs": [],
      "source": [
        "lista_inicial.insert?"
      ]
    },
    {
      "cell_type": "code",
      "execution_count": 9,
      "metadata": {
        "colab": {
          "base_uri": "https://localhost:8080/"
        },
        "id": "5u7CWkCY6Kap",
        "outputId": "9a4837a1-08ec-4554-a25c-90a1f415589d"
      },
      "outputs": [
        {
          "output_type": "execute_result",
          "data": {
            "text/plain": [
              "['primero', 24, 'comercial', False, 3.14, 'ultimo']"
            ]
          },
          "metadata": {},
          "execution_count": 9
        }
      ],
      "source": [
        "lista_inicial.insert(0, 'primero')\n",
        "lista_inicial"
      ]
    },
    {
      "cell_type": "code",
      "execution_count": 10,
      "metadata": {
        "colab": {
          "base_uri": "https://localhost:8080/"
        },
        "id": "6kjBaCeu6UB5",
        "outputId": "bb29a0fd-719d-4382-805a-32bc4288fd39"
      },
      "outputs": [
        {
          "output_type": "execute_result",
          "data": {
            "text/plain": [
              "True"
            ]
          },
          "metadata": {},
          "execution_count": 10
        }
      ],
      "source": [
        "24 in lista_inicial"
      ]
    },
    {
      "cell_type": "code",
      "execution_count": 11,
      "metadata": {
        "colab": {
          "base_uri": "https://localhost:8080/"
        },
        "id": "TN28Wruv8ZbY",
        "outputId": "704f2056-cc7d-445d-9434-427c9c57d9cf"
      },
      "outputs": [
        {
          "output_type": "execute_result",
          "data": {
            "text/plain": [
              "list"
            ]
          },
          "metadata": {},
          "execution_count": 11
        }
      ],
      "source": [
        "type(lista_inicial)"
      ]
    },
    {
      "cell_type": "code",
      "execution_count": 12,
      "metadata": {
        "id": "qBkjisI17pAg"
      },
      "outputs": [],
      "source": [
        "lista_nombres = ['Maria', 'Jose', 'Jesus', 'Paolo']"
      ]
    },
    {
      "cell_type": "code",
      "execution_count": 13,
      "metadata": {
        "id": "nlugVGtM-A8N"
      },
      "outputs": [],
      "source": [
        "lista_nombres.reverse()"
      ]
    },
    {
      "cell_type": "code",
      "execution_count": 14,
      "metadata": {
        "colab": {
          "base_uri": "https://localhost:8080/"
        },
        "id": "V9hpsSyT-UL9",
        "outputId": "2e790e6b-4943-4586-920e-4a082b8abd61"
      },
      "outputs": [
        {
          "output_type": "execute_result",
          "data": {
            "text/plain": [
              "['Paolo', 'Jesus', 'Jose', 'Maria']"
            ]
          },
          "metadata": {},
          "execution_count": 14
        }
      ],
      "source": [
        "lista_nombres"
      ]
    },
    {
      "cell_type": "code",
      "execution_count": 15,
      "metadata": {
        "id": "KKItq3Uf-h2K"
      },
      "outputs": [],
      "source": [
        "lista_nombres.sort()"
      ]
    },
    {
      "cell_type": "code",
      "execution_count": 16,
      "metadata": {
        "colab": {
          "base_uri": "https://localhost:8080/"
        },
        "id": "q3wttvUU-pNP",
        "outputId": "5b111251-c30e-47da-d1b4-84a46e12a9a3"
      },
      "outputs": [
        {
          "output_type": "execute_result",
          "data": {
            "text/plain": [
              "['Jesus', 'Jose', 'Maria', 'Paolo']"
            ]
          },
          "metadata": {},
          "execution_count": 16
        }
      ],
      "source": [
        "lista_nombres"
      ]
    },
    {
      "cell_type": "code",
      "execution_count": 17,
      "metadata": {
        "colab": {
          "base_uri": "https://localhost:8080/",
          "height": 36
        },
        "id": "AtiOfIIl_cbx",
        "outputId": "19de35b1-dc07-4255-c1bc-442ee4a0fc20"
      },
      "outputs": [
        {
          "output_type": "execute_result",
          "data": {
            "text/plain": [
              "'Jesus'"
            ],
            "application/vnd.google.colaboratory.intrinsic+json": {
              "type": "string"
            }
          },
          "metadata": {},
          "execution_count": 17
        }
      ],
      "source": [
        "lista_nombres.pop(0)"
      ]
    },
    {
      "cell_type": "code",
      "execution_count": 18,
      "metadata": {
        "colab": {
          "base_uri": "https://localhost:8080/"
        },
        "id": "HXruh4Xj_wYa",
        "outputId": "b1396bbf-5f2f-4d26-8306-0a3dc05acd29"
      },
      "outputs": [
        {
          "output_type": "execute_result",
          "data": {
            "text/plain": [
              "['Jose', 'Maria', 'Paolo']"
            ]
          },
          "metadata": {},
          "execution_count": 18
        }
      ],
      "source": [
        "lista_nombres"
      ]
    },
    {
      "cell_type": "markdown",
      "metadata": {
        "id": "aSD6EKcJq9vf"
      },
      "source": [
        "**Ejemplo:**\n",
        "\n",
        "Realizar un programa que según sea la opción ingresada ejecute la operación:\n",
        "\n",
        "1. Solicite el código de proveedor y lo añada a la lista de proveedores.\n",
        "2. Solicite el código de proveedor a eliminar y proceda a borrarlo de la lista.\n",
        "3. Muestre todos los códigos de proveedores registrados.\n",
        "4. Salir del programa."
      ]
    },
    {
      "cell_type": "code",
      "execution_count": 19,
      "metadata": {
        "colab": {
          "base_uri": "https://localhost:8080/"
        },
        "id": "FhMAtnGtq9Pz",
        "outputId": "4ec9de0b-53c7-4a7c-d70b-b93048697b1d"
      },
      "outputs": [
        {
          "name": "stdout",
          "output_type": "stream",
          "text": [
            "Ingrese la opcion: 9\n",
            "Opcion invalidad\n",
            "Ingrese la opcion: 1\n",
            "Ingrese el codigo del proveedor para añadir: 4\n",
            "Ingrese la opcion: 1\n",
            "Ingrese el codigo del proveedor para añadir: 4\n",
            "Ingrese la opcion: 4\n"
          ]
        }
      ],
      "source": [
        "#Solución\n",
        "lista_proveedor = []\n",
        "while True:\n",
        "    opcion = int(input(\"Ingrese la opcion: \",))\n",
        "    if opcion==1:\n",
        "        codigo=input(\"Ingrese el codigo del proveedor para añadir: \")\n",
        "        lista_proveedor.append(codigo)\n",
        "    elif opcion==2:\n",
        "        codigo=input(\"Ingrese el codigo del proveedor para eliminar: \")\n",
        "        lista_proveedor.remove(codigo)\n",
        "    elif opcion==3:\n",
        "        print(lista_proveedor)\n",
        "    elif opcion==4:\n",
        "        break\n",
        "    else:\n",
        "        print(\"Opcion invalidad\")\n",
        "\n",
        "\n",
        ""
      ]
    },
    {
      "cell_type": "markdown",
      "metadata": {
        "id": "IzAGzkp0ACKr"
      },
      "source": [
        "## Tuplas"
      ]
    },
    {
      "cell_type": "code",
      "execution_count": 20,
      "metadata": {
        "colab": {
          "base_uri": "https://localhost:8080/"
        },
        "id": "DDAkmJtC_xtN",
        "outputId": "175895b3-3723-4bec-bb80-b097bdc3f0db"
      },
      "outputs": [
        {
          "output_type": "execute_result",
          "data": {
            "text/plain": [
              "()"
            ]
          },
          "metadata": {},
          "execution_count": 20
        }
      ],
      "source": [
        "tuple()"
      ]
    },
    {
      "cell_type": "code",
      "execution_count": 21,
      "metadata": {
        "id": "sLpwQU5wAFVx"
      },
      "outputs": [],
      "source": [
        "tupla_inicial_1 = (24, 'comercial', False, 3.14)\n",
        "\n",
        "tupla_inicial_2 = 24, 'comercial', False, 3.14"
      ]
    },
    {
      "cell_type": "code",
      "execution_count": 22,
      "metadata": {
        "colab": {
          "base_uri": "https://localhost:8080/"
        },
        "id": "QCW4A5biAVcu",
        "outputId": "3adcfc7d-c0c6-40f8-95ed-8b4b7e74c625"
      },
      "outputs": [
        {
          "output_type": "execute_result",
          "data": {
            "text/plain": [
              "tuple"
            ]
          },
          "metadata": {},
          "execution_count": 22
        }
      ],
      "source": [
        "type(tupla_inicial_2)"
      ]
    },
    {
      "cell_type": "code",
      "execution_count": 23,
      "metadata": {
        "colab": {
          "base_uri": "https://localhost:8080/"
        },
        "id": "sxrA0RFAAd5k",
        "outputId": "76b3516d-a653-4727-c002-f07ca71e14c5"
      },
      "outputs": [
        {
          "output_type": "execute_result",
          "data": {
            "text/plain": [
              "3.14"
            ]
          },
          "metadata": {},
          "execution_count": 23
        }
      ],
      "source": [
        "tupla_inicial_1[3]"
      ]
    },
    {
      "cell_type": "code",
      "execution_count": 24,
      "metadata": {
        "colab": {
          "base_uri": "https://localhost:8080/"
        },
        "id": "wQITuxjoA39g",
        "outputId": "3c66448d-d890-482e-f2b4-48b8087372bf"
      },
      "outputs": [
        {
          "output_type": "execute_result",
          "data": {
            "text/plain": [
              "False"
            ]
          },
          "metadata": {},
          "execution_count": 24
        }
      ],
      "source": [
        "tupla_inicial_1[-2]"
      ]
    },
    {
      "cell_type": "markdown",
      "metadata": {
        "id": "VWb17vLXBNAj"
      },
      "source": [
        "## Diccionarios"
      ]
    },
    {
      "cell_type": "code",
      "execution_count": 36,
      "metadata": {
        "id": "UtzHlZ06BbH1"
      },
      "outputs": [],
      "source": [
        "diccionario_1 = {'Maria':3000, 'Jose':6200, 'Olivia':850}"
      ]
    },
    {
      "cell_type": "code",
      "execution_count": 37,
      "metadata": {
        "colab": {
          "base_uri": "https://localhost:8080/"
        },
        "id": "3kJBMohtBx0i",
        "outputId": "48f66eb3-8e66-45de-98bc-0daee47e5809"
      },
      "outputs": [
        {
          "output_type": "execute_result",
          "data": {
            "text/plain": [
              "{'Maria': 3000, 'Jose': 6200, 'Olivia': 850}"
            ]
          },
          "metadata": {},
          "execution_count": 37
        }
      ],
      "source": [
        "diccionario_1"
      ]
    },
    {
      "cell_type": "code",
      "execution_count": 38,
      "metadata": {
        "colab": {
          "base_uri": "https://localhost:8080/"
        },
        "id": "gvMx1xEtBz01",
        "outputId": "c07d0d70-dcc0-4a2e-f926-e15d470000e4"
      },
      "outputs": [
        {
          "output_type": "execute_result",
          "data": {
            "text/plain": [
              "3"
            ]
          },
          "metadata": {},
          "execution_count": 38
        }
      ],
      "source": [
        "len(diccionario_1)"
      ]
    },
    {
      "cell_type": "code",
      "execution_count": 39,
      "metadata": {
        "colab": {
          "base_uri": "https://localhost:8080/"
        },
        "id": "i9UIU0haB_tB",
        "outputId": "0f89b6d4-ba4c-4fc2-c8f6-b43d686c3e4e"
      },
      "outputs": [
        {
          "output_type": "execute_result",
          "data": {
            "text/plain": [
              "6200"
            ]
          },
          "metadata": {},
          "execution_count": 39
        }
      ],
      "source": [
        "diccionario_1['Jose']\n",
        "#no se accede por posicion, si no por clave"
      ]
    },
    {
      "cell_type": "code",
      "execution_count": 40,
      "metadata": {
        "colab": {
          "base_uri": "https://localhost:8080/"
        },
        "id": "wSWu4Jp4CF8q",
        "outputId": "2003fd32-6f76-4564-e990-af5a56de06b3"
      },
      "outputs": [
        {
          "output_type": "execute_result",
          "data": {
            "text/plain": [
              "{'Maria': 3000, 'Jose': 6200, 'Olivia': 1800}"
            ]
          },
          "metadata": {},
          "execution_count": 40
        }
      ],
      "source": [
        "diccionario_1['Olivia'] = 1800\n",
        "diccionario_1"
      ]
    },
    {
      "cell_type": "code",
      "execution_count": 41,
      "metadata": {
        "colab": {
          "base_uri": "https://localhost:8080/"
        },
        "id": "Y_Yi9d9RCaXn",
        "outputId": "379cfcb7-7b1c-46f9-b59b-a8008e680b9c"
      },
      "outputs": [
        {
          "output_type": "execute_result",
          "data": {
            "text/plain": [
              "{'Maria': 3000, 'Jose': 6200, 'Olivia': 1800, 'Pedro': 4500}"
            ]
          },
          "metadata": {},
          "execution_count": 41
        }
      ],
      "source": [
        "diccionario_1['Pedro'] = 4500\n",
        "diccionario_1"
      ]
    },
    {
      "cell_type": "code",
      "execution_count": 42,
      "metadata": {
        "colab": {
          "base_uri": "https://localhost:8080/"
        },
        "id": "G8-pqioTCu8c",
        "outputId": "590d1220-d018-49be-e08f-8a1732a4f368"
      },
      "outputs": [
        {
          "output_type": "execute_result",
          "data": {
            "text/plain": [
              "dict_keys(['Maria', 'Jose', 'Olivia', 'Pedro'])"
            ]
          },
          "metadata": {},
          "execution_count": 42
        }
      ],
      "source": [
        "diccionario_1.keys()"
      ]
    },
    {
      "cell_type": "code",
      "execution_count": 43,
      "metadata": {
        "colab": {
          "base_uri": "https://localhost:8080/"
        },
        "id": "t8PiJE4GDJ86",
        "outputId": "6770033c-0140-42d9-8453-cfe28561c169"
      },
      "outputs": [
        {
          "output_type": "stream",
          "name": "stdout",
          "text": [
            "Maria\n",
            "Jose\n",
            "Olivia\n",
            "Pedro\n"
          ]
        }
      ],
      "source": [
        "for key in diccionario_1.keys():\n",
        "  print(key)"
      ]
    },
    {
      "cell_type": "code",
      "execution_count": 44,
      "metadata": {
        "colab": {
          "base_uri": "https://localhost:8080/"
        },
        "id": "aBWLLR2MD-Kc",
        "outputId": "390f87dc-f83c-4feb-e708-b5d958dba512"
      },
      "outputs": [
        {
          "output_type": "execute_result",
          "data": {
            "text/plain": [
              "True"
            ]
          },
          "metadata": {},
          "execution_count": 44
        }
      ],
      "source": [
        "'Pedro' in diccionario_1.keys()"
      ]
    },
    {
      "cell_type": "code",
      "execution_count": 45,
      "metadata": {
        "colab": {
          "base_uri": "https://localhost:8080/"
        },
        "id": "LrquBHXDDoJW",
        "outputId": "6530614e-fe3a-4443-bc33-310a448e0138"
      },
      "outputs": [
        {
          "output_type": "execute_result",
          "data": {
            "text/plain": [
              "dict_values([3000, 6200, 1800, 4500])"
            ]
          },
          "metadata": {},
          "execution_count": 45
        }
      ],
      "source": [
        "diccionario_1.values()"
      ]
    },
    {
      "cell_type": "code",
      "execution_count": 46,
      "metadata": {
        "id": "eUFG2VTyHDP6"
      },
      "outputs": [],
      "source": [
        "import pandas as pd"
      ]
    },
    {
      "cell_type": "code",
      "execution_count": 47,
      "metadata": {
        "id": "5SIwGNUAHVW5"
      },
      "outputs": [],
      "source": [
        "dict_pandas = {\n",
        "    'Nombre': ['Maria', 'Juan', 'Jose'],\n",
        "    'Edad'  : [24, 50, 30],\n",
        "    'Genero': ['F', 'M', 'M']\n",
        "}"
      ]
    },
    {
      "cell_type": "code",
      "execution_count": 48,
      "metadata": {
        "id": "PerxpT2rHVY0"
      },
      "outputs": [],
      "source": [
        "dict_tabla = pd.DataFrame(dict_pandas)"
      ]
    },
    {
      "cell_type": "code",
      "execution_count": 49,
      "metadata": {
        "colab": {
          "base_uri": "https://localhost:8080/",
          "height": 143
        },
        "id": "NoYfONmVHVbG",
        "outputId": "797093d5-3e55-45fa-a1d7-c293c7af8eb3"
      },
      "outputs": [
        {
          "output_type": "execute_result",
          "data": {
            "text/plain": [
              "  Nombre  Edad Genero\n",
              "0  Maria    24      F\n",
              "1   Juan    50      M\n",
              "2   Jose    30      M"
            ],
            "text/html": [
              "\n",
              "  <div id=\"df-552e6f44-42e4-4bf1-a0db-a6ed9a4b3d94\" class=\"colab-df-container\">\n",
              "    <div>\n",
              "<style scoped>\n",
              "    .dataframe tbody tr th:only-of-type {\n",
              "        vertical-align: middle;\n",
              "    }\n",
              "\n",
              "    .dataframe tbody tr th {\n",
              "        vertical-align: top;\n",
              "    }\n",
              "\n",
              "    .dataframe thead th {\n",
              "        text-align: right;\n",
              "    }\n",
              "</style>\n",
              "<table border=\"1\" class=\"dataframe\">\n",
              "  <thead>\n",
              "    <tr style=\"text-align: right;\">\n",
              "      <th></th>\n",
              "      <th>Nombre</th>\n",
              "      <th>Edad</th>\n",
              "      <th>Genero</th>\n",
              "    </tr>\n",
              "  </thead>\n",
              "  <tbody>\n",
              "    <tr>\n",
              "      <th>0</th>\n",
              "      <td>Maria</td>\n",
              "      <td>24</td>\n",
              "      <td>F</td>\n",
              "    </tr>\n",
              "    <tr>\n",
              "      <th>1</th>\n",
              "      <td>Juan</td>\n",
              "      <td>50</td>\n",
              "      <td>M</td>\n",
              "    </tr>\n",
              "    <tr>\n",
              "      <th>2</th>\n",
              "      <td>Jose</td>\n",
              "      <td>30</td>\n",
              "      <td>M</td>\n",
              "    </tr>\n",
              "  </tbody>\n",
              "</table>\n",
              "</div>\n",
              "    <div class=\"colab-df-buttons\">\n",
              "\n",
              "  <div class=\"colab-df-container\">\n",
              "    <button class=\"colab-df-convert\" onclick=\"convertToInteractive('df-552e6f44-42e4-4bf1-a0db-a6ed9a4b3d94')\"\n",
              "            title=\"Convert this dataframe to an interactive table.\"\n",
              "            style=\"display:none;\">\n",
              "\n",
              "  <svg xmlns=\"http://www.w3.org/2000/svg\" height=\"24px\" viewBox=\"0 -960 960 960\">\n",
              "    <path d=\"M120-120v-720h720v720H120Zm60-500h600v-160H180v160Zm220 220h160v-160H400v160Zm0 220h160v-160H400v160ZM180-400h160v-160H180v160Zm440 0h160v-160H620v160ZM180-180h160v-160H180v160Zm440 0h160v-160H620v160Z\"/>\n",
              "  </svg>\n",
              "    </button>\n",
              "\n",
              "  <style>\n",
              "    .colab-df-container {\n",
              "      display:flex;\n",
              "      gap: 12px;\n",
              "    }\n",
              "\n",
              "    .colab-df-convert {\n",
              "      background-color: #E8F0FE;\n",
              "      border: none;\n",
              "      border-radius: 50%;\n",
              "      cursor: pointer;\n",
              "      display: none;\n",
              "      fill: #1967D2;\n",
              "      height: 32px;\n",
              "      padding: 0 0 0 0;\n",
              "      width: 32px;\n",
              "    }\n",
              "\n",
              "    .colab-df-convert:hover {\n",
              "      background-color: #E2EBFA;\n",
              "      box-shadow: 0px 1px 2px rgba(60, 64, 67, 0.3), 0px 1px 3px 1px rgba(60, 64, 67, 0.15);\n",
              "      fill: #174EA6;\n",
              "    }\n",
              "\n",
              "    .colab-df-buttons div {\n",
              "      margin-bottom: 4px;\n",
              "    }\n",
              "\n",
              "    [theme=dark] .colab-df-convert {\n",
              "      background-color: #3B4455;\n",
              "      fill: #D2E3FC;\n",
              "    }\n",
              "\n",
              "    [theme=dark] .colab-df-convert:hover {\n",
              "      background-color: #434B5C;\n",
              "      box-shadow: 0px 1px 3px 1px rgba(0, 0, 0, 0.15);\n",
              "      filter: drop-shadow(0px 1px 2px rgba(0, 0, 0, 0.3));\n",
              "      fill: #FFFFFF;\n",
              "    }\n",
              "  </style>\n",
              "\n",
              "    <script>\n",
              "      const buttonEl =\n",
              "        document.querySelector('#df-552e6f44-42e4-4bf1-a0db-a6ed9a4b3d94 button.colab-df-convert');\n",
              "      buttonEl.style.display =\n",
              "        google.colab.kernel.accessAllowed ? 'block' : 'none';\n",
              "\n",
              "      async function convertToInteractive(key) {\n",
              "        const element = document.querySelector('#df-552e6f44-42e4-4bf1-a0db-a6ed9a4b3d94');\n",
              "        const dataTable =\n",
              "          await google.colab.kernel.invokeFunction('convertToInteractive',\n",
              "                                                    [key], {});\n",
              "        if (!dataTable) return;\n",
              "\n",
              "        const docLinkHtml = 'Like what you see? Visit the ' +\n",
              "          '<a target=\"_blank\" href=https://colab.research.google.com/notebooks/data_table.ipynb>data table notebook</a>'\n",
              "          + ' to learn more about interactive tables.';\n",
              "        element.innerHTML = '';\n",
              "        dataTable['output_type'] = 'display_data';\n",
              "        await google.colab.output.renderOutput(dataTable, element);\n",
              "        const docLink = document.createElement('div');\n",
              "        docLink.innerHTML = docLinkHtml;\n",
              "        element.appendChild(docLink);\n",
              "      }\n",
              "    </script>\n",
              "  </div>\n",
              "\n",
              "\n",
              "<div id=\"df-504b8115-ed75-48ab-8ec3-3a5f29f913b7\">\n",
              "  <button class=\"colab-df-quickchart\" onclick=\"quickchart('df-504b8115-ed75-48ab-8ec3-3a5f29f913b7')\"\n",
              "            title=\"Suggest charts\"\n",
              "            style=\"display:none;\">\n",
              "\n",
              "<svg xmlns=\"http://www.w3.org/2000/svg\" height=\"24px\"viewBox=\"0 0 24 24\"\n",
              "     width=\"24px\">\n",
              "    <g>\n",
              "        <path d=\"M19 3H5c-1.1 0-2 .9-2 2v14c0 1.1.9 2 2 2h14c1.1 0 2-.9 2-2V5c0-1.1-.9-2-2-2zM9 17H7v-7h2v7zm4 0h-2V7h2v10zm4 0h-2v-4h2v4z\"/>\n",
              "    </g>\n",
              "</svg>\n",
              "  </button>\n",
              "\n",
              "<style>\n",
              "  .colab-df-quickchart {\n",
              "      --bg-color: #E8F0FE;\n",
              "      --fill-color: #1967D2;\n",
              "      --hover-bg-color: #E2EBFA;\n",
              "      --hover-fill-color: #174EA6;\n",
              "      --disabled-fill-color: #AAA;\n",
              "      --disabled-bg-color: #DDD;\n",
              "  }\n",
              "\n",
              "  [theme=dark] .colab-df-quickchart {\n",
              "      --bg-color: #3B4455;\n",
              "      --fill-color: #D2E3FC;\n",
              "      --hover-bg-color: #434B5C;\n",
              "      --hover-fill-color: #FFFFFF;\n",
              "      --disabled-bg-color: #3B4455;\n",
              "      --disabled-fill-color: #666;\n",
              "  }\n",
              "\n",
              "  .colab-df-quickchart {\n",
              "    background-color: var(--bg-color);\n",
              "    border: none;\n",
              "    border-radius: 50%;\n",
              "    cursor: pointer;\n",
              "    display: none;\n",
              "    fill: var(--fill-color);\n",
              "    height: 32px;\n",
              "    padding: 0;\n",
              "    width: 32px;\n",
              "  }\n",
              "\n",
              "  .colab-df-quickchart:hover {\n",
              "    background-color: var(--hover-bg-color);\n",
              "    box-shadow: 0 1px 2px rgba(60, 64, 67, 0.3), 0 1px 3px 1px rgba(60, 64, 67, 0.15);\n",
              "    fill: var(--button-hover-fill-color);\n",
              "  }\n",
              "\n",
              "  .colab-df-quickchart-complete:disabled,\n",
              "  .colab-df-quickchart-complete:disabled:hover {\n",
              "    background-color: var(--disabled-bg-color);\n",
              "    fill: var(--disabled-fill-color);\n",
              "    box-shadow: none;\n",
              "  }\n",
              "\n",
              "  .colab-df-spinner {\n",
              "    border: 2px solid var(--fill-color);\n",
              "    border-color: transparent;\n",
              "    border-bottom-color: var(--fill-color);\n",
              "    animation:\n",
              "      spin 1s steps(1) infinite;\n",
              "  }\n",
              "\n",
              "  @keyframes spin {\n",
              "    0% {\n",
              "      border-color: transparent;\n",
              "      border-bottom-color: var(--fill-color);\n",
              "      border-left-color: var(--fill-color);\n",
              "    }\n",
              "    20% {\n",
              "      border-color: transparent;\n",
              "      border-left-color: var(--fill-color);\n",
              "      border-top-color: var(--fill-color);\n",
              "    }\n",
              "    30% {\n",
              "      border-color: transparent;\n",
              "      border-left-color: var(--fill-color);\n",
              "      border-top-color: var(--fill-color);\n",
              "      border-right-color: var(--fill-color);\n",
              "    }\n",
              "    40% {\n",
              "      border-color: transparent;\n",
              "      border-right-color: var(--fill-color);\n",
              "      border-top-color: var(--fill-color);\n",
              "    }\n",
              "    60% {\n",
              "      border-color: transparent;\n",
              "      border-right-color: var(--fill-color);\n",
              "    }\n",
              "    80% {\n",
              "      border-color: transparent;\n",
              "      border-right-color: var(--fill-color);\n",
              "      border-bottom-color: var(--fill-color);\n",
              "    }\n",
              "    90% {\n",
              "      border-color: transparent;\n",
              "      border-bottom-color: var(--fill-color);\n",
              "    }\n",
              "  }\n",
              "</style>\n",
              "\n",
              "  <script>\n",
              "    async function quickchart(key) {\n",
              "      const quickchartButtonEl =\n",
              "        document.querySelector('#' + key + ' button');\n",
              "      quickchartButtonEl.disabled = true;  // To prevent multiple clicks.\n",
              "      quickchartButtonEl.classList.add('colab-df-spinner');\n",
              "      try {\n",
              "        const charts = await google.colab.kernel.invokeFunction(\n",
              "            'suggestCharts', [key], {});\n",
              "      } catch (error) {\n",
              "        console.error('Error during call to suggestCharts:', error);\n",
              "      }\n",
              "      quickchartButtonEl.classList.remove('colab-df-spinner');\n",
              "      quickchartButtonEl.classList.add('colab-df-quickchart-complete');\n",
              "    }\n",
              "    (() => {\n",
              "      let quickchartButtonEl =\n",
              "        document.querySelector('#df-504b8115-ed75-48ab-8ec3-3a5f29f913b7 button');\n",
              "      quickchartButtonEl.style.display =\n",
              "        google.colab.kernel.accessAllowed ? 'block' : 'none';\n",
              "    })();\n",
              "  </script>\n",
              "</div>\n",
              "\n",
              "  <div id=\"id_475626ed-f4f9-4ca2-8ba2-85c3874f16a1\">\n",
              "    <style>\n",
              "      .colab-df-generate {\n",
              "        background-color: #E8F0FE;\n",
              "        border: none;\n",
              "        border-radius: 50%;\n",
              "        cursor: pointer;\n",
              "        display: none;\n",
              "        fill: #1967D2;\n",
              "        height: 32px;\n",
              "        padding: 0 0 0 0;\n",
              "        width: 32px;\n",
              "      }\n",
              "\n",
              "      .colab-df-generate:hover {\n",
              "        background-color: #E2EBFA;\n",
              "        box-shadow: 0px 1px 2px rgba(60, 64, 67, 0.3), 0px 1px 3px 1px rgba(60, 64, 67, 0.15);\n",
              "        fill: #174EA6;\n",
              "      }\n",
              "\n",
              "      [theme=dark] .colab-df-generate {\n",
              "        background-color: #3B4455;\n",
              "        fill: #D2E3FC;\n",
              "      }\n",
              "\n",
              "      [theme=dark] .colab-df-generate:hover {\n",
              "        background-color: #434B5C;\n",
              "        box-shadow: 0px 1px 3px 1px rgba(0, 0, 0, 0.15);\n",
              "        filter: drop-shadow(0px 1px 2px rgba(0, 0, 0, 0.3));\n",
              "        fill: #FFFFFF;\n",
              "      }\n",
              "    </style>\n",
              "    <button class=\"colab-df-generate\" onclick=\"generateWithVariable('dict_tabla')\"\n",
              "            title=\"Generate code using this dataframe.\"\n",
              "            style=\"display:none;\">\n",
              "\n",
              "  <svg xmlns=\"http://www.w3.org/2000/svg\" height=\"24px\"viewBox=\"0 0 24 24\"\n",
              "       width=\"24px\">\n",
              "    <path d=\"M7,19H8.4L18.45,9,17,7.55,7,17.6ZM5,21V16.75L18.45,3.32a2,2,0,0,1,2.83,0l1.4,1.43a1.91,1.91,0,0,1,.58,1.4,1.91,1.91,0,0,1-.58,1.4L9.25,21ZM18.45,9,17,7.55Zm-12,3A5.31,5.31,0,0,0,4.9,8.1,5.31,5.31,0,0,0,1,6.5,5.31,5.31,0,0,0,4.9,4.9,5.31,5.31,0,0,0,6.5,1,5.31,5.31,0,0,0,8.1,4.9,5.31,5.31,0,0,0,12,6.5,5.46,5.46,0,0,0,6.5,12Z\"/>\n",
              "  </svg>\n",
              "    </button>\n",
              "    <script>\n",
              "      (() => {\n",
              "      const buttonEl =\n",
              "        document.querySelector('#id_475626ed-f4f9-4ca2-8ba2-85c3874f16a1 button.colab-df-generate');\n",
              "      buttonEl.style.display =\n",
              "        google.colab.kernel.accessAllowed ? 'block' : 'none';\n",
              "\n",
              "      buttonEl.onclick = () => {\n",
              "        google.colab.notebook.generateWithVariable('dict_tabla');\n",
              "      }\n",
              "      })();\n",
              "    </script>\n",
              "  </div>\n",
              "\n",
              "    </div>\n",
              "  </div>\n"
            ],
            "application/vnd.google.colaboratory.intrinsic+json": {
              "type": "dataframe",
              "variable_name": "dict_tabla",
              "summary": "{\n  \"name\": \"dict_tabla\",\n  \"rows\": 3,\n  \"fields\": [\n    {\n      \"column\": \"Nombre\",\n      \"properties\": {\n        \"dtype\": \"string\",\n        \"num_unique_values\": 3,\n        \"samples\": [\n          \"Maria\",\n          \"Juan\",\n          \"Jose\"\n        ],\n        \"semantic_type\": \"\",\n        \"description\": \"\"\n      }\n    },\n    {\n      \"column\": \"Edad\",\n      \"properties\": {\n        \"dtype\": \"number\",\n        \"std\": 13,\n        \"min\": 24,\n        \"max\": 50,\n        \"num_unique_values\": 3,\n        \"samples\": [\n          24,\n          50,\n          30\n        ],\n        \"semantic_type\": \"\",\n        \"description\": \"\"\n      }\n    },\n    {\n      \"column\": \"Genero\",\n      \"properties\": {\n        \"dtype\": \"string\",\n        \"num_unique_values\": 2,\n        \"samples\": [\n          \"M\",\n          \"F\"\n        ],\n        \"semantic_type\": \"\",\n        \"description\": \"\"\n      }\n    }\n  ]\n}"
            }
          },
          "metadata": {},
          "execution_count": 49
        }
      ],
      "source": [
        "dict_tabla"
      ]
    },
    {
      "cell_type": "code",
      "execution_count": 50,
      "metadata": {
        "colab": {
          "base_uri": "https://localhost:8080/",
          "height": 300
        },
        "id": "U63sRVO2IOZy",
        "outputId": "dbc5cca3-c030-4b9f-d57e-f84124b5fd7a"
      },
      "outputs": [
        {
          "output_type": "execute_result",
          "data": {
            "text/plain": [
              "            Edad\n",
              "count   3.000000\n",
              "mean   34.666667\n",
              "std    13.613719\n",
              "min    24.000000\n",
              "25%    27.000000\n",
              "50%    30.000000\n",
              "75%    40.000000\n",
              "max    50.000000"
            ],
            "text/html": [
              "\n",
              "  <div id=\"df-27fdbf17-73f9-4a86-977f-4f8f504f3848\" class=\"colab-df-container\">\n",
              "    <div>\n",
              "<style scoped>\n",
              "    .dataframe tbody tr th:only-of-type {\n",
              "        vertical-align: middle;\n",
              "    }\n",
              "\n",
              "    .dataframe tbody tr th {\n",
              "        vertical-align: top;\n",
              "    }\n",
              "\n",
              "    .dataframe thead th {\n",
              "        text-align: right;\n",
              "    }\n",
              "</style>\n",
              "<table border=\"1\" class=\"dataframe\">\n",
              "  <thead>\n",
              "    <tr style=\"text-align: right;\">\n",
              "      <th></th>\n",
              "      <th>Edad</th>\n",
              "    </tr>\n",
              "  </thead>\n",
              "  <tbody>\n",
              "    <tr>\n",
              "      <th>count</th>\n",
              "      <td>3.000000</td>\n",
              "    </tr>\n",
              "    <tr>\n",
              "      <th>mean</th>\n",
              "      <td>34.666667</td>\n",
              "    </tr>\n",
              "    <tr>\n",
              "      <th>std</th>\n",
              "      <td>13.613719</td>\n",
              "    </tr>\n",
              "    <tr>\n",
              "      <th>min</th>\n",
              "      <td>24.000000</td>\n",
              "    </tr>\n",
              "    <tr>\n",
              "      <th>25%</th>\n",
              "      <td>27.000000</td>\n",
              "    </tr>\n",
              "    <tr>\n",
              "      <th>50%</th>\n",
              "      <td>30.000000</td>\n",
              "    </tr>\n",
              "    <tr>\n",
              "      <th>75%</th>\n",
              "      <td>40.000000</td>\n",
              "    </tr>\n",
              "    <tr>\n",
              "      <th>max</th>\n",
              "      <td>50.000000</td>\n",
              "    </tr>\n",
              "  </tbody>\n",
              "</table>\n",
              "</div>\n",
              "    <div class=\"colab-df-buttons\">\n",
              "\n",
              "  <div class=\"colab-df-container\">\n",
              "    <button class=\"colab-df-convert\" onclick=\"convertToInteractive('df-27fdbf17-73f9-4a86-977f-4f8f504f3848')\"\n",
              "            title=\"Convert this dataframe to an interactive table.\"\n",
              "            style=\"display:none;\">\n",
              "\n",
              "  <svg xmlns=\"http://www.w3.org/2000/svg\" height=\"24px\" viewBox=\"0 -960 960 960\">\n",
              "    <path d=\"M120-120v-720h720v720H120Zm60-500h600v-160H180v160Zm220 220h160v-160H400v160Zm0 220h160v-160H400v160ZM180-400h160v-160H180v160Zm440 0h160v-160H620v160ZM180-180h160v-160H180v160Zm440 0h160v-160H620v160Z\"/>\n",
              "  </svg>\n",
              "    </button>\n",
              "\n",
              "  <style>\n",
              "    .colab-df-container {\n",
              "      display:flex;\n",
              "      gap: 12px;\n",
              "    }\n",
              "\n",
              "    .colab-df-convert {\n",
              "      background-color: #E8F0FE;\n",
              "      border: none;\n",
              "      border-radius: 50%;\n",
              "      cursor: pointer;\n",
              "      display: none;\n",
              "      fill: #1967D2;\n",
              "      height: 32px;\n",
              "      padding: 0 0 0 0;\n",
              "      width: 32px;\n",
              "    }\n",
              "\n",
              "    .colab-df-convert:hover {\n",
              "      background-color: #E2EBFA;\n",
              "      box-shadow: 0px 1px 2px rgba(60, 64, 67, 0.3), 0px 1px 3px 1px rgba(60, 64, 67, 0.15);\n",
              "      fill: #174EA6;\n",
              "    }\n",
              "\n",
              "    .colab-df-buttons div {\n",
              "      margin-bottom: 4px;\n",
              "    }\n",
              "\n",
              "    [theme=dark] .colab-df-convert {\n",
              "      background-color: #3B4455;\n",
              "      fill: #D2E3FC;\n",
              "    }\n",
              "\n",
              "    [theme=dark] .colab-df-convert:hover {\n",
              "      background-color: #434B5C;\n",
              "      box-shadow: 0px 1px 3px 1px rgba(0, 0, 0, 0.15);\n",
              "      filter: drop-shadow(0px 1px 2px rgba(0, 0, 0, 0.3));\n",
              "      fill: #FFFFFF;\n",
              "    }\n",
              "  </style>\n",
              "\n",
              "    <script>\n",
              "      const buttonEl =\n",
              "        document.querySelector('#df-27fdbf17-73f9-4a86-977f-4f8f504f3848 button.colab-df-convert');\n",
              "      buttonEl.style.display =\n",
              "        google.colab.kernel.accessAllowed ? 'block' : 'none';\n",
              "\n",
              "      async function convertToInteractive(key) {\n",
              "        const element = document.querySelector('#df-27fdbf17-73f9-4a86-977f-4f8f504f3848');\n",
              "        const dataTable =\n",
              "          await google.colab.kernel.invokeFunction('convertToInteractive',\n",
              "                                                    [key], {});\n",
              "        if (!dataTable) return;\n",
              "\n",
              "        const docLinkHtml = 'Like what you see? Visit the ' +\n",
              "          '<a target=\"_blank\" href=https://colab.research.google.com/notebooks/data_table.ipynb>data table notebook</a>'\n",
              "          + ' to learn more about interactive tables.';\n",
              "        element.innerHTML = '';\n",
              "        dataTable['output_type'] = 'display_data';\n",
              "        await google.colab.output.renderOutput(dataTable, element);\n",
              "        const docLink = document.createElement('div');\n",
              "        docLink.innerHTML = docLinkHtml;\n",
              "        element.appendChild(docLink);\n",
              "      }\n",
              "    </script>\n",
              "  </div>\n",
              "\n",
              "\n",
              "<div id=\"df-48d31f0f-14ee-4092-af29-0744fedd3014\">\n",
              "  <button class=\"colab-df-quickchart\" onclick=\"quickchart('df-48d31f0f-14ee-4092-af29-0744fedd3014')\"\n",
              "            title=\"Suggest charts\"\n",
              "            style=\"display:none;\">\n",
              "\n",
              "<svg xmlns=\"http://www.w3.org/2000/svg\" height=\"24px\"viewBox=\"0 0 24 24\"\n",
              "     width=\"24px\">\n",
              "    <g>\n",
              "        <path d=\"M19 3H5c-1.1 0-2 .9-2 2v14c0 1.1.9 2 2 2h14c1.1 0 2-.9 2-2V5c0-1.1-.9-2-2-2zM9 17H7v-7h2v7zm4 0h-2V7h2v10zm4 0h-2v-4h2v4z\"/>\n",
              "    </g>\n",
              "</svg>\n",
              "  </button>\n",
              "\n",
              "<style>\n",
              "  .colab-df-quickchart {\n",
              "      --bg-color: #E8F0FE;\n",
              "      --fill-color: #1967D2;\n",
              "      --hover-bg-color: #E2EBFA;\n",
              "      --hover-fill-color: #174EA6;\n",
              "      --disabled-fill-color: #AAA;\n",
              "      --disabled-bg-color: #DDD;\n",
              "  }\n",
              "\n",
              "  [theme=dark] .colab-df-quickchart {\n",
              "      --bg-color: #3B4455;\n",
              "      --fill-color: #D2E3FC;\n",
              "      --hover-bg-color: #434B5C;\n",
              "      --hover-fill-color: #FFFFFF;\n",
              "      --disabled-bg-color: #3B4455;\n",
              "      --disabled-fill-color: #666;\n",
              "  }\n",
              "\n",
              "  .colab-df-quickchart {\n",
              "    background-color: var(--bg-color);\n",
              "    border: none;\n",
              "    border-radius: 50%;\n",
              "    cursor: pointer;\n",
              "    display: none;\n",
              "    fill: var(--fill-color);\n",
              "    height: 32px;\n",
              "    padding: 0;\n",
              "    width: 32px;\n",
              "  }\n",
              "\n",
              "  .colab-df-quickchart:hover {\n",
              "    background-color: var(--hover-bg-color);\n",
              "    box-shadow: 0 1px 2px rgba(60, 64, 67, 0.3), 0 1px 3px 1px rgba(60, 64, 67, 0.15);\n",
              "    fill: var(--button-hover-fill-color);\n",
              "  }\n",
              "\n",
              "  .colab-df-quickchart-complete:disabled,\n",
              "  .colab-df-quickchart-complete:disabled:hover {\n",
              "    background-color: var(--disabled-bg-color);\n",
              "    fill: var(--disabled-fill-color);\n",
              "    box-shadow: none;\n",
              "  }\n",
              "\n",
              "  .colab-df-spinner {\n",
              "    border: 2px solid var(--fill-color);\n",
              "    border-color: transparent;\n",
              "    border-bottom-color: var(--fill-color);\n",
              "    animation:\n",
              "      spin 1s steps(1) infinite;\n",
              "  }\n",
              "\n",
              "  @keyframes spin {\n",
              "    0% {\n",
              "      border-color: transparent;\n",
              "      border-bottom-color: var(--fill-color);\n",
              "      border-left-color: var(--fill-color);\n",
              "    }\n",
              "    20% {\n",
              "      border-color: transparent;\n",
              "      border-left-color: var(--fill-color);\n",
              "      border-top-color: var(--fill-color);\n",
              "    }\n",
              "    30% {\n",
              "      border-color: transparent;\n",
              "      border-left-color: var(--fill-color);\n",
              "      border-top-color: var(--fill-color);\n",
              "      border-right-color: var(--fill-color);\n",
              "    }\n",
              "    40% {\n",
              "      border-color: transparent;\n",
              "      border-right-color: var(--fill-color);\n",
              "      border-top-color: var(--fill-color);\n",
              "    }\n",
              "    60% {\n",
              "      border-color: transparent;\n",
              "      border-right-color: var(--fill-color);\n",
              "    }\n",
              "    80% {\n",
              "      border-color: transparent;\n",
              "      border-right-color: var(--fill-color);\n",
              "      border-bottom-color: var(--fill-color);\n",
              "    }\n",
              "    90% {\n",
              "      border-color: transparent;\n",
              "      border-bottom-color: var(--fill-color);\n",
              "    }\n",
              "  }\n",
              "</style>\n",
              "\n",
              "  <script>\n",
              "    async function quickchart(key) {\n",
              "      const quickchartButtonEl =\n",
              "        document.querySelector('#' + key + ' button');\n",
              "      quickchartButtonEl.disabled = true;  // To prevent multiple clicks.\n",
              "      quickchartButtonEl.classList.add('colab-df-spinner');\n",
              "      try {\n",
              "        const charts = await google.colab.kernel.invokeFunction(\n",
              "            'suggestCharts', [key], {});\n",
              "      } catch (error) {\n",
              "        console.error('Error during call to suggestCharts:', error);\n",
              "      }\n",
              "      quickchartButtonEl.classList.remove('colab-df-spinner');\n",
              "      quickchartButtonEl.classList.add('colab-df-quickchart-complete');\n",
              "    }\n",
              "    (() => {\n",
              "      let quickchartButtonEl =\n",
              "        document.querySelector('#df-48d31f0f-14ee-4092-af29-0744fedd3014 button');\n",
              "      quickchartButtonEl.style.display =\n",
              "        google.colab.kernel.accessAllowed ? 'block' : 'none';\n",
              "    })();\n",
              "  </script>\n",
              "</div>\n",
              "\n",
              "    </div>\n",
              "  </div>\n"
            ],
            "application/vnd.google.colaboratory.intrinsic+json": {
              "type": "dataframe",
              "summary": "{\n  \"name\": \"dict_tabla\",\n  \"rows\": 8,\n  \"fields\": [\n    {\n      \"column\": \"Edad\",\n      \"properties\": {\n        \"dtype\": \"number\",\n        \"std\": 14.760177619089127,\n        \"min\": 3.0,\n        \"max\": 50.0,\n        \"num_unique_values\": 8,\n        \"samples\": [\n          34.666666666666664,\n          30.0,\n          3.0\n        ],\n        \"semantic_type\": \"\",\n        \"description\": \"\"\n      }\n    }\n  ]\n}"
            }
          },
          "metadata": {},
          "execution_count": 50
        }
      ],
      "source": [
        "dict_tabla.describe()"
      ]
    },
    {
      "cell_type": "code",
      "execution_count": 51,
      "metadata": {
        "colab": {
          "base_uri": "https://localhost:8080/",
          "height": 204
        },
        "id": "dKwVbcvNI0G_",
        "outputId": "6696e0dd-eedf-4213-f434-4f2689e7266f"
      },
      "outputs": [
        {
          "output_type": "execute_result",
          "data": {
            "text/plain": [
              "pandas.core.frame.DataFrame"
            ],
            "text/html": [
              "<div style=\"max-width:800px; border: 1px solid var(--colab-border-color);\"><style>\n",
              "      pre.function-repr-contents {\n",
              "        overflow-x: auto;\n",
              "        padding: 8px 12px;\n",
              "        max-height: 500px;\n",
              "      }\n",
              "\n",
              "      pre.function-repr-contents.function-repr-contents-collapsed {\n",
              "        cursor: pointer;\n",
              "        max-height: 100px;\n",
              "      }\n",
              "    </style>\n",
              "    <pre style=\"white-space: initial; background:\n",
              "         var(--colab-secondary-surface-color); padding: 8px 12px;\n",
              "         border-bottom: 1px solid var(--colab-border-color);\"><b>pandas.core.frame.DataFrame</b><br/>def __init__(data=None, index: Axes | None=None, columns: Axes | None=None, dtype: Dtype | None=None, copy: bool | None=None) -&gt; None</pre><pre class=\"function-repr-contents function-repr-contents-collapsed\" style=\"\"><a class=\"filepath\" style=\"display:none\" href=\"#\">/usr/local/lib/python3.10/dist-packages/pandas/core/frame.py</a>Two-dimensional, size-mutable, potentially heterogeneous tabular data.\n",
              "\n",
              "Data structure also contains labeled axes (rows and columns).\n",
              "Arithmetic operations align on both row and column labels. Can be\n",
              "thought of as a dict-like container for Series objects. The primary\n",
              "pandas data structure.\n",
              "\n",
              "Parameters\n",
              "----------\n",
              "data : ndarray (structured or homogeneous), Iterable, dict, or DataFrame\n",
              "    Dict can contain Series, arrays, constants, dataclass or list-like objects. If\n",
              "    data is a dict, column order follows insertion-order. If a dict contains Series\n",
              "    which have an index defined, it is aligned by its index.\n",
              "\n",
              "    .. versionchanged:: 0.25.0\n",
              "       If data is a list of dicts, column order follows insertion-order.\n",
              "\n",
              "index : Index or array-like\n",
              "    Index to use for resulting frame. Will default to RangeIndex if\n",
              "    no indexing information part of input data and no index provided.\n",
              "columns : Index or array-like\n",
              "    Column labels to use for resulting frame when data does not have them,\n",
              "    defaulting to RangeIndex(0, 1, 2, ..., n). If data contains column labels,\n",
              "    will perform column selection instead.\n",
              "dtype : dtype, default None\n",
              "    Data type to force. Only a single dtype is allowed. If None, infer.\n",
              "copy : bool or None, default None\n",
              "    Copy data from inputs.\n",
              "    For dict data, the default of None behaves like ``copy=True``.  For DataFrame\n",
              "    or 2d ndarray input, the default of None behaves like ``copy=False``.\n",
              "    If data is a dict containing one or more Series (possibly of different dtypes),\n",
              "    ``copy=False`` will ensure that these inputs are not copied.\n",
              "\n",
              "    .. versionchanged:: 1.3.0\n",
              "\n",
              "See Also\n",
              "--------\n",
              "DataFrame.from_records : Constructor from tuples, also record arrays.\n",
              "DataFrame.from_dict : From dicts of Series, arrays, or dicts.\n",
              "read_csv : Read a comma-separated values (csv) file into DataFrame.\n",
              "read_table : Read general delimited file into DataFrame.\n",
              "read_clipboard : Read text from clipboard into DataFrame.\n",
              "\n",
              "Notes\n",
              "-----\n",
              "Please reference the :ref:`User Guide &lt;basics.dataframe&gt;` for more information.\n",
              "\n",
              "Examples\n",
              "--------\n",
              "Constructing DataFrame from a dictionary.\n",
              "\n",
              "&gt;&gt;&gt; d = {&#x27;col1&#x27;: [1, 2], &#x27;col2&#x27;: [3, 4]}\n",
              "&gt;&gt;&gt; df = pd.DataFrame(data=d)\n",
              "&gt;&gt;&gt; df\n",
              "   col1  col2\n",
              "0     1     3\n",
              "1     2     4\n",
              "\n",
              "Notice that the inferred dtype is int64.\n",
              "\n",
              "&gt;&gt;&gt; df.dtypes\n",
              "col1    int64\n",
              "col2    int64\n",
              "dtype: object\n",
              "\n",
              "To enforce a single dtype:\n",
              "\n",
              "&gt;&gt;&gt; df = pd.DataFrame(data=d, dtype=np.int8)\n",
              "&gt;&gt;&gt; df.dtypes\n",
              "col1    int8\n",
              "col2    int8\n",
              "dtype: object\n",
              "\n",
              "Constructing DataFrame from a dictionary including Series:\n",
              "\n",
              "&gt;&gt;&gt; d = {&#x27;col1&#x27;: [0, 1, 2, 3], &#x27;col2&#x27;: pd.Series([2, 3], index=[2, 3])}\n",
              "&gt;&gt;&gt; pd.DataFrame(data=d, index=[0, 1, 2, 3])\n",
              "   col1  col2\n",
              "0     0   NaN\n",
              "1     1   NaN\n",
              "2     2   2.0\n",
              "3     3   3.0\n",
              "\n",
              "Constructing DataFrame from numpy ndarray:\n",
              "\n",
              "&gt;&gt;&gt; df2 = pd.DataFrame(np.array([[1, 2, 3], [4, 5, 6], [7, 8, 9]]),\n",
              "...                    columns=[&#x27;a&#x27;, &#x27;b&#x27;, &#x27;c&#x27;])\n",
              "&gt;&gt;&gt; df2\n",
              "   a  b  c\n",
              "0  1  2  3\n",
              "1  4  5  6\n",
              "2  7  8  9\n",
              "\n",
              "Constructing DataFrame from a numpy ndarray that has labeled columns:\n",
              "\n",
              "&gt;&gt;&gt; data = np.array([(1, 2, 3), (4, 5, 6), (7, 8, 9)],\n",
              "...                 dtype=[(&quot;a&quot;, &quot;i4&quot;), (&quot;b&quot;, &quot;i4&quot;), (&quot;c&quot;, &quot;i4&quot;)])\n",
              "&gt;&gt;&gt; df3 = pd.DataFrame(data, columns=[&#x27;c&#x27;, &#x27;a&#x27;])\n",
              "...\n",
              "&gt;&gt;&gt; df3\n",
              "   c  a\n",
              "0  3  1\n",
              "1  6  4\n",
              "2  9  7\n",
              "\n",
              "Constructing DataFrame from dataclass:\n",
              "\n",
              "&gt;&gt;&gt; from dataclasses import make_dataclass\n",
              "&gt;&gt;&gt; Point = make_dataclass(&quot;Point&quot;, [(&quot;x&quot;, int), (&quot;y&quot;, int)])\n",
              "&gt;&gt;&gt; pd.DataFrame([Point(0, 0), Point(0, 3), Point(2, 3)])\n",
              "   x  y\n",
              "0  0  0\n",
              "1  0  3\n",
              "2  2  3</pre>\n",
              "      <script>\n",
              "      if (google.colab.kernel.accessAllowed && google.colab.files && google.colab.files.view) {\n",
              "        for (const element of document.querySelectorAll('.filepath')) {\n",
              "          element.style.display = 'block'\n",
              "          element.onclick = (event) => {\n",
              "            event.preventDefault();\n",
              "            event.stopPropagation();\n",
              "            google.colab.files.view(element.textContent, 475);\n",
              "          };\n",
              "        }\n",
              "      }\n",
              "      for (const element of document.querySelectorAll('.function-repr-contents')) {\n",
              "        element.onclick = (event) => {\n",
              "          event.preventDefault();\n",
              "          event.stopPropagation();\n",
              "          element.classList.toggle('function-repr-contents-collapsed');\n",
              "        };\n",
              "      }\n",
              "      </script>\n",
              "      </div>"
            ]
          },
          "metadata": {},
          "execution_count": 51
        }
      ],
      "source": [
        "type(dict_tabla)"
      ]
    },
    {
      "cell_type": "markdown",
      "metadata": {
        "id": "xLSf7j-9rv4R"
      },
      "source": [
        "**Ejemplo:**\n",
        "\n",
        "Escribir un programa que guarde en un diccionario la relación **divisa : simbolo** y que al solicitar una divisa muestre su símbolo o un mensaje de aviso si la divisa no está en el diccionario y solicite la información para agregarla.\n",
        "- Euro -> €\n",
        "- Dólar -> $\n",
        "- Yen -> ¥"
      ]
    },
    {
      "cell_type": "code",
      "execution_count": 52,
      "metadata": {
        "colab": {
          "base_uri": "https://localhost:8080/"
        },
        "id": "3egAqLpCrv_5",
        "outputId": "4a52ffc3-8725-4d21-c7ef-b83909f5bf49"
      },
      "outputs": [
        {
          "output_type": "stream",
          "name": "stdout",
          "text": [
            "Ingrese la divisa: Euro\n",
            "€\n"
          ]
        }
      ],
      "source": [
        "#Solución\n",
        "dict_divisas = {'Euro':'€', 'Dolar':'$', 'Yen':'¥'}\n",
        "divisa = input('Ingrese la divisa: ')\n",
        "if divisa in dict_divisas.keys():\n",
        "    print(dict_divisas[divisa])\n",
        "else:\n",
        "    simbolo = input('Ingrese simbolo: ')\n",
        "    dict_divisas[divisa] = simbolo"
      ]
    },
    {
      "cell_type": "code",
      "execution_count": 53,
      "metadata": {
        "colab": {
          "base_uri": "https://localhost:8080/"
        },
        "id": "oPwcfGa28FqF",
        "outputId": "6258f0bc-9df4-4ba4-fd19-65a265a9ca24"
      },
      "outputs": [
        {
          "output_type": "execute_result",
          "data": {
            "text/plain": [
              "{'Euro': '€', 'Dolar': '$', 'Yen': '¥'}"
            ]
          },
          "metadata": {},
          "execution_count": 53
        }
      ],
      "source": [
        "dict_divisas"
      ]
    },
    {
      "cell_type": "markdown",
      "metadata": {
        "id": "wYiWkIWWG8vP"
      },
      "source": [
        "## Set"
      ]
    },
    {
      "cell_type": "code",
      "execution_count": 54,
      "metadata": {
        "id": "M3KQnhwWJqwb"
      },
      "outputs": [],
      "source": [
        "set_1 = {'Los Olivos', 'SMP', 'Rimac', 'SMP', 'La Molina', 'Los Olivos'}\n",
        "set_2 = {'SJL', 'SJM', 'Los Olivos', 'Callao', 'San Isidro', 'SMP'}"
      ]
    },
    {
      "cell_type": "code",
      "execution_count": 55,
      "metadata": {
        "colab": {
          "base_uri": "https://localhost:8080/"
        },
        "id": "_ol8_sy8KFpJ",
        "outputId": "91bd8edc-9e33-4c3e-d835-ab337887e446"
      },
      "outputs": [
        {
          "output_type": "execute_result",
          "data": {
            "text/plain": [
              "{'La Molina', 'Los Olivos', 'Rimac', 'SMP'}"
            ]
          },
          "metadata": {},
          "execution_count": 55
        }
      ],
      "source": [
        "set_1"
      ]
    },
    {
      "cell_type": "code",
      "execution_count": 56,
      "metadata": {
        "colab": {
          "base_uri": "https://localhost:8080/"
        },
        "id": "CpidQGRA8FqF",
        "outputId": "2f534ccc-5d7e-4ac3-c7ef-650dde2f3d4a"
      },
      "outputs": [
        {
          "output_type": "execute_result",
          "data": {
            "text/plain": [
              "{'Callao', 'Los Olivos', 'SJL', 'SJM', 'SMP', 'San Isidro'}"
            ]
          },
          "metadata": {},
          "execution_count": 56
        }
      ],
      "source": [
        "set_2"
      ]
    },
    {
      "cell_type": "code",
      "execution_count": 57,
      "metadata": {
        "colab": {
          "base_uri": "https://localhost:8080/"
        },
        "id": "QVVXTk8PKIji",
        "outputId": "dc16aad1-13f7-4de8-aa39-e505100b57ab"
      },
      "outputs": [
        {
          "output_type": "execute_result",
          "data": {
            "text/plain": [
              "{'Los Olivos', 'SMP'}"
            ]
          },
          "metadata": {},
          "execution_count": 57
        }
      ],
      "source": [
        "set_1.intersection(set_2)"
      ]
    },
    {
      "cell_type": "code",
      "execution_count": 58,
      "metadata": {
        "colab": {
          "base_uri": "https://localhost:8080/"
        },
        "id": "etF-lB_BKtWC",
        "outputId": "d9451d8b-c2af-417b-e327-a7d52139a531"
      },
      "outputs": [
        {
          "output_type": "execute_result",
          "data": {
            "text/plain": [
              "{'Los Olivos', 'SMP'}"
            ]
          },
          "metadata": {},
          "execution_count": 58
        }
      ],
      "source": [
        "set_1 & set_2"
      ]
    },
    {
      "cell_type": "code",
      "execution_count": 59,
      "metadata": {
        "colab": {
          "base_uri": "https://localhost:8080/"
        },
        "id": "9IZOnDCoKxE-",
        "outputId": "f8a3b4fe-7c87-4c2c-e605-4e6c14534355"
      },
      "outputs": [
        {
          "output_type": "execute_result",
          "data": {
            "text/plain": [
              "{'Callao',\n",
              " 'La Molina',\n",
              " 'Los Olivos',\n",
              " 'Rimac',\n",
              " 'SJL',\n",
              " 'SJM',\n",
              " 'SMP',\n",
              " 'San Isidro'}"
            ]
          },
          "metadata": {},
          "execution_count": 59
        }
      ],
      "source": [
        "set_1 | set_2"
      ]
    },
    {
      "cell_type": "code",
      "execution_count": 60,
      "metadata": {
        "colab": {
          "base_uri": "https://localhost:8080/"
        },
        "id": "vYRsBTlzK3zQ",
        "outputId": "b8c89bbd-aa0d-4206-9c70-2df756d9f38d"
      },
      "outputs": [
        {
          "output_type": "execute_result",
          "data": {
            "text/plain": [
              "{'La Molina', 'Rimac'}"
            ]
          },
          "metadata": {},
          "execution_count": 60
        }
      ],
      "source": [
        "set_1 - set_2"
      ]
    },
    {
      "cell_type": "code",
      "execution_count": 61,
      "metadata": {
        "colab": {
          "base_uri": "https://localhost:8080/"
        },
        "id": "F5h7wA_ULA4V",
        "outputId": "4099ea32-b5de-4fe3-e3ff-e3c86297e18a"
      },
      "outputs": [
        {
          "output_type": "stream",
          "name": "stdout",
          "text": [
            "SMP\n",
            "Rimac\n",
            "Los Olivos\n",
            "La Molina\n"
          ]
        }
      ],
      "source": [
        "for i in set_1:\n",
        "  print(i)"
      ]
    },
    {
      "cell_type": "code",
      "execution_count": 62,
      "metadata": {
        "id": "SjzPNxnscg3K"
      },
      "outputs": [],
      "source": [
        "set_1.add('Otro')"
      ]
    },
    {
      "cell_type": "code",
      "execution_count": 63,
      "metadata": {
        "colab": {
          "base_uri": "https://localhost:8080/"
        },
        "id": "i3rwrchscj85",
        "outputId": "dbcbe256-4d90-4a23-e30a-5cbc9a12747f"
      },
      "outputs": [
        {
          "output_type": "execute_result",
          "data": {
            "text/plain": [
              "{'La Molina', 'Los Olivos', 'Otro', 'Rimac', 'SMP'}"
            ]
          },
          "metadata": {},
          "execution_count": 63
        }
      ],
      "source": [
        "set_1"
      ]
    },
    {
      "cell_type": "markdown",
      "metadata": {
        "id": "1nATE1WneWtS"
      },
      "source": [
        "# Ejercicio - Estructura Datos\n"
      ]
    },
    {
      "cell_type": "markdown",
      "metadata": {
        "id": "3MNFFnVrybMh"
      },
      "source": [
        "## Parte 1. Operadores"
      ]
    },
    {
      "cell_type": "markdown",
      "metadata": {
        "id": "q6sC9dYSybKB"
      },
      "source": [
        "#### 1.1 Si cuentas con los sgtes datos:\n",
        "\n",
        "a = '11.2'\n",
        "\n",
        "b = 50\n",
        "\n",
        "c = '8'\n",
        "\n",
        "Imprimir por separados los valores de la parte entera y el residuo de la sgte división:\n",
        "\n",
        "(b - c)/(a + c)"
      ]
    },
    {
      "cell_type": "code",
      "execution_count": 84,
      "metadata": {
        "id": "VzaDYNSC2aGP"
      },
      "outputs": [],
      "source": [
        "a = '11.2'\n",
        "b = 50\n",
        "c = '8'\n",
        "\n",
        "#Ingrese su solución aquí"
      ]
    },
    {
      "cell_type": "markdown",
      "metadata": {
        "id": "PtQ7zQmuybHw"
      },
      "source": [
        "#### 1.2 Si:\n",
        "\n",
        "a = 15\n",
        "\n",
        "b = 4\n",
        "\n",
        "Calcular:\n",
        "\n",
        "-- EL valor de exacto de a/b\n",
        "\n",
        "-- La parte entera de a/b\n",
        "\n",
        "-- El residuo de a/b\n",
        "\n",
        "Y ahora para a = 20 y b = 5 ?"
      ]
    },
    {
      "cell_type": "code",
      "execution_count": 67,
      "metadata": {
        "id": "gw1WQWAu2azP"
      },
      "outputs": [],
      "source": [
        "a = 15\n",
        "b = 4\n",
        "\n",
        "#Ingrese su solución aquí"
      ]
    },
    {
      "cell_type": "markdown",
      "metadata": {
        "id": "hYoYxrBjybFB"
      },
      "source": [
        "## Parte 2. Listas"
      ]
    },
    {
      "cell_type": "markdown",
      "metadata": {
        "id": "FZq9niyx2dT6"
      },
      "source": [
        "a. Crear una lista con los nombres de tus familiares incluido el tuyo"
      ]
    },
    {
      "cell_type": "code",
      "execution_count": 68,
      "metadata": {
        "id": "CuBBjPMw4pI7"
      },
      "outputs": [],
      "source": [
        "#Ingrese su solución aquí"
      ]
    },
    {
      "cell_type": "markdown",
      "metadata": {
        "id": "gM4gnWNw2z9T"
      },
      "source": [
        "b. Agrega el nombre de tus 2 mejores amig@s a la lista creada."
      ]
    },
    {
      "cell_type": "code",
      "execution_count": 69,
      "metadata": {
        "id": "JyHGDZUF4pd8"
      },
      "outputs": [],
      "source": [
        "#Ingrese su solución aquí"
      ]
    },
    {
      "cell_type": "markdown",
      "metadata": {
        "id": "EZVk9RVx21Pb"
      },
      "source": [
        "c. Selecciona un sublista desde la posición 2 a la posición 4 ([pos1, pos2, pos3, pos4, pos5, pos6 , ...]) de tu lista"
      ]
    },
    {
      "cell_type": "code",
      "execution_count": 70,
      "metadata": {
        "id": "1X4aMsH64p7q"
      },
      "outputs": [],
      "source": [
        "#Ingrese su solución aquí"
      ]
    },
    {
      "cell_type": "markdown",
      "metadata": {
        "id": "TZwJp_YA22wO"
      },
      "source": [
        "d. Elimina de la lista tu nombre"
      ]
    },
    {
      "cell_type": "code",
      "execution_count": 71,
      "metadata": {
        "id": "jJfh0vxg4qk6"
      },
      "outputs": [],
      "source": [
        "#Ingrese su solución aquí"
      ]
    },
    {
      "cell_type": "markdown",
      "metadata": {
        "id": "zI6Pgo8B22rD"
      },
      "source": [
        "e. Elimina de la lista el elemento de la posición 3."
      ]
    },
    {
      "cell_type": "code",
      "execution_count": 72,
      "metadata": {
        "id": "RdeSIs0L4q85"
      },
      "outputs": [],
      "source": [
        "#Ingrese su solución aquí"
      ]
    },
    {
      "cell_type": "markdown",
      "metadata": {
        "id": "WAtYtmsz22nL"
      },
      "source": [
        "f. Calcula el tamaño final de tu lista."
      ]
    },
    {
      "cell_type": "code",
      "execution_count": 73,
      "metadata": {
        "id": "CyFUX3s84rgh"
      },
      "outputs": [],
      "source": [
        "#Ingrese su solución aquí"
      ]
    },
    {
      "cell_type": "markdown",
      "metadata": {
        "id": "vjANcDBg19iM"
      },
      "source": [
        "## Parte 3. Tuplas"
      ]
    },
    {
      "cell_type": "markdown",
      "metadata": {
        "id": "ZTz5ACas3Tun"
      },
      "source": [
        "a. Crear una tupla con las edades de tus familiares incluido el tuyo"
      ]
    },
    {
      "cell_type": "code",
      "execution_count": 74,
      "metadata": {
        "id": "Z2wS_9O94sLh"
      },
      "outputs": [],
      "source": [
        "#Ingrese su solución aquí"
      ]
    },
    {
      "cell_type": "markdown",
      "metadata": {
        "id": "d2Tg7b_n28M0"
      },
      "source": [
        "b. Agrega el nombre de tus 2 mejores amig@s a la lista creada. Se puede?"
      ]
    },
    {
      "cell_type": "code",
      "execution_count": 75,
      "metadata": {
        "id": "bYEYEMFS4tEB"
      },
      "outputs": [],
      "source": [
        "#Ingrese su solución aquí"
      ]
    },
    {
      "cell_type": "markdown",
      "metadata": {
        "id": "8s-J4NcV28Kk"
      },
      "source": [
        "c. Crea una nueva tupla con las edades de tus 2 mejores amig@s adicional a la tupla creada. Se puede?"
      ]
    },
    {
      "cell_type": "code",
      "execution_count": 76,
      "metadata": {
        "id": "rJqmwwoz4tei"
      },
      "outputs": [],
      "source": [
        "#Ingrese su solución aquí"
      ]
    },
    {
      "cell_type": "markdown",
      "metadata": {
        "id": "3Z-VievI28Hz"
      },
      "source": [
        "d. Selecciona un subtupla desde la posición -3 a la posición -1 de tu tupla."
      ]
    },
    {
      "cell_type": "code",
      "execution_count": 77,
      "metadata": {
        "id": "5DNuxYLc4twB"
      },
      "outputs": [],
      "source": [
        "#Ingrese su solución aquí"
      ]
    },
    {
      "cell_type": "markdown",
      "metadata": {
        "id": "rXAExLCG28FU"
      },
      "source": [
        "e. Elimina de la tupla la mayor edad. Se puede? Qué podrías hacer?"
      ]
    },
    {
      "cell_type": "code",
      "execution_count": 78,
      "metadata": {
        "id": "JspvYiZq28Ac"
      },
      "outputs": [],
      "source": [
        "#Ingrese su solución aquí"
      ]
    },
    {
      "cell_type": "markdown",
      "metadata": {
        "id": "TnZLKKWA19gT"
      },
      "source": [
        "## Parte 4. Sets"
      ]
    },
    {
      "cell_type": "markdown",
      "metadata": {
        "id": "RTZcIssr3Hw9"
      },
      "source": [
        "a. Crea un conjunto con los siguientes valores: \"Comercial\", \"Riesgos\", \"Finanzas\", \"RRHH\""
      ]
    },
    {
      "cell_type": "code",
      "execution_count": 79,
      "metadata": {
        "id": "4G2Hif2-4ueS"
      },
      "outputs": [],
      "source": [
        "#Ingrese su solución aquí"
      ]
    },
    {
      "cell_type": "markdown",
      "metadata": {
        "id": "tbDDibpC3B96"
      },
      "source": [
        "b. Crea otro conjunto con los siguientes valores: \"Finanzas\", \"Gerencia\", \"Ventas\", \"Riesgos\", \"Logística\")"
      ]
    },
    {
      "cell_type": "code",
      "execution_count": 80,
      "metadata": {
        "id": "vwWRPNkF4uuZ"
      },
      "outputs": [],
      "source": [
        "#Ingrese su solución aquí"
      ]
    },
    {
      "cell_type": "markdown",
      "metadata": {
        "id": "rtzYr0pA3B79"
      },
      "source": [
        "c. Genera la unión de ambos conjuntos. Y convertirlo en una lista."
      ]
    },
    {
      "cell_type": "code",
      "execution_count": 81,
      "metadata": {
        "id": "-3uE5X_N4vdZ"
      },
      "outputs": [],
      "source": [
        "#Ingrese su solución aquí"
      ]
    },
    {
      "cell_type": "markdown",
      "metadata": {
        "id": "6xKGefVw3B5c"
      },
      "source": [
        "d. Genera la interseccion de ambos conjuntos. Y convertirlo en una tupla."
      ]
    },
    {
      "cell_type": "code",
      "execution_count": 82,
      "metadata": {
        "id": "aVA1qXdt4v_B"
      },
      "outputs": [],
      "source": [
        "#Ingrese su solución aquí"
      ]
    },
    {
      "cell_type": "markdown",
      "metadata": {
        "id": "Hz2BHlOm3B22"
      },
      "source": [
        "e. Genera una lista con los elementos que están en el 1er conjunto pero no en el 2do conjunto. [No usar \"if\"s ni \"for\"s]"
      ]
    },
    {
      "cell_type": "code",
      "execution_count": 83,
      "metadata": {
        "id": "IGwnRnOU4wTy"
      },
      "outputs": [],
      "source": [
        "#Ingrese su solución aquí"
      ]
    },
    {
      "cell_type": "markdown",
      "metadata": {
        "id": "kO_b_j3619eX"
      },
      "source": [
        "## Parte 5. Diccionarios"
      ]
    },
    {
      "cell_type": "markdown",
      "metadata": {
        "id": "q6XR8hMr3W1R"
      },
      "source": [
        "a. Crea un diccionario vacio."
      ]
    },
    {
      "cell_type": "code",
      "execution_count": null,
      "metadata": {
        "id": "CwUerZpp4w9D"
      },
      "outputs": [],
      "source": [
        "#Ingrese su solución aquí"
      ]
    },
    {
      "cell_type": "markdown",
      "metadata": {
        "id": "e_54Vinr3Wy_"
      },
      "source": [
        "b. Añade 5 elementos al diccionario donde la **Clave** sea un país y el **Valor** sea el número de habitantes."
      ]
    },
    {
      "cell_type": "code",
      "execution_count": null,
      "metadata": {
        "id": "fe5uJQeD4xZk"
      },
      "outputs": [],
      "source": [
        "#Ingrese su solución aquí"
      ]
    },
    {
      "cell_type": "markdown",
      "metadata": {
        "id": "F13nNFMm3Wwn"
      },
      "source": [
        "c. Imprime solo las llaves del diccionario."
      ]
    },
    {
      "cell_type": "code",
      "execution_count": null,
      "metadata": {
        "id": "bOhONJEl4x4r"
      },
      "outputs": [],
      "source": [
        "#Ingrese su solución aquí"
      ]
    },
    {
      "cell_type": "markdown",
      "metadata": {
        "id": "Oa8GDFMB3Wtu"
      },
      "source": [
        "d. Imprime solo los valores del diccionario."
      ]
    },
    {
      "cell_type": "code",
      "execution_count": null,
      "metadata": {
        "id": "pEiOlBoW4ymc"
      },
      "outputs": [],
      "source": [
        "#Ingrese su solución aquí"
      ]
    },
    {
      "cell_type": "markdown",
      "metadata": {
        "id": "b5vjsE1f3WrI"
      },
      "source": [
        "e. Actualiza el valor del nro de habitantes del país de tu elección multiplicando su valor por 1.5"
      ]
    },
    {
      "cell_type": "code",
      "execution_count": null,
      "metadata": {
        "id": "sLSfHjqp4zEW"
      },
      "outputs": [],
      "source": [
        "#Ingrese su solución aquí"
      ]
    },
    {
      "cell_type": "markdown",
      "metadata": {
        "id": "LuUulTa_eAP6"
      },
      "source": [
        "f. Elimina del diccionario el país con el menor número de habitantes."
      ]
    },
    {
      "cell_type": "code",
      "execution_count": null,
      "metadata": {
        "id": "47pZN7b219Kj"
      },
      "outputs": [],
      "source": [
        "#Ingrese su solución aquí"
      ]
    }
  ],
  "metadata": {
    "colab": {
      "collapsed_sections": [
        "IQuZ8-Y3spHv",
        "BSdZ2tu33qW1",
        "IzAGzkp0ACKr",
        "VWb17vLXBNAj",
        "wYiWkIWWG8vP",
        "1nATE1WneWtS",
        "3MNFFnVrybMh",
        "q6sC9dYSybKB",
        "PtQ7zQmuybHw",
        "hYoYxrBjybFB",
        "vjANcDBg19iM",
        "TnZLKKWA19gT",
        "kO_b_j3619eX"
      ],
      "provenance": []
    },
    "kernelspec": {
      "display_name": "Python 3",
      "language": "python",
      "name": "python3"
    },
    "language_info": {
      "codemirror_mode": {
        "name": "ipython",
        "version": 3
      },
      "file_extension": ".py",
      "mimetype": "text/x-python",
      "name": "python",
      "nbconvert_exporter": "python",
      "pygments_lexer": "ipython3",
      "version": "3.8.5"
    }
  },
  "nbformat": 4,
  "nbformat_minor": 0
}