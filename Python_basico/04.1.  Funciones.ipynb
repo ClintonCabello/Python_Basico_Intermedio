{
  "cells": [
    {
      "cell_type": "markdown",
      "metadata": {
        "id": "xucMXne3cfnR"
      },
      "source": [
        "## Funciones en Python"
      ]
    },
    {
      "cell_type": "markdown",
      "metadata": {
        "id": "QYGGRJ4CcfnS"
      },
      "source": [
        "Una función es una __porción de código encapsulada__ que tiene como objetivo realizar alguna tarea en específico. Tiene entradas, también denominadas argumentos, y salidas, o resultados.\n",
        "\n",
        "Utilizar funciones tiene como ventaja que se divide el código en partes más pequeñas, sencillas y reutilizables, por lo que el código se observa más limpio, entendible y organizado.\n"
      ]
    },
    {
      "cell_type": "markdown",
      "metadata": {
        "id": "3-wSE1zFcfnS"
      },
      "source": [
        "### Sintaxis\n",
        "\n",
        "Las funciones tienen la siguiente sintaxis:\n",
        "\n",
        "def [nombreDeLaFunción] ([argumentos]):\n",
        "    \n",
        "    cuerpo\n",
        "    \n",
        "    return [salida]\n",
        "    \n",
        "  "
      ]
    },
    {
      "cell_type": "code",
      "execution_count": 1,
      "metadata": {
        "id": "6DMMFSTecfnS"
      },
      "outputs": [],
      "source": [
        "def miFuncion (a,b):\n",
        "    suma = a**b\n",
        "    #cuerpo\n",
        "    return suma"
      ]
    },
    {
      "cell_type": "code",
      "execution_count": 2,
      "metadata": {
        "colab": {
          "base_uri": "https://localhost:8080/"
        },
        "id": "lTcpl0ihcfnT",
        "outputId": "ba5c1083-4644-4b1f-b395-44f220a8e778"
      },
      "outputs": [
        {
          "output_type": "execute_result",
          "data": {
            "text/plain": [
              "177147"
            ]
          },
          "metadata": {},
          "execution_count": 2
        }
      ],
      "source": [
        "miFuncion(3,11)"
      ]
    },
    {
      "cell_type": "markdown",
      "metadata": {
        "id": "qEejB_z-cfnU"
      },
      "source": [
        "Observe que para definir funciones se usa la palabra clave \"def\" y para definir la salida de la función se utiliza la palabra clave return.\n",
        "\n",
        "Tenga en cuenta que los argumentos pueden ser muchos, solo uno o incluso ninguno. El nombre de estos argumentos, al igual que el nombre de la función, siguen las mismas reglas de nomenclatura que las variables.\n",
        "\n",
        "Al igual que con las estructuras de las sentencias \"if\", \"for\" y \"while\", todo el código dentro de la función se identifica porque tiene sangrado y esto permite delimitar en dónde termina la función."
      ]
    },
    {
      "cell_type": "code",
      "execution_count": 3,
      "metadata": {
        "id": "MhLllK97cfnU"
      },
      "outputs": [],
      "source": [
        "def cuadrado_de_la_suma(x1, x2, x3):\n",
        "    resultado1 = ( x1 + x2 + x3 )**2\n",
        "    # Operaciones\n",
        "    # Sentencias\n",
        "    # Órdenes\n",
        "    return resultado1\n",
        "    # Dentro de la funcion\n",
        "# fuera de la funcion\n"
      ]
    },
    {
      "cell_type": "markdown",
      "metadata": {
        "id": "_-dMTEk2cfnV"
      },
      "source": [
        "Si ejecuta la celda anterior observará que no se arroja ningún resultado, esto ocurre porque en la celda anterior solo se ha definido la función \"miFunción\" mas no se ha utilizado.\n",
        "\n",
        "Para utilizar (llamar o invocar) una función se escribe el nombre de la función y luego entre paréntesis se escriben los argumentos que necesita."
      ]
    },
    {
      "cell_type": "code",
      "execution_count": 4,
      "metadata": {
        "colab": {
          "base_uri": "https://localhost:8080/"
        },
        "id": "JHl_2InVcfnV",
        "outputId": "be8e5ec0-e30f-4aca-e1ce-37fe26678e5d"
      },
      "outputs": [
        {
          "output_type": "stream",
          "name": "stdout",
          "text": [
            "196\n"
          ]
        }
      ],
      "source": [
        "factor = cuadrado_de_la_suma(2, 5, 7)\n",
        "print(factor)"
      ]
    },
    {
      "cell_type": "markdown",
      "metadata": {
        "id": "n5yg0Xh3cfnW"
      },
      "source": [
        "Una función es una porción de código que ejecuta una acción en específico y no es obligatorio que retorne un valor, existen funciones que modifican estados o realizan otras tareas que no requieren que se utilice la palabra clave return."
      ]
    },
    {
      "cell_type": "code",
      "execution_count": 5,
      "metadata": {
        "id": "hTeJ1wTacfnW"
      },
      "outputs": [],
      "source": [
        "def ordenar(x,y):\n",
        "    if x < y:\n",
        "        print(x, y)\n",
        "    else:\n",
        "        print(y, x)"
      ]
    },
    {
      "cell_type": "code",
      "execution_count": 6,
      "metadata": {
        "colab": {
          "base_uri": "https://localhost:8080/"
        },
        "id": "fkesdAUGcfnW",
        "outputId": "7d90d465-858a-4a7f-9cee-477f49481169"
      },
      "outputs": [
        {
          "output_type": "stream",
          "name": "stdout",
          "text": [
            "30 100\n"
          ]
        }
      ],
      "source": [
        "ordenar(100,30)"
      ]
    },
    {
      "cell_type": "markdown",
      "metadata": {
        "id": "xE4cUAqvcfnW"
      },
      "source": [
        "Por ejemplo, la función anterior no retorna ningún valor porque su tarea es imprimir en pantalla los números ingresados siguiendo un orden."
      ]
    },
    {
      "cell_type": "markdown",
      "metadata": {
        "id": "2_55PaSGcfnX"
      },
      "source": [
        "Observe que si intenta guardar en un espacio de memoria (en una variable) el resultado de una función que no retorna nigún valor, dicho espacio de memoria tendrá almacenado un \"None\", palabra clave reservada para valores \"vacios\" o \"nulos\"."
      ]
    },
    {
      "cell_type": "code",
      "execution_count": 7,
      "metadata": {
        "colab": {
          "base_uri": "https://localhost:8080/"
        },
        "id": "UjbZRZHKcfnX",
        "outputId": "c0824156-779f-41c9-97fe-ab2e5e4422b5"
      },
      "outputs": [
        {
          "output_type": "stream",
          "name": "stdout",
          "text": [
            "40 205\n",
            "variable s: None\n"
          ]
        }
      ],
      "source": [
        "s = ordenar(40,205)\n",
        "print(\"variable s: {}\".format(s))"
      ]
    },
    {
      "cell_type": "markdown",
      "metadata": {
        "id": "rYpfTrONcfnX"
      },
      "source": [
        "Para utilizar una función, esta debe haberse definido con anticipación o importado de alguna biblioteca, por lo tanto si intenta utilizar una función que no ha sido definida obtendrá el mensaje de error: \"NameError\""
      ]
    },
    {
      "cell_type": "markdown",
      "metadata": {
        "id": "rtXZfeqbcfnX"
      },
      "source": [
        "Además, existe el concepto de variable global y variable local. Aquello que se define fuera de una estructura def o class es una variable global, mientras que las que se definen dentro de alguna de esas estructuras es una variable local. Las locales solo existen dentro de su propio entorno local y al desaparecer el entorno también desaparecen ellas."
      ]
    },
    {
      "cell_type": "code",
      "execution_count": 8,
      "metadata": {
        "colab": {
          "base_uri": "https://localhost:8080/"
        },
        "id": "3-o4Xk-ecfnY",
        "outputId": "97a8932e-f811-4b2f-b02b-941e89ca6c74"
      },
      "outputs": [
        {
          "output_type": "stream",
          "name": "stdout",
          "text": [
            "True\n",
            "entorno local\n",
            "feliz\n",
            "entorno global\n"
          ]
        }
      ],
      "source": [
        "estado = \"feliz\"\n",
        "lista = [0,1]\n",
        "#fuera tenemos variables globales\n",
        "\n",
        "\n",
        "def ordenar(x,y):\n",
        "    #dentro de una estructura def tenemos variables locales\n",
        "    #global estado\n",
        "    if x < y:\n",
        "        estado = True\n",
        "    else:\n",
        "        estado = False\n",
        "    print(estado)\n",
        "    print(\"entorno local\")\n",
        "\n",
        "ordenar(50,60)\n",
        "print(estado)\n",
        "print(\"entorno global\")"
      ]
    },
    {
      "cell_type": "markdown",
      "metadata": {
        "id": "Q9xmuLSfcfnY"
      },
      "source": [
        "### Pasos para definir funciones\n",
        "\n",
        "1. Definir cuál será la salida de la función. En primer lugar debe tener en cuenta cuál será el objetivo de la función, es decir, cuál es la salida o resultado final que debe retornar. Por lo general este primer paso es definido como un requerimiento por parte del cliente.\n",
        "2. Definir las entradas. Es decir cuáles son los argumentos necesarios que proporcionan la información suficiente para obtener el resultado final. Aquí toma importancia definir de qué tipo de dato deben ser las entradas.\n",
        "3. Diseñar el algoritmo de la función. Es decir definir cuáles serán los pasos que permitirán convertir las entradas en salidas. Se recomienda utilizar diagramas de flujo para esquematizar el algoritmo.\n",
        "4. Depuración. Es la fase en la que se prueba el funcionamiento del código, se corrigen los errores y se optimiza la función.\n",
        "5. Documentación. Consiste en comentar oportunamente el código escrito."
      ]
    },
    {
      "cell_type": "markdown",
      "metadata": {
        "id": "odRw0ZSPcfnY"
      },
      "source": [
        "A continuación se seguirán los pasos indicados para definir una función que devolverá una lista con la serie de fibonacci desde cero hasta un número \"n\". La serie de fibonacci se caracteriza porque siempre empieza con 0 y 1, y a partir del tercer valor este es el resultado de sumar los dos anteriores: 0 , 1 , 1 , 2 , 3 , 5 , 8 , 13 , 21 , 34 , 55 , 89 , 144 , 233 ...\n",
        "\n",
        "\n",
        "1. La salida será una lista que contenga la serie de números de fibonacci desde cero hasta \"n\"\n",
        "2. El argumento que necesita la función es el número \"n\", el cual indicará en qué momento se truncará la serie de números. Es el único que se necesita.\n",
        "3. El algoritmo de la función será el siguiente:\n",
        "\n",
        "    a) definir dos variables \"int\" denominadas \"a\" y \"b\" que al inicio tendrán los valores 0 y 1 y luego se irá actualizando según la regla de la serie ( x3 = x2 + x1)\n",
        "    \n",
        "    b) definir una lista denominada \"serie\" en donde se guardará la serie\n",
        "    \n",
        "    c) utilizar una estructura while para que mientras la variable \"a\" sea menor que \"n\", se guarde \"a\" en la serie y se actualicen los valores de \"a\" y \"b\" de tal manera que el nuevo \"a\" sea el antiguo \"b\" y el nuevo \"b\" sea la suma de los antiguos \"a\" y \"b\"\n",
        "    \n",
        "    \n",
        "    0  ,  1  ,   1    ,   2  ,   3 , 5 , 8 , 13 , 21 ...\n",
        "    a0 , b0\n",
        "        a1=b0, b1=a0+b0\n",
        "               a2=b1, b2=a1+b1\n",
        "                       a3=b2, b3=a2+a1\n",
        "    \n",
        "    \n",
        "    d) retornar la serie"
      ]
    },
    {
      "cell_type": "code",
      "execution_count": 9,
      "metadata": {
        "id": "p6RACPxBcfnZ"
      },
      "outputs": [],
      "source": [
        "def fibonacci(n):\n",
        "    a, b = 0, 1\n",
        "    serie = []\n",
        "    while a < n:\n",
        "        serie.append(a)\n",
        "        (a, b) = (b, a+b)\n",
        "        # a nuevo = b anterior\n",
        "        # b nuevo = a anterior + b anterior\n",
        "    return serie"
      ]
    },
    {
      "cell_type": "markdown",
      "metadata": {
        "id": "MnMwWHHicfnZ"
      },
      "source": [
        "4. La depuración se realiza probando la función con múltiples entradas y validando que las salidas sean correctas."
      ]
    },
    {
      "cell_type": "code",
      "execution_count": 10,
      "metadata": {
        "id": "dhLiiWoQcfnZ",
        "colab": {
          "base_uri": "https://localhost:8080/"
        },
        "outputId": "cf463d66-4937-43b8-a4a6-79ed3bf1915d"
      },
      "outputs": [
        {
          "output_type": "stream",
          "name": "stdout",
          "text": [
            "[0, 1, 1, 2, 3, 5, 8, 13, 21, 34, 55, 89, 144, 233, 377, 610]\n"
          ]
        }
      ],
      "source": [
        "resultado = fibonacci(800)\n",
        "print(resultado)"
      ]
    },
    {
      "cell_type": "code",
      "execution_count": 11,
      "metadata": {
        "id": "jGSEkYFIcfnZ",
        "colab": {
          "base_uri": "https://localhost:8080/"
        },
        "outputId": "d833909f-ec4d-4596-b136-4bb451341beb"
      },
      "outputs": [
        {
          "output_type": "stream",
          "name": "stdout",
          "text": [
            "[0, 1, 1, 2, 3, 5, 8, 13, 21, 34, 55, 89, 144, 233, 377, 610, 987, 1597, 2584, 4181, 6765, 10946, 17711, 28657, 46368, 75025, 121393, 196418]\n"
          ]
        }
      ],
      "source": [
        "resultado = fibonacci(270000)\n",
        "print(resultado)"
      ]
    },
    {
      "cell_type": "code",
      "execution_count": 12,
      "metadata": {
        "id": "hlXX2utgcfna",
        "colab": {
          "base_uri": "https://localhost:8080/"
        },
        "outputId": "0279b74e-a568-409e-8ed6-7e8a2ffbcd54"
      },
      "outputs": [
        {
          "output_type": "stream",
          "name": "stdout",
          "text": [
            "[0, 1, 1, 2, 3, 5, 8, 13, 21, 34, 55, 89, 144, 233, 377, 610, 987, 1597, 2584, 4181, 6765, 10946, 17711, 28657, 46368, 75025, 121393, 196418, 317811, 514229, 832040, 1346269, 2178309, 3524578, 5702887, 9227465, 14930352, 24157817, 39088169, 63245986, 102334155, 165580141, 267914296, 433494437]\n"
          ]
        }
      ],
      "source": [
        "resultado = fibonacci(500000000)\n",
        "print(resultado)"
      ]
    },
    {
      "cell_type": "markdown",
      "metadata": {
        "id": "HEAtPPNwcfna"
      },
      "source": [
        "5. El último paso consiste en comentar la función, para ello se recomienda el siguiente esquema:\n",
        "\n",
        "def miFuncion (argumentos):\n",
        "    \n",
        "    \"\"\" #Describir qué hace la función\n",
        "        #Describir sus argumentos\n",
        "        #Describir qué excepciones tiene\n",
        "    \"\"\""
      ]
    },
    {
      "cell_type": "code",
      "execution_count": 13,
      "metadata": {
        "id": "5sA88bC6cfna"
      },
      "outputs": [],
      "source": [
        "def fibonacci(n):\n",
        "    \"\"\"Retorna la serie de fibonacci desde cero hasta \"n\"\n",
        "        Argumentos:\n",
        "            n(int): el limite maximo de la funcion\n",
        "        excepciones: si el numero n es menor que 1, retorna una lista vacia.\n",
        "    \"\"\"\n",
        "    a, b = 0, 1\n",
        "    serie = []\n",
        "    while a < n:\n",
        "        serie.append(a)\n",
        "        a, b = b, a+b\n",
        "    return serie"
      ]
    },
    {
      "cell_type": "code",
      "execution_count": 14,
      "metadata": {
        "id": "1yC05Acocfnb",
        "colab": {
          "base_uri": "https://localhost:8080/"
        },
        "outputId": "bb27ec15-6daf-463c-8bb9-48b1291080c8"
      },
      "outputs": [
        {
          "output_type": "stream",
          "name": "stdout",
          "text": [
            "[]\n"
          ]
        }
      ],
      "source": [
        "print(fibonacci(0))"
      ]
    },
    {
      "cell_type": "markdown",
      "metadata": {
        "id": "7uc2Dnb8cfnb"
      },
      "source": [
        "Después de documentar una función, cualquier usuario puede utilzar la línea help([nombreDeLaFuncion]) para leer lo que se ha comentado."
      ]
    },
    {
      "cell_type": "code",
      "execution_count": 15,
      "metadata": {
        "id": "KkHE39qOcfnb",
        "colab": {
          "base_uri": "https://localhost:8080/"
        },
        "outputId": "17b9238d-c655-4607-ab6c-2670b143259e"
      },
      "outputs": [
        {
          "output_type": "stream",
          "name": "stdout",
          "text": [
            "Help on function fibonacci in module __main__:\n",
            "\n",
            "fibonacci(n)\n",
            "    Retorna la serie de fibonacci desde cero hasta \"n\"\n",
            "    Argumentos:\n",
            "        n(int): el limite maximo de la funcion\n",
            "    excepciones: si el numero n es menor que 1, retorna una lista vacia.\n",
            "\n"
          ]
        }
      ],
      "source": [
        "help(fibonacci)"
      ]
    },
    {
      "cell_type": "markdown",
      "metadata": {
        "id": "aFN4sc09cfnc"
      },
      "source": [
        "Otro ejemplo de cómo documentar una función:"
      ]
    },
    {
      "cell_type": "code",
      "execution_count": 16,
      "metadata": {
        "id": "C7bIbYK0cfnc"
      },
      "outputs": [],
      "source": [
        "def miFuncion(x,y):\n",
        "    \"\"\"Devuelve el cuadro de la suma de las entradas.\n",
        "    Argumentos:\n",
        "        x (int): numero cualquiera\n",
        "        y (int): numero cualquiera\n",
        "    Excepciones: solo se aceptan número como entrada\n",
        "    \"\"\"\n",
        "    z = (x+y)**2\n",
        "    return z"
      ]
    },
    {
      "cell_type": "code",
      "execution_count": 17,
      "metadata": {
        "id": "yoEhxqtpcfnc",
        "colab": {
          "base_uri": "https://localhost:8080/"
        },
        "outputId": "8ece9403-6878-40d7-e8ca-a5511124889e"
      },
      "outputs": [
        {
          "output_type": "stream",
          "name": "stdout",
          "text": [
            "Help on function miFuncion in module __main__:\n",
            "\n",
            "miFuncion(x, y)\n",
            "    Devuelve el cuadro de la suma de las entradas.\n",
            "    Argumentos:\n",
            "        x (int): numero cualquiera\n",
            "        y (int): numero cualquiera\n",
            "    Excepciones: solo se aceptan número como entrada\n",
            "\n"
          ]
        }
      ],
      "source": [
        "help(miFuncion)"
      ]
    },
    {
      "cell_type": "markdown",
      "metadata": {
        "id": "DLno5cTQcfnd"
      },
      "source": [
        "En la clase anterior se presentó la función range, la cual tiene tres argumentos, pero si se dan menos datos de entrada, la función toma algunos valores por defecto."
      ]
    },
    {
      "cell_type": "code",
      "execution_count": 18,
      "metadata": {
        "id": "R4G1rQXAcfnd",
        "colab": {
          "base_uri": "https://localhost:8080/"
        },
        "outputId": "5c9fd3dd-6b79-431b-d335-1d675376dbfb"
      },
      "outputs": [
        {
          "output_type": "stream",
          "name": "stdout",
          "text": [
            "range(0, 10)\n",
            "[0, 1, 2, 3, 4, 5, 6, 7, 8, 9]\n"
          ]
        }
      ],
      "source": [
        "# Valores por defecto en los argumentos\n",
        "rango = range(10) # por defecto: inicio = 0, paso = 1\n",
        "print(rango)\n",
        "print(list(rango))"
      ]
    },
    {
      "cell_type": "code",
      "execution_count": 19,
      "metadata": {
        "id": "MaZHSdkNcfne",
        "colab": {
          "base_uri": "https://localhost:8080/"
        },
        "outputId": "b40217d5-12fb-4682-c18f-94d6b1a45017"
      },
      "outputs": [
        {
          "output_type": "stream",
          "name": "stdout",
          "text": [
            "range(5, 10)\n",
            "[5, 6, 7, 8, 9]\n"
          ]
        }
      ],
      "source": [
        "rango = range(5, 10) # por defecto: paso = 1\n",
        "print(rango)\n",
        "print(list(rango))"
      ]
    },
    {
      "cell_type": "code",
      "execution_count": 20,
      "metadata": {
        "id": "xPg2pQa5cfne",
        "colab": {
          "base_uri": "https://localhost:8080/"
        },
        "outputId": "dd2a33db-840a-486c-a059-7be54d887048"
      },
      "outputs": [
        {
          "output_type": "stream",
          "name": "stdout",
          "text": [
            "range(5, 10, 2)\n",
            "[5, 7, 9]\n"
          ]
        }
      ],
      "source": [
        "rango = range(5, 10, 2)\n",
        "print(rango)\n",
        "print(list(rango))"
      ]
    },
    {
      "cell_type": "markdown",
      "metadata": {
        "id": "vzfv3b8Ucfne"
      },
      "source": [
        "Puede utilizar la función \"help()\" para entender mejor cualquier función. Observe la documentación de la función \"range()\":"
      ]
    },
    {
      "cell_type": "code",
      "execution_count": 21,
      "metadata": {
        "id": "gtnGb0jJcfnn",
        "colab": {
          "base_uri": "https://localhost:8080/"
        },
        "outputId": "832899c8-0538-414a-f628-4eb84ea581ae"
      },
      "outputs": [
        {
          "output_type": "stream",
          "name": "stdout",
          "text": [
            "Help on class range in module builtins:\n",
            "\n",
            "class range(object)\n",
            " |  range(stop) -> range object\n",
            " |  range(start, stop[, step]) -> range object\n",
            " |  \n",
            " |  Return an object that produces a sequence of integers from start (inclusive)\n",
            " |  to stop (exclusive) by step.  range(i, j) produces i, i+1, i+2, ..., j-1.\n",
            " |  start defaults to 0, and stop is omitted!  range(4) produces 0, 1, 2, 3.\n",
            " |  These are exactly the valid indices for a list of 4 elements.\n",
            " |  When step is given, it specifies the increment (or decrement).\n",
            " |  \n",
            " |  Methods defined here:\n",
            " |  \n",
            " |  __bool__(self, /)\n",
            " |      True if self else False\n",
            " |  \n",
            " |  __contains__(self, key, /)\n",
            " |      Return key in self.\n",
            " |  \n",
            " |  __eq__(self, value, /)\n",
            " |      Return self==value.\n",
            " |  \n",
            " |  __ge__(self, value, /)\n",
            " |      Return self>=value.\n",
            " |  \n",
            " |  __getattribute__(self, name, /)\n",
            " |      Return getattr(self, name).\n",
            " |  \n",
            " |  __getitem__(self, key, /)\n",
            " |      Return self[key].\n",
            " |  \n",
            " |  __gt__(self, value, /)\n",
            " |      Return self>value.\n",
            " |  \n",
            " |  __hash__(self, /)\n",
            " |      Return hash(self).\n",
            " |  \n",
            " |  __iter__(self, /)\n",
            " |      Implement iter(self).\n",
            " |  \n",
            " |  __le__(self, value, /)\n",
            " |      Return self<=value.\n",
            " |  \n",
            " |  __len__(self, /)\n",
            " |      Return len(self).\n",
            " |  \n",
            " |  __lt__(self, value, /)\n",
            " |      Return self<value.\n",
            " |  \n",
            " |  __ne__(self, value, /)\n",
            " |      Return self!=value.\n",
            " |  \n",
            " |  __reduce__(...)\n",
            " |      Helper for pickle.\n",
            " |  \n",
            " |  __repr__(self, /)\n",
            " |      Return repr(self).\n",
            " |  \n",
            " |  __reversed__(...)\n",
            " |      Return a reverse iterator.\n",
            " |  \n",
            " |  count(...)\n",
            " |      rangeobject.count(value) -> integer -- return number of occurrences of value\n",
            " |  \n",
            " |  index(...)\n",
            " |      rangeobject.index(value) -> integer -- return index of value.\n",
            " |      Raise ValueError if the value is not present.\n",
            " |  \n",
            " |  ----------------------------------------------------------------------\n",
            " |  Static methods defined here:\n",
            " |  \n",
            " |  __new__(*args, **kwargs) from builtins.type\n",
            " |      Create and return a new object.  See help(type) for accurate signature.\n",
            " |  \n",
            " |  ----------------------------------------------------------------------\n",
            " |  Data descriptors defined here:\n",
            " |  \n",
            " |  start\n",
            " |  \n",
            " |  step\n",
            " |  \n",
            " |  stop\n",
            "\n"
          ]
        }
      ],
      "source": [
        "help(range)"
      ]
    },
    {
      "cell_type": "markdown",
      "metadata": {
        "id": "DAHz0AsGcfnn"
      },
      "source": [
        "Al igual que con la función \"range()\" se pueden definir funciones que tengan valores predeterminados. Para esto se define el valor por defecto del argumento dentro de los paréntesis al momento de definir la función."
      ]
    },
    {
      "cell_type": "code",
      "execution_count": 22,
      "metadata": {
        "id": "RKa91gKPcfnn"
      },
      "outputs": [],
      "source": [
        "# Definir funciones con valores por defecto\n",
        "def imprimir (mensaje, veces=3):\n",
        "    \"\"\"Imprime un mensaje n veces\n",
        "        Argumentos:\n",
        "            mensaje (str): mensaje a imprimir\n",
        "            veces (int): cantidad de veces que se repitel el mensaje\n",
        "        excepciones: no acepta números negativos\n",
        "    \"\"\"\n",
        "\n",
        "    print(mensaje*veces)"
      ]
    },
    {
      "cell_type": "markdown",
      "metadata": {
        "id": "8Yw7N-iScfnn"
      },
      "source": [
        "Al definir valores predeterminados podrá omitir dicho argumento:"
      ]
    },
    {
      "cell_type": "code",
      "execution_count": 23,
      "metadata": {
        "colab": {
          "base_uri": "https://localhost:8080/"
        },
        "id": "xR2tdoa5cfnn",
        "outputId": "efb8029b-135f-41ad-c98e-a7987a7249a4"
      },
      "outputs": [
        {
          "output_type": "stream",
          "name": "stdout",
          "text": [
            "hola hola hola \n"
          ]
        }
      ],
      "source": [
        "imprimir (\"hola \")"
      ]
    },
    {
      "cell_type": "markdown",
      "metadata": {
        "id": "FudMbF2Zcfno"
      },
      "source": [
        "O por el contrario, modificar el valor y no utilizar el predeterminado."
      ]
    },
    {
      "cell_type": "code",
      "execution_count": 24,
      "metadata": {
        "colab": {
          "base_uri": "https://localhost:8080/"
        },
        "id": "WoC_jGkdcfno",
        "outputId": "1bf90a7e-5d2e-47af-9278-184a2b827dd4"
      },
      "outputs": [
        {
          "output_type": "stream",
          "name": "stdout",
          "text": [
            "hola hola \n"
          ]
        }
      ],
      "source": [
        "imprimir (\"hola \", 2)"
      ]
    },
    {
      "cell_type": "code",
      "execution_count": 25,
      "metadata": {
        "colab": {
          "base_uri": "https://localhost:8080/"
        },
        "id": "TR0Bi6Hjcfno",
        "outputId": "4b1e5885-9971-490e-ce41-30237ad90387"
      },
      "outputs": [
        {
          "output_type": "stream",
          "name": "stdout",
          "text": [
            "hola hola hola hola hola \n"
          ]
        }
      ],
      "source": [
        "imprimir(\"hola \", veces = 5)"
      ]
    },
    {
      "cell_type": "code",
      "execution_count": 26,
      "metadata": {
        "colab": {
          "base_uri": "https://localhost:8080/"
        },
        "id": "mMhMXGOdcfno",
        "outputId": "0fa9672d-0f96-4ed3-89cf-28a1b3368867"
      },
      "outputs": [
        {
          "output_type": "stream",
          "name": "stdout",
          "text": [
            "hola hola hola hola \n"
          ]
        }
      ],
      "source": [
        "imprimir(mensaje = \"hola \", veces = 4)"
      ]
    },
    {
      "cell_type": "markdown",
      "metadata": {
        "id": "N7fQcxSlcfno"
      },
      "source": [
        "Si coloca el nombre de los argumentos al llamar a la función puede incluso modificar el orden con el que escribe los argumentos."
      ]
    },
    {
      "cell_type": "code",
      "execution_count": 27,
      "metadata": {
        "colab": {
          "base_uri": "https://localhost:8080/"
        },
        "id": "M3smoIUCcfno",
        "outputId": "f7c1ed01-9c13-4a89-b265-7251fd2fed73"
      },
      "outputs": [
        {
          "output_type": "stream",
          "name": "stdout",
          "text": [
            "hola hola \n"
          ]
        }
      ],
      "source": [
        "imprimir (veces = 2, mensaje = \"hola \")"
      ]
    },
    {
      "cell_type": "markdown",
      "metadata": {
        "id": "eSsfVLbncfno"
      },
      "source": [
        "Observe que el número de argumentos que se utiliza cuando se llama a una funcion debe coincidir con los indicados cuando se define la función (sin contar los predeterminados)."
      ]
    },
    {
      "cell_type": "markdown",
      "metadata": {
        "id": "JgTroLRBcfno"
      },
      "source": [
        "Observe que si se entregan argumentos de menos o de más, se encontrará con mensajes de error.\n"
      ]
    },
    {
      "cell_type": "code",
      "execution_count": 28,
      "metadata": {
        "id": "HXrOtaNgcfno"
      },
      "outputs": [],
      "source": [
        "def miFuncion (x,y=1):\n",
        "    z = (x+y)**2\n",
        "    return z"
      ]
    },
    {
      "cell_type": "code",
      "execution_count": 29,
      "metadata": {
        "id": "rw3Ekrp6cfnp",
        "colab": {
          "base_uri": "https://localhost:8080/"
        },
        "outputId": "c28532e1-779e-4955-9763-0460ced9e39d"
      },
      "outputs": [
        {
          "output_type": "execute_result",
          "data": {
            "text/plain": [
              "196"
            ]
          },
          "metadata": {},
          "execution_count": 29
        }
      ],
      "source": [
        "miFuncion(5,9)"
      ]
    },
    {
      "cell_type": "markdown",
      "metadata": {
        "id": "xKn0SR96cfnp"
      },
      "source": [
        "Sin embargo existe la posibilidad de definir funciones que acepten un número indefinido de argumentos. Esto se logra escribiendo un \"*\" antes del nombre de una variable de tipo tupla que almacenará a todos los argumentos de más que se escriban."
      ]
    },
    {
      "cell_type": "code",
      "execution_count": 30,
      "metadata": {
        "id": "RVz7foQKcfnp"
      },
      "outputs": [],
      "source": [
        "def varios(param1, param2, *extras):\n",
        "    print(\"suma de parametros: \",  str(param1 + param2))\n",
        "    print(\"otros: \", str(extras))"
      ]
    },
    {
      "cell_type": "code",
      "execution_count": 31,
      "metadata": {
        "id": "pCVjeAs8cfnp",
        "colab": {
          "base_uri": "https://localhost:8080/"
        },
        "outputId": "acbdef2b-bb26-44e8-d8b9-d7970dde5464"
      },
      "outputs": [
        {
          "output_type": "stream",
          "name": "stdout",
          "text": [
            "suma de parametros:  11\n",
            "otros:  ()\n"
          ]
        }
      ],
      "source": [
        "varios(5, 6)"
      ]
    },
    {
      "cell_type": "code",
      "execution_count": 32,
      "metadata": {
        "id": "2s1lTD86cfnp",
        "colab": {
          "base_uri": "https://localhost:8080/"
        },
        "outputId": "7da422d4-95f3-46cd-9675-0a348cc38a86"
      },
      "outputs": [
        {
          "output_type": "stream",
          "name": "stdout",
          "text": [
            "suma de parametros:  11\n",
            "otros:  (8, 'hola', [8, 5, 'o'], (1, 2), 5j, 'a')\n"
          ]
        }
      ],
      "source": [
        "varios(5,6, 8, \"hola\", [8, 5, \"o\"], (1,2), 5j, \"a\")"
      ]
    },
    {
      "cell_type": "markdown",
      "metadata": {
        "id": "9Rixgijlcfnp"
      },
      "source": [
        "Observe que todos los argumentos de más se almacenan en la tupla \"extras\"."
      ]
    },
    {
      "cell_type": "markdown",
      "metadata": {
        "id": "7FdeQ-tocfnq"
      },
      "source": [
        "Se puede definir una función para sumar un número indeterminado de sumando utilizando el concepto anterior:"
      ]
    },
    {
      "cell_type": "code",
      "execution_count": 33,
      "metadata": {
        "id": "iY66l6PBcfnq"
      },
      "outputs": [],
      "source": [
        "def adicion(*sumandos):\n",
        "    suma = 0\n",
        "    for sumando in sumandos:\n",
        "        suma = suma + sumando\n",
        "    return suma"
      ]
    },
    {
      "cell_type": "code",
      "execution_count": 34,
      "metadata": {
        "colab": {
          "base_uri": "https://localhost:8080/"
        },
        "id": "DE0V_LrMcfnq",
        "outputId": "1217a74c-e104-4dc2-9623-437f2ff85182"
      },
      "outputs": [
        {
          "output_type": "stream",
          "name": "stdout",
          "text": [
            "466\n"
          ]
        }
      ],
      "source": [
        "r = adicion(20,30,40,50, 22, 38, -88, 88, 54, 212)\n",
        "print(r)"
      ]
    },
    {
      "cell_type": "code",
      "execution_count": 35,
      "metadata": {
        "id": "-YKlv5Z0cfnq",
        "colab": {
          "base_uri": "https://localhost:8080/"
        },
        "outputId": "5ab0f930-ec8a-444f-92c3-c47a70d48df7"
      },
      "outputs": [
        {
          "output_type": "stream",
          "name": "stdout",
          "text": [
            "319\n"
          ]
        }
      ],
      "source": [
        "r2 = adicion(57,47,25,36,98,17,39)\n",
        "print(r2)"
      ]
    },
    {
      "cell_type": "markdown",
      "metadata": {
        "id": "rdCQgxkjcfnq"
      },
      "source": [
        "Hasta el momento las funciones retornaban solo un dato, sin embargo se puede retornar los datos que sean necesarios, siempre y cuando estos se expresen como una lista o como una tupla."
      ]
    },
    {
      "cell_type": "code",
      "execution_count": 36,
      "metadata": {
        "id": "Hywo4n-ucfnr"
      },
      "outputs": [],
      "source": [
        "#Puedo retornar más de un valor\n",
        "#Se crea una tupla con todos los elementos que retorno\n",
        "def miFuncion2(x, y):\n",
        "    return x**2, y**2"
      ]
    },
    {
      "cell_type": "code",
      "execution_count": 37,
      "metadata": {
        "id": "mhkYjaEOcfnr",
        "colab": {
          "base_uri": "https://localhost:8080/"
        },
        "outputId": "78507a87-f874-4547-d5cf-5efa31123125"
      },
      "outputs": [
        {
          "output_type": "stream",
          "name": "stdout",
          "text": [
            "(4, 9)\n"
          ]
        }
      ],
      "source": [
        "resultado = miFuncion2(2,3)\n",
        "print(resultado)"
      ]
    },
    {
      "cell_type": "code",
      "execution_count": 38,
      "metadata": {
        "id": "lw1e8PQhcfnr",
        "colab": {
          "base_uri": "https://localhost:8080/"
        },
        "outputId": "a6cbb222-a3da-41fa-de44-feddb17b7d5b"
      },
      "outputs": [
        {
          "output_type": "stream",
          "name": "stdout",
          "text": [
            "4\n",
            "9\n"
          ]
        }
      ],
      "source": [
        "r1, r2 =  miFuncion2(2,3)\n",
        "print(r1)\n",
        "print(r2)"
      ]
    },
    {
      "cell_type": "markdown",
      "metadata": {
        "id": "JhtDqpu7cfnr"
      },
      "source": [
        "Al igual que con las otras estructuras de Python, se pueden definir funciones dentro de otras:"
      ]
    },
    {
      "cell_type": "code",
      "execution_count": 39,
      "metadata": {
        "id": "4WCfwnt2cfns"
      },
      "outputs": [],
      "source": [
        "def operaciones (a, b, operacion):\n",
        "    \"\"\" Suma o multiplica a y b según la variable operacion\n",
        "        Argumentos:\n",
        "            a (numero): numero cualquiera\n",
        "            b (numero): numero cualquiera\n",
        "            operacion (str): puede tomar el valor de suma o multiplicacion\n",
        "    \"\"\"\n",
        "    # numero hace referencia a int, float o complex\n",
        "    def sumar (sumando1, sumando2):\n",
        "        return sumando1 + sumando2\n",
        "    def multiplicar (factor1, factor2):\n",
        "        return factor1 * factor2\n",
        "\n",
        "    if operacion == \"suma\":\n",
        "        r = sumar(a,b)\n",
        "    if operacion == \"multiplicacion\":\n",
        "        r = multiplicar(a,b)\n",
        "\n",
        "    return r"
      ]
    },
    {
      "cell_type": "code",
      "execution_count": 40,
      "metadata": {
        "id": "youh8SUrcfns",
        "colab": {
          "base_uri": "https://localhost:8080/"
        },
        "outputId": "3251e8ab-e305-4725-b49a-f12074c9d220"
      },
      "outputs": [
        {
          "output_type": "stream",
          "name": "stdout",
          "text": [
            "11\n"
          ]
        }
      ],
      "source": [
        "resultado = operaciones (5, 6, \"suma\")\n",
        "print(resultado)"
      ]
    },
    {
      "cell_type": "markdown",
      "metadata": {
        "id": "zXmwTlkMcfns"
      },
      "source": [
        "### Funciones lambda\n",
        "\n",
        "La palabra clave \"def\" no es la única que permite definir funciones, también existe la palabra clave \"lambda\" que permite definir funciones lambda.\n",
        "\n",
        "Tienen la siguiente sintaxis:\n",
        "\n",
        "    [nombreDeLaFuncion] = lambda [argumentos]: expresion lógica o matemática"
      ]
    },
    {
      "cell_type": "code",
      "execution_count": 41,
      "metadata": {
        "id": "PyTkKq5Hcfnt",
        "colab": {
          "base_uri": "https://localhost:8080/"
        },
        "outputId": "73b54d49-17f4-485e-8b5a-8ea10632444c"
      },
      "outputs": [
        {
          "output_type": "stream",
          "name": "stdout",
          "text": [
            "<function <lambda> at 0x7c6318a1e680>\n"
          ]
        }
      ],
      "source": [
        "y = lambda x: x**x\n",
        "print(y)"
      ]
    },
    {
      "cell_type": "code",
      "execution_count": 42,
      "metadata": {
        "id": "RgbmTZuAcfnt",
        "colab": {
          "base_uri": "https://localhost:8080/"
        },
        "outputId": "89f3668a-50ec-4ac5-c8e9-6a45c4655dc8"
      },
      "outputs": [
        {
          "output_type": "stream",
          "name": "stdout",
          "text": [
            "27\n"
          ]
        }
      ],
      "source": [
        "print(y(3))"
      ]
    },
    {
      "cell_type": "code",
      "execution_count": 43,
      "metadata": {
        "id": "ITbMLz89cfnt"
      },
      "outputs": [],
      "source": [
        "z = lambda a,b,c: a*b + c**2"
      ]
    },
    {
      "cell_type": "code",
      "execution_count": 44,
      "metadata": {
        "colab": {
          "base_uri": "https://localhost:8080/"
        },
        "id": "wUXFNBjAcfnu",
        "outputId": "963cc6d0-d203-4bbd-a112-6cf8e03a223a"
      },
      "outputs": [
        {
          "output_type": "stream",
          "name": "stdout",
          "text": [
            "3564\n"
          ]
        }
      ],
      "source": [
        "print(z(10,20,58))"
      ]
    },
    {
      "cell_type": "markdown",
      "metadata": {
        "id": "wT_HFS4Tcfnu"
      },
      "source": [
        "En las expresiones lógicas, la sintaxis de \"lambda\" difiere respecto a \"def\" en el orden en que se escriben las palabras claves.\n",
        "\n",
        "    \"def\": if [condicion]: bloque1 , else: bloque2\n",
        "    \"lambda\": bloque1 if [condicion] else bloque2\n",
        "    \"lambda\": bloque1 if [condicion] elif [condicion] bloque2 else bloque3"
      ]
    },
    {
      "cell_type": "code",
      "execution_count": 45,
      "metadata": {
        "id": "XKOC33aPcfnv"
      },
      "outputs": [],
      "source": [
        "z = lambda x: x**2 if x < 5 else x**3"
      ]
    },
    {
      "cell_type": "code",
      "execution_count": 46,
      "metadata": {
        "id": "L7hMrJWYcfnv",
        "colab": {
          "base_uri": "https://localhost:8080/"
        },
        "outputId": "1a3c2cc4-5856-436b-e343-7b7a3e89f62d"
      },
      "outputs": [
        {
          "output_type": "execute_result",
          "data": {
            "text/plain": [
              "4"
            ]
          },
          "metadata": {},
          "execution_count": 46
        }
      ],
      "source": [
        "z(2)"
      ]
    },
    {
      "cell_type": "code",
      "execution_count": 47,
      "metadata": {
        "id": "MhsTlpEOcfnw"
      },
      "outputs": [],
      "source": [
        "absoluto = lambda x: x if x >= 0 else -x"
      ]
    },
    {
      "cell_type": "code",
      "execution_count": 48,
      "metadata": {
        "id": "guoMV75acfnw",
        "colab": {
          "base_uri": "https://localhost:8080/"
        },
        "outputId": "a2c075e8-9c81-49f3-a504-f8aa965cdc60"
      },
      "outputs": [
        {
          "output_type": "stream",
          "name": "stdout",
          "text": [
            "10\n"
          ]
        }
      ],
      "source": [
        "print(absoluto(-10))"
      ]
    },
    {
      "cell_type": "code",
      "execution_count": 49,
      "metadata": {
        "id": "VUxPWgx8cfnx"
      },
      "outputs": [],
      "source": [
        "verificar = lambda x, lista: True if x in lista else False"
      ]
    },
    {
      "cell_type": "code",
      "execution_count": 50,
      "metadata": {
        "id": "VyRU0snAcfnx",
        "colab": {
          "base_uri": "https://localhost:8080/"
        },
        "outputId": "5d740ca7-7c70-4827-991f-222f56db54e3"
      },
      "outputs": [
        {
          "output_type": "stream",
          "name": "stdout",
          "text": [
            "True\n"
          ]
        }
      ],
      "source": [
        "print(verificar(10, [5,10,15,20]))"
      ]
    },
    {
      "cell_type": "code",
      "execution_count": 51,
      "metadata": {
        "id": "7orDDkHVcfnx",
        "colab": {
          "base_uri": "https://localhost:8080/"
        },
        "outputId": "0fbccb89-26e0-4774-e259-31ce3a989c28"
      },
      "outputs": [
        {
          "output_type": "stream",
          "name": "stdout",
          "text": [
            "False\n"
          ]
        }
      ],
      "source": [
        "print(verificar(100, [5,10,15,20]))"
      ]
    },
    {
      "cell_type": "markdown",
      "metadata": {
        "id": "pYz-kt-rcfnx"
      },
      "source": [
        "El uso de expresiones comprimidas como en lambda también se extiende a definir listas de forma comprimida."
      ]
    },
    {
      "cell_type": "code",
      "execution_count": 52,
      "metadata": {
        "id": "4NPF2WQBcfnx",
        "colab": {
          "base_uri": "https://localhost:8080/"
        },
        "outputId": "f4687acb-9b80-41c3-d550-21cdcfa2b507"
      },
      "outputs": [
        {
          "output_type": "stream",
          "name": "stdout",
          "text": [
            "[0, 1, 4, 9, 16, 25, 36, 49, 64, 81, 100, 121, 144, 169, 196, 225, 256, 289, 324, 361, 400, 441, 484, 529, 576, 625, 676, 729, 784, 841, 900, 961, 1024, 1089, 1156, 1225, 1296, 1369, 1444, 1521, 1600, 1681, 1764, 1849, 1936, 2025, 2116, 2209, 2304, 2401, 2500, 2601, 2704, 2809, 2916, 3025, 3136, 3249, 3364, 3481, 3600, 3721, 3844, 3969, 4096, 4225, 4356, 4489, 4624, 4761, 4900, 5041, 5184, 5329, 5476, 5625, 5776, 5929, 6084, 6241, 6400, 6561, 6724, 6889, 7056, 7225, 7396, 7569, 7744, 7921, 8100, 8281, 8464, 8649, 8836, 9025, 9216, 9409, 9604, 9801, 10000]\n"
          ]
        }
      ],
      "source": [
        "cuadrados = [x**2 for x in range(0,101,1)]\n",
        "print(cuadrados)"
      ]
    },
    {
      "cell_type": "code",
      "execution_count": 52,
      "metadata": {
        "id": "SdqDVt5Dcfny"
      },
      "outputs": [],
      "source": []
    }
  ],
  "metadata": {
    "kernelspec": {
      "display_name": "Python 3 (ipykernel)",
      "language": "python",
      "name": "python3"
    },
    "language_info": {
      "codemirror_mode": {
        "name": "ipython",
        "version": 3
      },
      "file_extension": ".py",
      "mimetype": "text/x-python",
      "name": "python",
      "nbconvert_exporter": "python",
      "pygments_lexer": "ipython3",
      "version": "3.11.2"
    },
    "colab": {
      "provenance": []
    }
  },
  "nbformat": 4,
  "nbformat_minor": 0
}