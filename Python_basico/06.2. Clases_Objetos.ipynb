{
  "cells": [
    {
      "cell_type": "markdown",
      "metadata": {
        "id": "0IYKlH_3_1gP"
      },
      "source": [
        "## Clases y objetos en Python"
      ]
    },
    {
      "cell_type": "markdown",
      "metadata": {
        "id": "mIC0Znut_1gQ"
      },
      "source": [
        "En programación existe un paradigma denominado Programación Orientada a Objetos, que basa su funcionamiento en \"objetos\" que poseen atributos y métodos que los transforman.\n",
        "\n",
        "Cada objeto es creado bajo cierta estructura o molde y a dicho molde se le denomina clase. Una clase es una combinación específica de atributos y métodos que puede considerarse un tipo de dato. Los atributos son propiedades o características de los objetos mientras que los métodos son funciones que los transforman.\n",
        "\n",
        "Hasta ahora, todas las variables que se han creado han sido objetos que pertenecian a determinada clase. En las primeras sesiones se crearon objetos pertenecientes a las clases \"int\", \"str\" y \"list\", además al importar bibliotecas se añadieron nuevas clases como \"datetime\" o \"ndarray\". Cada objeto creado tenía determinadas propiedades (atributos) y funciones (métodos) que los modificaban.   \n",
        "\n",
        "A continuación observaremos a detalle la clase \"datetime\":"
      ]
    },
    {
      "cell_type": "code",
      "execution_count": 1,
      "metadata": {
        "colab": {
          "base_uri": "https://localhost:8080/"
        },
        "id": "PdnwGoak_1gR",
        "outputId": "7c3ead26-fdd7-4d07-ee67-eed5ce953213"
      },
      "outputs": [
        {
          "output_type": "stream",
          "name": "stdout",
          "text": [
            "Help on module datetime:\n",
            "\n",
            "NAME\n",
            "    datetime - Fast implementation of the datetime type.\n",
            "\n",
            "MODULE REFERENCE\n",
            "    https://docs.python.org/3.10/library/datetime.html\n",
            "    \n",
            "    The following documentation is automatically generated from the Python\n",
            "    source files.  It may be incomplete, incorrect or include features that\n",
            "    are considered implementation detail and may vary between Python\n",
            "    implementations.  When in doubt, consult the module reference at the\n",
            "    location listed above.\n",
            "\n",
            "CLASSES\n",
            "    builtins.object\n",
            "        date\n",
            "            datetime\n",
            "        time\n",
            "        timedelta\n",
            "        tzinfo\n",
            "            timezone\n",
            "    \n",
            "    class date(builtins.object)\n",
            "     |  date(year, month, day) --> date object\n",
            "     |  \n",
            "     |  Methods defined here:\n",
            "     |  \n",
            "     |  __add__(self, value, /)\n",
            "     |      Return self+value.\n",
            "     |  \n",
            "     |  __eq__(self, value, /)\n",
            "     |      Return self==value.\n",
            "     |  \n",
            "     |  __format__(...)\n",
            "     |      Formats self with strftime.\n",
            "     |  \n",
            "     |  __ge__(self, value, /)\n",
            "     |      Return self>=value.\n",
            "     |  \n",
            "     |  __getattribute__(self, name, /)\n",
            "     |      Return getattr(self, name).\n",
            "     |  \n",
            "     |  __gt__(self, value, /)\n",
            "     |      Return self>value.\n",
            "     |  \n",
            "     |  __hash__(self, /)\n",
            "     |      Return hash(self).\n",
            "     |  \n",
            "     |  __le__(self, value, /)\n",
            "     |      Return self<=value.\n",
            "     |  \n",
            "     |  __lt__(self, value, /)\n",
            "     |      Return self<value.\n",
            "     |  \n",
            "     |  __ne__(self, value, /)\n",
            "     |      Return self!=value.\n",
            "     |  \n",
            "     |  __radd__(self, value, /)\n",
            "     |      Return value+self.\n",
            "     |  \n",
            "     |  __reduce__(...)\n",
            "     |      __reduce__() -> (cls, state)\n",
            "     |  \n",
            "     |  __repr__(self, /)\n",
            "     |      Return repr(self).\n",
            "     |  \n",
            "     |  __rsub__(self, value, /)\n",
            "     |      Return value-self.\n",
            "     |  \n",
            "     |  __str__(self, /)\n",
            "     |      Return str(self).\n",
            "     |  \n",
            "     |  __sub__(self, value, /)\n",
            "     |      Return self-value.\n",
            "     |  \n",
            "     |  ctime(...)\n",
            "     |      Return ctime() style string.\n",
            "     |  \n",
            "     |  isocalendar(...)\n",
            "     |      Return a named tuple containing ISO year, week number, and weekday.\n",
            "     |  \n",
            "     |  isoformat(...)\n",
            "     |      Return string in ISO 8601 format, YYYY-MM-DD.\n",
            "     |  \n",
            "     |  isoweekday(...)\n",
            "     |      Return the day of the week represented by the date.\n",
            "     |      Monday == 1 ... Sunday == 7\n",
            "     |  \n",
            "     |  replace(...)\n",
            "     |      Return date with new specified fields.\n",
            "     |  \n",
            "     |  strftime(...)\n",
            "     |      format -> strftime() style string.\n",
            "     |  \n",
            "     |  timetuple(...)\n",
            "     |      Return time tuple, compatible with time.localtime().\n",
            "     |  \n",
            "     |  toordinal(...)\n",
            "     |      Return proleptic Gregorian ordinal.  January 1 of year 1 is day 1.\n",
            "     |  \n",
            "     |  weekday(...)\n",
            "     |      Return the day of the week represented by the date.\n",
            "     |      Monday == 0 ... Sunday == 6\n",
            "     |  \n",
            "     |  ----------------------------------------------------------------------\n",
            "     |  Class methods defined here:\n",
            "     |  \n",
            "     |  fromisocalendar(...) from builtins.type\n",
            "     |      int, int, int -> Construct a date from the ISO year, week number and weekday.\n",
            "     |      \n",
            "     |      This is the inverse of the date.isocalendar() function\n",
            "     |  \n",
            "     |  fromisoformat(...) from builtins.type\n",
            "     |      str -> Construct a date from the output of date.isoformat()\n",
            "     |  \n",
            "     |  fromordinal(...) from builtins.type\n",
            "     |      int -> date corresponding to a proleptic Gregorian ordinal.\n",
            "     |  \n",
            "     |  fromtimestamp(timestamp, /) from builtins.type\n",
            "     |      Create a date from a POSIX timestamp.\n",
            "     |      \n",
            "     |      The timestamp is a number, e.g. created via time.time(), that is interpreted\n",
            "     |      as local time.\n",
            "     |  \n",
            "     |  today(...) from builtins.type\n",
            "     |      Current date or datetime:  same as self.__class__.fromtimestamp(time.time()).\n",
            "     |  \n",
            "     |  ----------------------------------------------------------------------\n",
            "     |  Static methods defined here:\n",
            "     |  \n",
            "     |  __new__(*args, **kwargs) from builtins.type\n",
            "     |      Create and return a new object.  See help(type) for accurate signature.\n",
            "     |  \n",
            "     |  ----------------------------------------------------------------------\n",
            "     |  Data descriptors defined here:\n",
            "     |  \n",
            "     |  day\n",
            "     |  \n",
            "     |  month\n",
            "     |  \n",
            "     |  year\n",
            "     |  \n",
            "     |  ----------------------------------------------------------------------\n",
            "     |  Data and other attributes defined here:\n",
            "     |  \n",
            "     |  max = datetime.date(9999, 12, 31)\n",
            "     |  \n",
            "     |  min = datetime.date(1, 1, 1)\n",
            "     |  \n",
            "     |  resolution = datetime.timedelta(days=1)\n",
            "    \n",
            "    class datetime(date)\n",
            "     |  datetime(year, month, day[, hour[, minute[, second[, microsecond[,tzinfo]]]]])\n",
            "     |  \n",
            "     |  The year, month and day arguments are required. tzinfo may be None, or an\n",
            "     |  instance of a tzinfo subclass. The remaining arguments may be ints.\n",
            "     |  \n",
            "     |  Method resolution order:\n",
            "     |      datetime\n",
            "     |      date\n",
            "     |      builtins.object\n",
            "     |  \n",
            "     |  Methods defined here:\n",
            "     |  \n",
            "     |  __add__(self, value, /)\n",
            "     |      Return self+value.\n",
            "     |  \n",
            "     |  __eq__(self, value, /)\n",
            "     |      Return self==value.\n",
            "     |  \n",
            "     |  __ge__(self, value, /)\n",
            "     |      Return self>=value.\n",
            "     |  \n",
            "     |  __getattribute__(self, name, /)\n",
            "     |      Return getattr(self, name).\n",
            "     |  \n",
            "     |  __gt__(self, value, /)\n",
            "     |      Return self>value.\n",
            "     |  \n",
            "     |  __hash__(self, /)\n",
            "     |      Return hash(self).\n",
            "     |  \n",
            "     |  __le__(self, value, /)\n",
            "     |      Return self<=value.\n",
            "     |  \n",
            "     |  __lt__(self, value, /)\n",
            "     |      Return self<value.\n",
            "     |  \n",
            "     |  __ne__(self, value, /)\n",
            "     |      Return self!=value.\n",
            "     |  \n",
            "     |  __radd__(self, value, /)\n",
            "     |      Return value+self.\n",
            "     |  \n",
            "     |  __reduce__(...)\n",
            "     |      __reduce__() -> (cls, state)\n",
            "     |  \n",
            "     |  __reduce_ex__(...)\n",
            "     |      __reduce_ex__(proto) -> (cls, state)\n",
            "     |  \n",
            "     |  __repr__(self, /)\n",
            "     |      Return repr(self).\n",
            "     |  \n",
            "     |  __rsub__(self, value, /)\n",
            "     |      Return value-self.\n",
            "     |  \n",
            "     |  __str__(self, /)\n",
            "     |      Return str(self).\n",
            "     |  \n",
            "     |  __sub__(self, value, /)\n",
            "     |      Return self-value.\n",
            "     |  \n",
            "     |  astimezone(...)\n",
            "     |      tz -> convert to local time in new timezone tz\n",
            "     |  \n",
            "     |  ctime(...)\n",
            "     |      Return ctime() style string.\n",
            "     |  \n",
            "     |  date(...)\n",
            "     |      Return date object with same year, month and day.\n",
            "     |  \n",
            "     |  dst(...)\n",
            "     |      Return self.tzinfo.dst(self).\n",
            "     |  \n",
            "     |  isoformat(...)\n",
            "     |      [sep] -> string in ISO 8601 format, YYYY-MM-DDT[HH[:MM[:SS[.mmm[uuu]]]]][+HH:MM].\n",
            "     |      sep is used to separate the year from the time, and defaults to 'T'.\n",
            "     |      The optional argument timespec specifies the number of additional terms\n",
            "     |      of the time to include. Valid options are 'auto', 'hours', 'minutes',\n",
            "     |      'seconds', 'milliseconds' and 'microseconds'.\n",
            "     |  \n",
            "     |  replace(...)\n",
            "     |      Return datetime with new specified fields.\n",
            "     |  \n",
            "     |  time(...)\n",
            "     |      Return time object with same time but with tzinfo=None.\n",
            "     |  \n",
            "     |  timestamp(...)\n",
            "     |      Return POSIX timestamp as float.\n",
            "     |  \n",
            "     |  timetuple(...)\n",
            "     |      Return time tuple, compatible with time.localtime().\n",
            "     |  \n",
            "     |  timetz(...)\n",
            "     |      Return time object with same time and tzinfo.\n",
            "     |  \n",
            "     |  tzname(...)\n",
            "     |      Return self.tzinfo.tzname(self).\n",
            "     |  \n",
            "     |  utcoffset(...)\n",
            "     |      Return self.tzinfo.utcoffset(self).\n",
            "     |  \n",
            "     |  utctimetuple(...)\n",
            "     |      Return UTC time tuple, compatible with time.localtime().\n",
            "     |  \n",
            "     |  ----------------------------------------------------------------------\n",
            "     |  Class methods defined here:\n",
            "     |  \n",
            "     |  combine(...) from builtins.type\n",
            "     |      date, time -> datetime with same date and time fields\n",
            "     |  \n",
            "     |  fromisoformat(...) from builtins.type\n",
            "     |      string -> datetime from datetime.isoformat() output\n",
            "     |  \n",
            "     |  fromtimestamp(...) from builtins.type\n",
            "     |      timestamp[, tz] -> tz's local time from POSIX timestamp.\n",
            "     |  \n",
            "     |  now(tz=None) from builtins.type\n",
            "     |      Returns new datetime object representing current time local to tz.\n",
            "     |      \n",
            "     |        tz\n",
            "     |          Timezone object.\n",
            "     |      \n",
            "     |      If no tz is specified, uses local timezone.\n",
            "     |  \n",
            "     |  strptime(...) from builtins.type\n",
            "     |      string, format -> new datetime parsed from a string (like time.strptime()).\n",
            "     |  \n",
            "     |  utcfromtimestamp(...) from builtins.type\n",
            "     |      Construct a naive UTC datetime from a POSIX timestamp.\n",
            "     |  \n",
            "     |  utcnow(...) from builtins.type\n",
            "     |      Return a new datetime representing UTC day and time.\n",
            "     |  \n",
            "     |  ----------------------------------------------------------------------\n",
            "     |  Static methods defined here:\n",
            "     |  \n",
            "     |  __new__(*args, **kwargs) from builtins.type\n",
            "     |      Create and return a new object.  See help(type) for accurate signature.\n",
            "     |  \n",
            "     |  ----------------------------------------------------------------------\n",
            "     |  Data descriptors defined here:\n",
            "     |  \n",
            "     |  fold\n",
            "     |  \n",
            "     |  hour\n",
            "     |  \n",
            "     |  microsecond\n",
            "     |  \n",
            "     |  minute\n",
            "     |  \n",
            "     |  second\n",
            "     |  \n",
            "     |  tzinfo\n",
            "     |  \n",
            "     |  ----------------------------------------------------------------------\n",
            "     |  Data and other attributes defined here:\n",
            "     |  \n",
            "     |  max = datetime.datetime(9999, 12, 31, 23, 59, 59, 999999)\n",
            "     |  \n",
            "     |  min = datetime.datetime(1, 1, 1, 0, 0)\n",
            "     |  \n",
            "     |  resolution = datetime.timedelta(microseconds=1)\n",
            "     |  \n",
            "     |  ----------------------------------------------------------------------\n",
            "     |  Methods inherited from date:\n",
            "     |  \n",
            "     |  __format__(...)\n",
            "     |      Formats self with strftime.\n",
            "     |  \n",
            "     |  isocalendar(...)\n",
            "     |      Return a named tuple containing ISO year, week number, and weekday.\n",
            "     |  \n",
            "     |  isoweekday(...)\n",
            "     |      Return the day of the week represented by the date.\n",
            "     |      Monday == 1 ... Sunday == 7\n",
            "     |  \n",
            "     |  strftime(...)\n",
            "     |      format -> strftime() style string.\n",
            "     |  \n",
            "     |  toordinal(...)\n",
            "     |      Return proleptic Gregorian ordinal.  January 1 of year 1 is day 1.\n",
            "     |  \n",
            "     |  weekday(...)\n",
            "     |      Return the day of the week represented by the date.\n",
            "     |      Monday == 0 ... Sunday == 6\n",
            "     |  \n",
            "     |  ----------------------------------------------------------------------\n",
            "     |  Class methods inherited from date:\n",
            "     |  \n",
            "     |  fromisocalendar(...) from builtins.type\n",
            "     |      int, int, int -> Construct a date from the ISO year, week number and weekday.\n",
            "     |      \n",
            "     |      This is the inverse of the date.isocalendar() function\n",
            "     |  \n",
            "     |  fromordinal(...) from builtins.type\n",
            "     |      int -> date corresponding to a proleptic Gregorian ordinal.\n",
            "     |  \n",
            "     |  today(...) from builtins.type\n",
            "     |      Current date or datetime:  same as self.__class__.fromtimestamp(time.time()).\n",
            "     |  \n",
            "     |  ----------------------------------------------------------------------\n",
            "     |  Data descriptors inherited from date:\n",
            "     |  \n",
            "     |  day\n",
            "     |  \n",
            "     |  month\n",
            "     |  \n",
            "     |  year\n",
            "    \n",
            "    class time(builtins.object)\n",
            "     |  time([hour[, minute[, second[, microsecond[, tzinfo]]]]]) --> a time object\n",
            "     |  \n",
            "     |  All arguments are optional. tzinfo may be None, or an instance of\n",
            "     |  a tzinfo subclass. The remaining arguments may be ints.\n",
            "     |  \n",
            "     |  Methods defined here:\n",
            "     |  \n",
            "     |  __eq__(self, value, /)\n",
            "     |      Return self==value.\n",
            "     |  \n",
            "     |  __format__(...)\n",
            "     |      Formats self with strftime.\n",
            "     |  \n",
            "     |  __ge__(self, value, /)\n",
            "     |      Return self>=value.\n",
            "     |  \n",
            "     |  __getattribute__(self, name, /)\n",
            "     |      Return getattr(self, name).\n",
            "     |  \n",
            "     |  __gt__(self, value, /)\n",
            "     |      Return self>value.\n",
            "     |  \n",
            "     |  __hash__(self, /)\n",
            "     |      Return hash(self).\n",
            "     |  \n",
            "     |  __le__(self, value, /)\n",
            "     |      Return self<=value.\n",
            "     |  \n",
            "     |  __lt__(self, value, /)\n",
            "     |      Return self<value.\n",
            "     |  \n",
            "     |  __ne__(self, value, /)\n",
            "     |      Return self!=value.\n",
            "     |  \n",
            "     |  __reduce__(...)\n",
            "     |      __reduce__() -> (cls, state)\n",
            "     |  \n",
            "     |  __reduce_ex__(...)\n",
            "     |      __reduce_ex__(proto) -> (cls, state)\n",
            "     |  \n",
            "     |  __repr__(self, /)\n",
            "     |      Return repr(self).\n",
            "     |  \n",
            "     |  __str__(self, /)\n",
            "     |      Return str(self).\n",
            "     |  \n",
            "     |  dst(...)\n",
            "     |      Return self.tzinfo.dst(self).\n",
            "     |  \n",
            "     |  isoformat(...)\n",
            "     |      Return string in ISO 8601 format, [HH[:MM[:SS[.mmm[uuu]]]]][+HH:MM].\n",
            "     |      \n",
            "     |      The optional argument timespec specifies the number of additional terms\n",
            "     |      of the time to include. Valid options are 'auto', 'hours', 'minutes',\n",
            "     |      'seconds', 'milliseconds' and 'microseconds'.\n",
            "     |  \n",
            "     |  replace(...)\n",
            "     |      Return time with new specified fields.\n",
            "     |  \n",
            "     |  strftime(...)\n",
            "     |      format -> strftime() style string.\n",
            "     |  \n",
            "     |  tzname(...)\n",
            "     |      Return self.tzinfo.tzname(self).\n",
            "     |  \n",
            "     |  utcoffset(...)\n",
            "     |      Return self.tzinfo.utcoffset(self).\n",
            "     |  \n",
            "     |  ----------------------------------------------------------------------\n",
            "     |  Class methods defined here:\n",
            "     |  \n",
            "     |  fromisoformat(...) from builtins.type\n",
            "     |      string -> time from time.isoformat() output\n",
            "     |  \n",
            "     |  ----------------------------------------------------------------------\n",
            "     |  Static methods defined here:\n",
            "     |  \n",
            "     |  __new__(*args, **kwargs) from builtins.type\n",
            "     |      Create and return a new object.  See help(type) for accurate signature.\n",
            "     |  \n",
            "     |  ----------------------------------------------------------------------\n",
            "     |  Data descriptors defined here:\n",
            "     |  \n",
            "     |  fold\n",
            "     |  \n",
            "     |  hour\n",
            "     |  \n",
            "     |  microsecond\n",
            "     |  \n",
            "     |  minute\n",
            "     |  \n",
            "     |  second\n",
            "     |  \n",
            "     |  tzinfo\n",
            "     |  \n",
            "     |  ----------------------------------------------------------------------\n",
            "     |  Data and other attributes defined here:\n",
            "     |  \n",
            "     |  max = datetime.time(23, 59, 59, 999999)\n",
            "     |  \n",
            "     |  min = datetime.time(0, 0)\n",
            "     |  \n",
            "     |  resolution = datetime.timedelta(microseconds=1)\n",
            "    \n",
            "    class timedelta(builtins.object)\n",
            "     |  Difference between two datetime values.\n",
            "     |  \n",
            "     |  timedelta(days=0, seconds=0, microseconds=0, milliseconds=0, minutes=0, hours=0, weeks=0)\n",
            "     |  \n",
            "     |  All arguments are optional and default to 0.\n",
            "     |  Arguments may be integers or floats, and may be positive or negative.\n",
            "     |  \n",
            "     |  Methods defined here:\n",
            "     |  \n",
            "     |  __abs__(self, /)\n",
            "     |      abs(self)\n",
            "     |  \n",
            "     |  __add__(self, value, /)\n",
            "     |      Return self+value.\n",
            "     |  \n",
            "     |  __bool__(self, /)\n",
            "     |      True if self else False\n",
            "     |  \n",
            "     |  __divmod__(self, value, /)\n",
            "     |      Return divmod(self, value).\n",
            "     |  \n",
            "     |  __eq__(self, value, /)\n",
            "     |      Return self==value.\n",
            "     |  \n",
            "     |  __floordiv__(self, value, /)\n",
            "     |      Return self//value.\n",
            "     |  \n",
            "     |  __ge__(self, value, /)\n",
            "     |      Return self>=value.\n",
            "     |  \n",
            "     |  __getattribute__(self, name, /)\n",
            "     |      Return getattr(self, name).\n",
            "     |  \n",
            "     |  __gt__(self, value, /)\n",
            "     |      Return self>value.\n",
            "     |  \n",
            "     |  __hash__(self, /)\n",
            "     |      Return hash(self).\n",
            "     |  \n",
            "     |  __le__(self, value, /)\n",
            "     |      Return self<=value.\n",
            "     |  \n",
            "     |  __lt__(self, value, /)\n",
            "     |      Return self<value.\n",
            "     |  \n",
            "     |  __mod__(self, value, /)\n",
            "     |      Return self%value.\n",
            "     |  \n",
            "     |  __mul__(self, value, /)\n",
            "     |      Return self*value.\n",
            "     |  \n",
            "     |  __ne__(self, value, /)\n",
            "     |      Return self!=value.\n",
            "     |  \n",
            "     |  __neg__(self, /)\n",
            "     |      -self\n",
            "     |  \n",
            "     |  __pos__(self, /)\n",
            "     |      +self\n",
            "     |  \n",
            "     |  __radd__(self, value, /)\n",
            "     |      Return value+self.\n",
            "     |  \n",
            "     |  __rdivmod__(self, value, /)\n",
            "     |      Return divmod(value, self).\n",
            "     |  \n",
            "     |  __reduce__(...)\n",
            "     |      __reduce__() -> (cls, state)\n",
            "     |  \n",
            "     |  __repr__(self, /)\n",
            "     |      Return repr(self).\n",
            "     |  \n",
            "     |  __rfloordiv__(self, value, /)\n",
            "     |      Return value//self.\n",
            "     |  \n",
            "     |  __rmod__(self, value, /)\n",
            "     |      Return value%self.\n",
            "     |  \n",
            "     |  __rmul__(self, value, /)\n",
            "     |      Return value*self.\n",
            "     |  \n",
            "     |  __rsub__(self, value, /)\n",
            "     |      Return value-self.\n",
            "     |  \n",
            "     |  __rtruediv__(self, value, /)\n",
            "     |      Return value/self.\n",
            "     |  \n",
            "     |  __str__(self, /)\n",
            "     |      Return str(self).\n",
            "     |  \n",
            "     |  __sub__(self, value, /)\n",
            "     |      Return self-value.\n",
            "     |  \n",
            "     |  __truediv__(self, value, /)\n",
            "     |      Return self/value.\n",
            "     |  \n",
            "     |  total_seconds(...)\n",
            "     |      Total seconds in the duration.\n",
            "     |  \n",
            "     |  ----------------------------------------------------------------------\n",
            "     |  Static methods defined here:\n",
            "     |  \n",
            "     |  __new__(*args, **kwargs) from builtins.type\n",
            "     |      Create and return a new object.  See help(type) for accurate signature.\n",
            "     |  \n",
            "     |  ----------------------------------------------------------------------\n",
            "     |  Data descriptors defined here:\n",
            "     |  \n",
            "     |  days\n",
            "     |      Number of days.\n",
            "     |  \n",
            "     |  microseconds\n",
            "     |      Number of microseconds (>= 0 and less than 1 second).\n",
            "     |  \n",
            "     |  seconds\n",
            "     |      Number of seconds (>= 0 and less than 1 day).\n",
            "     |  \n",
            "     |  ----------------------------------------------------------------------\n",
            "     |  Data and other attributes defined here:\n",
            "     |  \n",
            "     |  max = datetime.timedelta(days=999999999, seconds=86399, microseconds=9...\n",
            "     |  \n",
            "     |  min = datetime.timedelta(days=-999999999)\n",
            "     |  \n",
            "     |  resolution = datetime.timedelta(microseconds=1)\n",
            "    \n",
            "    class timezone(tzinfo)\n",
            "     |  Fixed offset from UTC implementation of tzinfo.\n",
            "     |  \n",
            "     |  Method resolution order:\n",
            "     |      timezone\n",
            "     |      tzinfo\n",
            "     |      builtins.object\n",
            "     |  \n",
            "     |  Methods defined here:\n",
            "     |  \n",
            "     |  __eq__(self, value, /)\n",
            "     |      Return self==value.\n",
            "     |  \n",
            "     |  __ge__(self, value, /)\n",
            "     |      Return self>=value.\n",
            "     |  \n",
            "     |  __getinitargs__(...)\n",
            "     |      pickle support\n",
            "     |  \n",
            "     |  __gt__(self, value, /)\n",
            "     |      Return self>value.\n",
            "     |  \n",
            "     |  __hash__(self, /)\n",
            "     |      Return hash(self).\n",
            "     |  \n",
            "     |  __le__(self, value, /)\n",
            "     |      Return self<=value.\n",
            "     |  \n",
            "     |  __lt__(self, value, /)\n",
            "     |      Return self<value.\n",
            "     |  \n",
            "     |  __ne__(self, value, /)\n",
            "     |      Return self!=value.\n",
            "     |  \n",
            "     |  __repr__(self, /)\n",
            "     |      Return repr(self).\n",
            "     |  \n",
            "     |  __str__(self, /)\n",
            "     |      Return str(self).\n",
            "     |  \n",
            "     |  dst(...)\n",
            "     |      Return None.\n",
            "     |  \n",
            "     |  fromutc(...)\n",
            "     |      datetime in UTC -> datetime in local time.\n",
            "     |  \n",
            "     |  tzname(...)\n",
            "     |      If name is specified when timezone is created, returns the name.  Otherwise returns offset as 'UTC(+|-)HH:MM'.\n",
            "     |  \n",
            "     |  utcoffset(...)\n",
            "     |      Return fixed offset.\n",
            "     |  \n",
            "     |  ----------------------------------------------------------------------\n",
            "     |  Static methods defined here:\n",
            "     |  \n",
            "     |  __new__(*args, **kwargs) from builtins.type\n",
            "     |      Create and return a new object.  See help(type) for accurate signature.\n",
            "     |  \n",
            "     |  ----------------------------------------------------------------------\n",
            "     |  Data and other attributes defined here:\n",
            "     |  \n",
            "     |  max = datetime.timezone(datetime.timedelta(seconds=86340))\n",
            "     |  \n",
            "     |  min = datetime.timezone(datetime.timedelta(days=-1, seconds=60))\n",
            "     |  \n",
            "     |  utc = datetime.timezone.utc\n",
            "     |  \n",
            "     |  ----------------------------------------------------------------------\n",
            "     |  Methods inherited from tzinfo:\n",
            "     |  \n",
            "     |  __getattribute__(self, name, /)\n",
            "     |      Return getattr(self, name).\n",
            "     |  \n",
            "     |  __reduce__(...)\n",
            "     |      -> (cls, state)\n",
            "    \n",
            "    class tzinfo(builtins.object)\n",
            "     |  Abstract base class for time zone info objects.\n",
            "     |  \n",
            "     |  Methods defined here:\n",
            "     |  \n",
            "     |  __getattribute__(self, name, /)\n",
            "     |      Return getattr(self, name).\n",
            "     |  \n",
            "     |  __reduce__(...)\n",
            "     |      -> (cls, state)\n",
            "     |  \n",
            "     |  dst(...)\n",
            "     |      datetime -> DST offset as timedelta positive east of UTC.\n",
            "     |  \n",
            "     |  fromutc(...)\n",
            "     |      datetime in UTC -> datetime in local time.\n",
            "     |  \n",
            "     |  tzname(...)\n",
            "     |      datetime -> string name of time zone.\n",
            "     |  \n",
            "     |  utcoffset(...)\n",
            "     |      datetime -> timedelta showing offset from UTC, negative values indicating West of UTC\n",
            "     |  \n",
            "     |  ----------------------------------------------------------------------\n",
            "     |  Static methods defined here:\n",
            "     |  \n",
            "     |  __new__(*args, **kwargs) from builtins.type\n",
            "     |      Create and return a new object.  See help(type) for accurate signature.\n",
            "\n",
            "DATA\n",
            "    MAXYEAR = 9999\n",
            "    MINYEAR = 1\n",
            "    __all__ = ('date', 'datetime', 'time', 'timedelta', 'timezone', 'tzinf...\n",
            "\n",
            "FILE\n",
            "    /usr/lib/python3.10/datetime.py\n",
            "\n",
            "\n"
          ]
        }
      ],
      "source": [
        "# Observe la documentación de la biblioteca datetime\n",
        "import datetime\n",
        "help(datetime)"
      ]
    },
    {
      "cell_type": "markdown",
      "metadata": {
        "id": "bo4dVS_h_1gS"
      },
      "source": [
        "Se observa que datetime incluye las siguientes clases: date, datetime, time, timedelta, tzinfo y timezon. Cada una de ellas tiene una serie de funciones (métodos) que permiten crear un nuevo objeto (el método constructor) y modificarlo. Por ejemplo para crear un nuevo objeto de la clase date, basta con escribir el siguiente código:"
      ]
    },
    {
      "cell_type": "code",
      "execution_count": 2,
      "metadata": {
        "colab": {
          "base_uri": "https://localhost:8080/"
        },
        "id": "Mb6pd5ui_1gS",
        "outputId": "7858f3e7-27d4-4d94-a1f6-3cc335a6a287"
      },
      "outputs": [
        {
          "output_type": "stream",
          "name": "stdout",
          "text": [
            "2021-01-21\n",
            "<class 'datetime.date'>\n"
          ]
        }
      ],
      "source": [
        "fecha = datetime.date(month=1, day=21, year=2021)\n",
        "print(fecha)\n",
        "print(type(fecha))"
      ]
    },
    {
      "cell_type": "markdown",
      "metadata": {
        "id": "Y0S8jfn0_1gS"
      },
      "source": [
        "La función anterior no es la única que permite crear nuevos objetos, observe que la función \"today\" también permite crear un objeto de la clase \"datetime.date\":"
      ]
    },
    {
      "cell_type": "code",
      "execution_count": 3,
      "metadata": {
        "colab": {
          "base_uri": "https://localhost:8080/"
        },
        "id": "gxTld7Gv_1gS",
        "outputId": "700b72b9-c89d-4e81-8ab5-52763519e06f"
      },
      "outputs": [
        {
          "output_type": "stream",
          "name": "stdout",
          "text": [
            "2024-02-29\n",
            "<class 'datetime.date'>\n"
          ]
        }
      ],
      "source": [
        "hoy = datetime.date.today()\n",
        "print(hoy)\n",
        "print(type(hoy))"
      ]
    },
    {
      "cell_type": "markdown",
      "metadata": {
        "id": "1_leA-b1_1gT"
      },
      "source": [
        "Observe que estas funciones siguen la sintaxis:\n",
        "\n",
        "    biblioteca.funcion(argumentos)\n",
        "    \n",
        "Recuerde que a menudo el nombre de la biblioteca se reemplaza por un alias.\n",
        "Por ejemplo en lugar de escribir:"
      ]
    },
    {
      "cell_type": "code",
      "execution_count": 4,
      "metadata": {
        "colab": {
          "base_uri": "https://localhost:8080/"
        },
        "id": "htSJx_VO_1gT",
        "outputId": "203558e1-7a87-4980-a374-c6c4ee729ee3"
      },
      "outputs": [
        {
          "output_type": "stream",
          "name": "stdout",
          "text": [
            "2024-02-29\n",
            "<class 'datetime.date'>\n"
          ]
        }
      ],
      "source": [
        "import datetime\n",
        "hoy = datetime.date.today()\n",
        "print(hoy)\n",
        "print(type(hoy))"
      ]
    },
    {
      "cell_type": "markdown",
      "metadata": {
        "id": "SUQw7o_u_1gT"
      },
      "source": [
        "Se escribe:"
      ]
    },
    {
      "cell_type": "code",
      "execution_count": 5,
      "metadata": {
        "colab": {
          "base_uri": "https://localhost:8080/"
        },
        "id": "aD_aH4BF_1gT",
        "outputId": "4d3072b4-e2b7-425f-8e59-8992638dbcb5"
      },
      "outputs": [
        {
          "output_type": "stream",
          "name": "stdout",
          "text": [
            "2024-02-29\n",
            "<class 'datetime.date'>\n"
          ]
        }
      ],
      "source": [
        "import datetime as dt # se coloca el alias\n",
        "hoy = dt.date.today() ### dt en lugar de datetime\n",
        "print(hoy)\n",
        "print(type(hoy))"
      ]
    },
    {
      "cell_type": "markdown",
      "metadata": {
        "id": "2SmHQhPS_1gT"
      },
      "source": [
        "Por otro lado, también se puede importar tan solo una clase del paquete, utilizando la sintaxis:\n",
        "from [paquete] import [clase]"
      ]
    },
    {
      "cell_type": "code",
      "execution_count": 6,
      "metadata": {
        "colab": {
          "base_uri": "https://localhost:8080/"
        },
        "id": "qJ0ij56b_1gU",
        "outputId": "fdc75413-ca2e-4fba-ed49-cc86aafde255"
      },
      "outputs": [
        {
          "output_type": "stream",
          "name": "stdout",
          "text": [
            "2024-02-29\n",
            "<class 'datetime.date'>\n"
          ]
        }
      ],
      "source": [
        "from datetime import date\n",
        "hoy = date.today()\n",
        "print(hoy)\n",
        "print(type(hoy))"
      ]
    },
    {
      "cell_type": "markdown",
      "metadata": {
        "id": "mNXF6WCE_1gU"
      },
      "source": [
        "### Atributos y Métodos"
      ]
    },
    {
      "cell_type": "markdown",
      "metadata": {
        "id": "SHfzGEtS_1gU"
      },
      "source": [
        "Los objetos tienen atributos, los cuales se pueden solicitar:"
      ]
    },
    {
      "cell_type": "code",
      "execution_count": 7,
      "metadata": {
        "colab": {
          "base_uri": "https://localhost:8080/"
        },
        "id": "kugvuNvt_1gU",
        "outputId": "efd1cfbe-c68a-4cac-bbe5-aefaf1f2afc7"
      },
      "outputs": [
        {
          "output_type": "stream",
          "name": "stdout",
          "text": [
            "2\n",
            "<class 'int'>\n"
          ]
        }
      ],
      "source": [
        "print(hoy.month) #objeto.atributo\n",
        "print(type(hoy.month))"
      ]
    },
    {
      "cell_type": "code",
      "execution_count": 8,
      "metadata": {
        "colab": {
          "base_uri": "https://localhost:8080/"
        },
        "id": "jj1dBPZs_1gU",
        "outputId": "3db7746e-6eba-4fe7-94fd-e813f4a1c1a7"
      },
      "outputs": [
        {
          "output_type": "stream",
          "name": "stdout",
          "text": [
            "2024\n"
          ]
        }
      ],
      "source": [
        "print(hoy.year)"
      ]
    },
    {
      "cell_type": "code",
      "execution_count": 9,
      "metadata": {
        "colab": {
          "base_uri": "https://localhost:8080/"
        },
        "id": "ntImZxOA_1gU",
        "outputId": "c46900e2-65ab-4adc-b8a6-aa372b88df1e"
      },
      "outputs": [
        {
          "output_type": "stream",
          "name": "stdout",
          "text": [
            "29\n"
          ]
        }
      ],
      "source": [
        "print(hoy.day)"
      ]
    },
    {
      "cell_type": "code",
      "execution_count": 10,
      "metadata": {
        "colab": {
          "base_uri": "https://localhost:8080/"
        },
        "id": "MXimblx5_1gU",
        "outputId": "9934d186-cc00-43d3-b71f-a1436d4500d8"
      },
      "outputs": [
        {
          "output_type": "stream",
          "name": "stdout",
          "text": [
            "2024-02-29\n"
          ]
        }
      ],
      "source": [
        "print(hoy)"
      ]
    },
    {
      "cell_type": "markdown",
      "metadata": {
        "id": "mmDnS9d5_1gU"
      },
      "source": [
        "Además, estos objetos pueden ser modificados. En el caso de la clase \"date\" se modifican con el método replace:"
      ]
    },
    {
      "cell_type": "code",
      "execution_count": 11,
      "metadata": {
        "colab": {
          "base_uri": "https://localhost:8080/"
        },
        "id": "Mogn7pN0_1gU",
        "outputId": "02fe745c-fe4a-4263-f36b-8a0aa0f291b6"
      },
      "outputs": [
        {
          "output_type": "stream",
          "name": "stdout",
          "text": [
            "2023-05-01\n"
          ]
        }
      ],
      "source": [
        "fecha = fecha.replace(year=2023, month=5, day=1) #objeto.metodo(argumentos)\n",
        "print(fecha)"
      ]
    },
    {
      "cell_type": "markdown",
      "metadata": {
        "id": "ZlO88Q6l_1gV"
      },
      "source": [
        "Observe la diferencia entre atributos y métodos, mientras un atributo se obtiene de la sintaxis:\n",
        "    \n",
        "    objeto.atributo\n",
        "\n",
        "Un método se ejecuta con la sintaxis:\n",
        "\n",
        "    objeto.método(argumentos)\n",
        "\n",
        "Podrá inferir que __los métodos son funciones definidas exclusivamente para determinadas clases de objetos.__"
      ]
    },
    {
      "cell_type": "markdown",
      "metadata": {
        "id": "qIj1E0i5_1gV"
      },
      "source": [
        "### Sintaxis\n",
        "\n",
        "Para crear nuevas clases en Python se sigue la siguiente sintaxis:\n",
        "\n",
        "class [nombreDeLaClase]:\n",
        "    \n",
        "    cuerpo\n",
        "    \n",
        "\n",
        "Observe que la creación de clases se realiza con la palabra clave \"class\" y dentro de la estructura se pueden definir atributos y métodos para dicha clase. Todo el cuerpo, al igual que en las otras estructuras, requiere sangrado, el mismo que delimita dónde se termina de definir la clase.\n",
        "\n",
        "A continuación se creará la clase \"Cuadrado\", la primera función que se define es el inicializador \"__init__\""
      ]
    },
    {
      "cell_type": "code",
      "execution_count": 12,
      "metadata": {
        "id": "hWaq6on0_1gV"
      },
      "outputs": [],
      "source": [
        "class cuadrado:\n",
        "\n",
        "    # la función __init__ permite la construcción de objetos.\n",
        "    def __init__(self, dato_lado):\n",
        "        # el argumento self hace referencia al objeto en sí (a sí mismo)\n",
        "        self._lado = dato_lado\n",
        "        # objeto.atributo\n",
        "        # se define el atributo lado\n",
        ""
      ]
    },
    {
      "cell_type": "code",
      "execution_count": 13,
      "metadata": {
        "id": "a9n-lHls_1gV"
      },
      "outputs": [],
      "source": [
        "cuadrado1 = cuadrado(dato_lado=5)"
      ]
    },
    {
      "cell_type": "code",
      "execution_count": 14,
      "metadata": {
        "colab": {
          "base_uri": "https://localhost:8080/"
        },
        "id": "yXTKgEZ8_1gV",
        "outputId": "0782aa51-5f33-4716-bf78-d9bec36d780c"
      },
      "outputs": [
        {
          "output_type": "stream",
          "name": "stdout",
          "text": [
            "<__main__.cuadrado object at 0x7d7732e87220>\n"
          ]
        }
      ],
      "source": [
        "print(cuadrado1)"
      ]
    },
    {
      "cell_type": "code",
      "execution_count": 15,
      "metadata": {
        "colab": {
          "base_uri": "https://localhost:8080/"
        },
        "id": "nauxh0DT_1gV",
        "outputId": "a3cf08d4-499d-4e07-f536-5b61c20ca08e"
      },
      "outputs": [
        {
          "output_type": "stream",
          "name": "stdout",
          "text": [
            "<class '__main__.cuadrado'>\n"
          ]
        }
      ],
      "source": [
        "print(type(cuadrado1))"
      ]
    },
    {
      "cell_type": "code",
      "execution_count": 16,
      "metadata": {
        "colab": {
          "base_uri": "https://localhost:8080/"
        },
        "id": "E98AhPsq_1gV",
        "outputId": "b18c91ac-9f94-4e96-c756-82cc910c77f0"
      },
      "outputs": [
        {
          "output_type": "stream",
          "name": "stdout",
          "text": [
            "5\n"
          ]
        }
      ],
      "source": [
        "print(cuadrado1._lado) #objeto.lado"
      ]
    },
    {
      "cell_type": "code",
      "execution_count": 17,
      "metadata": {
        "id": "srbVLrhv_1gV"
      },
      "outputs": [],
      "source": [
        "cuadrado2 = cuadrado(7)"
      ]
    },
    {
      "cell_type": "code",
      "execution_count": 18,
      "metadata": {
        "colab": {
          "base_uri": "https://localhost:8080/"
        },
        "id": "Rnv945aJ_1gV",
        "outputId": "cc25f3ca-2c42-476f-cd96-3daf3bd01fa8"
      },
      "outputs": [
        {
          "output_type": "stream",
          "name": "stdout",
          "text": [
            "7\n"
          ]
        }
      ],
      "source": [
        "print(cuadrado2._lado)"
      ]
    },
    {
      "cell_type": "markdown",
      "metadata": {
        "id": "VO6C6966_1gW"
      },
      "source": [
        "Existen atributos comunes para todos los objetos, pero a la vez atributos únicos que identifican al objeto. Estos atributos se pueden modificar utilizando funciones que se hayan definido con anticipación."
      ]
    },
    {
      "cell_type": "code",
      "execution_count": 19,
      "metadata": {
        "id": "Lht6r8Kg_1gW"
      },
      "outputs": [],
      "source": [
        "class cuadrado:\n",
        "    #atributos comunes\n",
        "    _dimension = '2D'\n",
        "    _vertices = 4\n",
        "\n",
        "    def __init__(self, lado, color):\n",
        "        #atributos independientes\n",
        "        self._lado = lado\n",
        "        self._color = color"
      ]
    },
    {
      "cell_type": "code",
      "execution_count": 20,
      "metadata": {
        "id": "tccEVTui_1gW"
      },
      "outputs": [],
      "source": [
        "cuadrado3 = cuadrado(3, \"azul\")"
      ]
    },
    {
      "cell_type": "code",
      "execution_count": 21,
      "metadata": {
        "colab": {
          "base_uri": "https://localhost:8080/"
        },
        "id": "tWzQwg0W_1gW",
        "outputId": "caf14523-a842-4fab-fab2-df60dea06ca4"
      },
      "outputs": [
        {
          "output_type": "stream",
          "name": "stdout",
          "text": [
            "2D\n"
          ]
        }
      ],
      "source": [
        "print(cuadrado3._dimension)"
      ]
    },
    {
      "cell_type": "code",
      "execution_count": 22,
      "metadata": {
        "colab": {
          "base_uri": "https://localhost:8080/"
        },
        "id": "rVEnubPn_1gW",
        "outputId": "d0f95a75-6568-47e3-ca01-5798b223835b"
      },
      "outputs": [
        {
          "output_type": "stream",
          "name": "stdout",
          "text": [
            "azul\n"
          ]
        }
      ],
      "source": [
        "print(cuadrado3._color)"
      ]
    },
    {
      "cell_type": "code",
      "execution_count": 23,
      "metadata": {
        "colab": {
          "base_uri": "https://localhost:8080/"
        },
        "id": "UygRbDKc_1gW",
        "outputId": "5a2fe1e9-3986-4103-a19c-3d289c1d0685"
      },
      "outputs": [
        {
          "output_type": "stream",
          "name": "stdout",
          "text": [
            "4\n"
          ]
        }
      ],
      "source": [
        "print(cuadrado3._vertices)"
      ]
    },
    {
      "cell_type": "code",
      "execution_count": 24,
      "metadata": {
        "colab": {
          "base_uri": "https://localhost:8080/"
        },
        "id": "3FUHQLdd_1gW",
        "outputId": "1959a23f-a1de-46aa-ee09-6ee9b3ae811b"
      },
      "outputs": [
        {
          "output_type": "stream",
          "name": "stdout",
          "text": [
            "3\n"
          ]
        }
      ],
      "source": [
        "print(cuadrado3._lado)"
      ]
    },
    {
      "cell_type": "code",
      "execution_count": 25,
      "metadata": {
        "id": "ZP9NKinR_1gW"
      },
      "outputs": [],
      "source": [
        "cuadrado4 = cuadrado(4, \"celeste\")"
      ]
    },
    {
      "cell_type": "code",
      "execution_count": 26,
      "metadata": {
        "colab": {
          "base_uri": "https://localhost:8080/"
        },
        "id": "A3qQjI6z_1gX",
        "outputId": "e0137d44-acc2-42bf-fa8d-a9acf7471ac6"
      },
      "outputs": [
        {
          "output_type": "execute_result",
          "data": {
            "text/plain": [
              "4"
            ]
          },
          "metadata": {},
          "execution_count": 26
        }
      ],
      "source": [
        "cuadrado4._vertices"
      ]
    },
    {
      "cell_type": "markdown",
      "metadata": {
        "id": "kwyHUkBm_1gX"
      },
      "source": [
        "Hasta ahora solo se han definido atributos, a continuación se definirán métodos. Podrá observar que para definir métodos se utilizan las mismas reglas utilizadas para definir funciones"
      ]
    },
    {
      "cell_type": "code",
      "execution_count": 27,
      "metadata": {
        "id": "m4NcXJ8N_1gX"
      },
      "outputs": [],
      "source": [
        "# Se pueden crear metodos (funciones) para la clase\n",
        "\n",
        "class cuadrado:\n",
        "    #atributos comunes\n",
        "    _dimension = '2D'\n",
        "    _vertices = 4\n",
        "\n",
        "    #def __new__(cls, lado, color):\n",
        "        #self  = object.__new__(cls)\n",
        "        #self._lado = lado\n",
        "        #self._color = color\n",
        "        #self._area = lado**2\n",
        "        #return self\n",
        "\n",
        "    def __init__(self, lado, color):\n",
        "        #atributos independientes\n",
        "        self._lado = lado\n",
        "        self._color = color\n",
        "        self._area = lado**2\n",
        "\n",
        "\n",
        "    # se pueden crear nuevos metodos para la clase\n",
        "    # metodos para modificar un objeto\n",
        "    def lado(self, nuevo_lado):\n",
        "        self._lado = nuevo_lado\n",
        "        self._area = nuevo_lado**2\n",
        "        print(\"se modifico la medida del lado a {}\".format(self._lado))\n",
        "\n",
        "    # metodos que permiten la interaccion entre objetos de la misma clase\n",
        "    def suma_areas(cuadrado1, cuadrado2):\n",
        "        suma = cuadrado1._area + cuadrado2._area\n",
        "        print(\"La suma de las areas de los cuadrados es {} \".format(\n",
        "            suma))\n",
        "\n",
        "    def suma_areas2(self, cuadrado0):\n",
        "        suma = cuadrado0._area + self._area\n",
        "        print(\"La suma de las areas de los cuadrados es {} \".format(\n",
        "            suma))"
      ]
    },
    {
      "cell_type": "code",
      "execution_count": 28,
      "metadata": {
        "id": "tqEgTRpJ_1gX"
      },
      "outputs": [],
      "source": [
        "cuadrado5 = cuadrado(10, \"rojo\")"
      ]
    },
    {
      "cell_type": "code",
      "execution_count": 29,
      "metadata": {
        "colab": {
          "base_uri": "https://localhost:8080/"
        },
        "id": "jjsGTo4i_1gX",
        "outputId": "abf54b7f-5c58-47f5-80db-d24d726c4ad3"
      },
      "outputs": [
        {
          "output_type": "stream",
          "name": "stdout",
          "text": [
            "10\n"
          ]
        }
      ],
      "source": [
        "print(cuadrado5._lado)"
      ]
    },
    {
      "cell_type": "code",
      "execution_count": 30,
      "metadata": {
        "colab": {
          "base_uri": "https://localhost:8080/"
        },
        "id": "yihpebEF_1gX",
        "outputId": "cbc4a125-80a0-40c4-cdd2-55b631aab201"
      },
      "outputs": [
        {
          "output_type": "stream",
          "name": "stdout",
          "text": [
            "se modifico la medida del lado a 15\n"
          ]
        }
      ],
      "source": [
        "cuadrado5.lado(15)"
      ]
    },
    {
      "cell_type": "code",
      "execution_count": 31,
      "metadata": {
        "colab": {
          "base_uri": "https://localhost:8080/"
        },
        "id": "SVg4zqiW_1gX",
        "outputId": "2bcd3f4e-e8df-4d14-bcf3-17035c9afc8c"
      },
      "outputs": [
        {
          "output_type": "stream",
          "name": "stdout",
          "text": [
            "15\n"
          ]
        }
      ],
      "source": [
        "print(cuadrado5._lado)"
      ]
    },
    {
      "cell_type": "code",
      "execution_count": 32,
      "metadata": {
        "id": "u6EWyfSx_1gX"
      },
      "outputs": [],
      "source": [
        "cuadrado6 = cuadrado(12, \"amarillo\")"
      ]
    },
    {
      "cell_type": "code",
      "execution_count": 33,
      "metadata": {
        "colab": {
          "base_uri": "https://localhost:8080/"
        },
        "id": "a2MMHEAY_1gX",
        "outputId": "68b7dfe4-81b4-46c5-ee34-d4fc9ddeae88"
      },
      "outputs": [
        {
          "output_type": "stream",
          "name": "stdout",
          "text": [
            "12\n"
          ]
        }
      ],
      "source": [
        "print(cuadrado6._lado)"
      ]
    },
    {
      "cell_type": "code",
      "execution_count": 34,
      "metadata": {
        "colab": {
          "base_uri": "https://localhost:8080/"
        },
        "id": "jsvUrsw4_1gY",
        "outputId": "04adde9c-e467-417c-c376-dd0d99ef78cb"
      },
      "outputs": [
        {
          "output_type": "stream",
          "name": "stdout",
          "text": [
            "La suma de las areas de los cuadrados es 369 \n"
          ]
        }
      ],
      "source": [
        "cuadrado.suma_areas(cuadrado5, cuadrado6)"
      ]
    },
    {
      "cell_type": "code",
      "execution_count": 35,
      "metadata": {
        "colab": {
          "base_uri": "https://localhost:8080/"
        },
        "id": "F0JNrjcV_1gY",
        "outputId": "c42d1bc5-c5c1-41d2-bdad-6aa2240eb03d"
      },
      "outputs": [
        {
          "output_type": "stream",
          "name": "stdout",
          "text": [
            "La suma de las areas de los cuadrados es 369 \n"
          ]
        }
      ],
      "source": [
        "cuadrado5.suma_areas2(cuadrado6)"
      ]
    },
    {
      "cell_type": "markdown",
      "metadata": {
        "id": "RSTKOEV9_1gY"
      },
      "source": [
        "Una función bastante útil es \"__str__\" ya que permite documentar o nombrar a cada objeto."
      ]
    },
    {
      "cell_type": "code",
      "execution_count": 36,
      "metadata": {
        "id": "31lo56kS_1gY"
      },
      "outputs": [],
      "source": [
        "class cuadrado:\n",
        "    #atributos comunes\n",
        "    _dimension = '2D'\n",
        "    _vertices = 4\n",
        "\n",
        "    def __init__(self, lado, color):\n",
        "        #atributos independientes\n",
        "        self._lado = lado\n",
        "        self._color = color\n",
        "        self._area = lado**2\n",
        "\n",
        "\n",
        "    # se pueden crear nuevos metodos para la clase\n",
        "    # metodos para modificar un objeto\n",
        "    def lado(self, nuevo_lado):\n",
        "        self._lado = nuevo_lado\n",
        "        self._area = nuevo_lado**2\n",
        "        print(\"se modifico la medida del lado a {}\".format(self._lado))\n",
        "\n",
        "    # metodos que permiten la interaccion entre objetos de la misma clase\n",
        "    def suma_areas(cuadrado1, cuadrado2):\n",
        "        suma = cuadrado1._area + cuadrado2._area\n",
        "        print(\"La suma de las areas de los cuadrados es {} \".format(\n",
        "            suma))\n",
        "\n",
        "    def __str__(self):\n",
        "        return \"dimension: {}, vertices: {}, color: {}, lado: {}, area: {}\".format(\n",
        "                self._dimension,self._vertices, self._color, self._lado,\n",
        "                self._area)"
      ]
    },
    {
      "cell_type": "code",
      "execution_count": 37,
      "metadata": {
        "id": "SQ4tqAe6_1gY"
      },
      "outputs": [],
      "source": [
        "cuadrado7 = cuadrado(17, \"verde\")"
      ]
    },
    {
      "cell_type": "markdown",
      "metadata": {
        "id": "E-9ZCRSH_1gY"
      },
      "source": [
        "Observe que al imprimir en pantalla el objeto \"cuadrado7\" se obtiene lo especificado en la función \"__str__\""
      ]
    },
    {
      "cell_type": "code",
      "execution_count": 38,
      "metadata": {
        "colab": {
          "base_uri": "https://localhost:8080/"
        },
        "id": "FDnGE_a0_1gY",
        "outputId": "b63ef451-c342-45d2-ec48-988cfd62ce00"
      },
      "outputs": [
        {
          "output_type": "stream",
          "name": "stdout",
          "text": [
            "dimension: 2D, vertices: 4, color: verde, lado: 17, area: 289\n"
          ]
        }
      ],
      "source": [
        "print(cuadrado7)"
      ]
    },
    {
      "cell_type": "markdown",
      "metadata": {
        "id": "-APMMK6i_1gY"
      },
      "source": [
        "Lo cual no sucede con los objetos creados cuando aún no se había definido dicha función."
      ]
    },
    {
      "cell_type": "code",
      "execution_count": 39,
      "metadata": {
        "colab": {
          "base_uri": "https://localhost:8080/"
        },
        "id": "P-u9glJ__1gY",
        "outputId": "f00ed5fa-2084-43fe-a405-556bdc308dce"
      },
      "outputs": [
        {
          "output_type": "stream",
          "name": "stdout",
          "text": [
            "<__main__.cuadrado object at 0x7d7732ebf550>\n"
          ]
        }
      ],
      "source": [
        "print(cuadrado6)"
      ]
    },
    {
      "cell_type": "markdown",
      "metadata": {
        "id": "TCmjqCBq_1gY"
      },
      "source": [
        "Observe otro ejemplo. En este caso se define una clase denominada auto:"
      ]
    },
    {
      "cell_type": "code",
      "execution_count": 40,
      "metadata": {
        "id": "23KN9zSj_1gZ"
      },
      "outputs": [],
      "source": [
        "# Se creará una clase auto\n",
        "\n",
        "class auto:\n",
        "\n",
        "    ruedas = 4\n",
        "    puertas = 4\n",
        "    estado = None\n",
        "\n",
        "    def __init__(self, color_auto, marca_auto, ejes_auto, cilindros_auto):\n",
        "        self.color = color_auto\n",
        "        self.marca = marca_auto\n",
        "        self.ejes = ejes_auto\n",
        "        self.cilindros = cilindros_auto\n",
        "\n",
        "    def iniciar_recorrido(self):\n",
        "        print(\"El auto se ha encendido\")\n",
        "        self.estado = \"Encendido\""
      ]
    },
    {
      "cell_type": "code",
      "execution_count": 41,
      "metadata": {
        "id": "spN8qh0X_1gZ"
      },
      "outputs": [],
      "source": [
        "miAuto = auto(\"azul\", \"Toyota\", 1, 3)"
      ]
    },
    {
      "cell_type": "code",
      "execution_count": 42,
      "metadata": {
        "colab": {
          "base_uri": "https://localhost:8080/"
        },
        "id": "27NYhGfB_1gZ",
        "outputId": "a54a2b3d-f14f-404b-f685-9c3eec8d29ca"
      },
      "outputs": [
        {
          "output_type": "stream",
          "name": "stdout",
          "text": [
            "3\n"
          ]
        }
      ],
      "source": [
        "print(miAuto.cilindros)"
      ]
    },
    {
      "cell_type": "code",
      "execution_count": 43,
      "metadata": {
        "colab": {
          "base_uri": "https://localhost:8080/"
        },
        "id": "tQbPjkbV_1gZ",
        "outputId": "b4f34927-1421-4662-9a39-5dc316ce689a"
      },
      "outputs": [
        {
          "output_type": "stream",
          "name": "stdout",
          "text": [
            "azul\n"
          ]
        }
      ],
      "source": [
        "print(miAuto.color)"
      ]
    },
    {
      "cell_type": "code",
      "execution_count": 44,
      "metadata": {
        "colab": {
          "base_uri": "https://localhost:8080/"
        },
        "id": "0YMtuUC5_1gZ",
        "outputId": "26d70aa7-2983-45cb-f79d-91b940ea4adf"
      },
      "outputs": [
        {
          "output_type": "stream",
          "name": "stdout",
          "text": [
            "El auto se ha encendido\n"
          ]
        }
      ],
      "source": [
        "miAuto.iniciar_recorrido()"
      ]
    },
    {
      "cell_type": "code",
      "execution_count": 45,
      "metadata": {
        "colab": {
          "base_uri": "https://localhost:8080/"
        },
        "id": "eHELP3td_1gZ",
        "outputId": "7966a3c3-47cc-4478-8313-c2124b263290"
      },
      "outputs": [
        {
          "output_type": "stream",
          "name": "stdout",
          "text": [
            "Encendido\n"
          ]
        }
      ],
      "source": [
        "print(miAuto.estado)"
      ]
    },
    {
      "cell_type": "code",
      "execution_count": 46,
      "metadata": {
        "id": "-t5bJWhM_1gZ"
      },
      "outputs": [],
      "source": [
        "auto2 = auto(\"verde\", \"Toyota\", 1, 3)"
      ]
    },
    {
      "cell_type": "code",
      "execution_count": 47,
      "metadata": {
        "colab": {
          "base_uri": "https://localhost:8080/"
        },
        "id": "GLDG1wDa_1gZ",
        "outputId": "4ca41bd2-c334-49d3-dc6b-d5c67b14e5e0"
      },
      "outputs": [
        {
          "output_type": "stream",
          "name": "stdout",
          "text": [
            "El auto se ha encendido\n"
          ]
        }
      ],
      "source": [
        "auto2.iniciar_recorrido()"
      ]
    },
    {
      "cell_type": "code",
      "execution_count": 48,
      "metadata": {
        "colab": {
          "base_uri": "https://localhost:8080/"
        },
        "id": "mIHI6TP-_1gZ",
        "outputId": "3d20cee8-4e46-402d-e608-a6d12685a815"
      },
      "outputs": [
        {
          "output_type": "stream",
          "name": "stdout",
          "text": [
            "Encendido\n"
          ]
        }
      ],
      "source": [
        "print(auto2.estado)"
      ]
    },
    {
      "cell_type": "code",
      "execution_count": 49,
      "metadata": {
        "id": "KflFgaGT_1gZ"
      },
      "outputs": [],
      "source": [
        "auto3 = auto(\"verde\", \"Toyota\", 1, 3)"
      ]
    },
    {
      "cell_type": "code",
      "execution_count": 50,
      "metadata": {
        "colab": {
          "base_uri": "https://localhost:8080/"
        },
        "id": "BuRjCPss_1ga",
        "outputId": "01480238-07bd-4363-bf1a-55b1a6e4e17f"
      },
      "outputs": [
        {
          "output_type": "stream",
          "name": "stdout",
          "text": [
            "None\n"
          ]
        }
      ],
      "source": [
        "print(auto3.estado)"
      ]
    },
    {
      "cell_type": "markdown",
      "metadata": {
        "id": "WHJvJSEA_1ga"
      },
      "source": [
        "Tome en cuenta que al crear nuevos métodos tome en cuenta que los nombres de los métodos no pueden ser los mismos que los nombres de las variables."
      ]
    },
    {
      "cell_type": "code",
      "execution_count": 50,
      "metadata": {
        "id": "BFzHxDMU_1ga"
      },
      "outputs": [],
      "source": []
    },
    {
      "cell_type": "markdown",
      "metadata": {
        "id": "v4y07ve__1ga"
      },
      "source": [
        "### Herencia"
      ]
    },
    {
      "cell_type": "markdown",
      "metadata": {
        "id": "mhPI1Yev_1ga"
      },
      "source": [
        "El concepto de herencia en programación permite que nuevas clases __reutilicen__ (hereden) los atributos y métodos de clases que han sido definidas con anticipación."
      ]
    },
    {
      "cell_type": "code",
      "execution_count": 51,
      "metadata": {
        "id": "62AJtndG_1ga"
      },
      "outputs": [],
      "source": [
        "# La clase persona será una clase que más adelante compartirá sus funciones\n",
        "class Persona(object):\n",
        "    \"\"\"Clase que representa una Persona\"\"\"\n",
        "\n",
        "    def __init__(self, cedula, nombre, apellido):\n",
        "        \"\"\"Constructor de clase Persona\"\"\"\n",
        "        self.cedula = cedula\n",
        "        self.nombre = nombre\n",
        "        self.apellido = apellido\n",
        "\n",
        "    def presentacion(self):\n",
        "        \"\"\"Devuelve una cadena representativa de Persona\"\"\"\n",
        "        return \"{}, {} {}.\".format(self.cedula, self.nombre, self.apellido)"
      ]
    },
    {
      "cell_type": "code",
      "execution_count": 52,
      "metadata": {
        "id": "1_-tT6qD_1ga"
      },
      "outputs": [],
      "source": [
        "persona1 = Persona(\"V-13458796\", \"Leonardo\", \"Caballero\")"
      ]
    },
    {
      "cell_type": "code",
      "execution_count": 53,
      "metadata": {
        "colab": {
          "base_uri": "https://localhost:8080/"
        },
        "id": "jkdDcTlw_1ga",
        "outputId": "a4cb5e67-4de5-421a-9f1f-d98912f95128"
      },
      "outputs": [
        {
          "output_type": "stream",
          "name": "stdout",
          "text": [
            "Caballero\n"
          ]
        }
      ],
      "source": [
        "print(persona1.apellido)"
      ]
    },
    {
      "cell_type": "code",
      "execution_count": 54,
      "metadata": {
        "colab": {
          "base_uri": "https://localhost:8080/"
        },
        "id": "ZMVY5ot7_1ga",
        "outputId": "50e6332c-68d8-4c4e-8d9c-f97bc5969262"
      },
      "outputs": [
        {
          "output_type": "stream",
          "name": "stdout",
          "text": [
            "V-13458796, Leonardo Caballero.\n"
          ]
        }
      ],
      "source": [
        "print(persona1.presentacion())"
      ]
    },
    {
      "cell_type": "markdown",
      "metadata": {
        "id": "ofhkC6Lm_1ga"
      },
      "source": [
        "Una nueva clase hereda de otra mediante dos pasos en el código:\n",
        "1. Pasar como argumento de la nueva clase a la clase base\n",
        "2. Utilizar el inicializador o constructor de la primera clase dentro del constructor de la segunda clase"
      ]
    },
    {
      "cell_type": "code",
      "execution_count": 55,
      "metadata": {
        "id": "-Dilxmkk_1ga"
      },
      "outputs": [],
      "source": [
        "# La clase supervisor heredará los atributos y funciones de la clase persona\n",
        "class Supervisor(Persona): #PASO 1\n",
        "    \"\"\"Clase que representa a un Supervisor\"\"\"\n",
        "\n",
        "    def __init__(self, cedula, nombre, apellido, rol):\n",
        "        \"\"\"Constructor de clase Supervisor\"\"\"\n",
        "\n",
        "        # Invoca al constructor de clase Persona\n",
        "        Persona.__init__(self, cedula, nombre, apellido) # PASO 02\n",
        "        # Recuerde pedir los argumentos suficientes en el constructor\n",
        "\n",
        "        # Nuevos atributos\n",
        "        self.rol = rol\n",
        "        self.tareas = ['Supervisar','Informar']\n",
        "\n",
        "    def presentacion_sup(self):\n",
        "        \"\"\"Devuelve una cadena representativa al Supervisor\"\"\"\n",
        "        return \"{} {}, rol: {}, sus tareas: {}.\".format(\n",
        "            self.nombre, self.apellido,\n",
        "            self.rol, self.consulta_tareas())\n",
        "\n",
        "    def consulta_tareas(self):\n",
        "        \"\"\"Mostrar las tareas del Supervisor\"\"\"\n",
        "        return ','.join(self.tareas)"
      ]
    },
    {
      "cell_type": "code",
      "execution_count": 56,
      "metadata": {
        "id": "oBU9SoRY_1gb"
      },
      "outputs": [],
      "source": [
        "supervisor1 = Supervisor(\"V-16987456\", \"Jean\", \"Paz\", \"S3\")"
      ]
    },
    {
      "cell_type": "code",
      "execution_count": 57,
      "metadata": {
        "colab": {
          "base_uri": "https://localhost:8080/"
        },
        "id": "P41Pwfok_1gb",
        "outputId": "e26b920e-49d3-4fff-a66d-b5911169c465"
      },
      "outputs": [
        {
          "output_type": "stream",
          "name": "stdout",
          "text": [
            "V-16987456, Jean Paz.\n"
          ]
        }
      ],
      "source": [
        "print(supervisor1.presentacion())"
      ]
    },
    {
      "cell_type": "code",
      "execution_count": 58,
      "metadata": {
        "colab": {
          "base_uri": "https://localhost:8080/"
        },
        "id": "bOCy047H_1gb",
        "outputId": "f7e46344-fa7f-4552-9bb0-e75d09b990e2"
      },
      "outputs": [
        {
          "output_type": "stream",
          "name": "stdout",
          "text": [
            "Jean Paz, rol: S3, sus tareas: Supervisar,Informar.\n"
          ]
        }
      ],
      "source": [
        "print(supervisor1.presentacion_sup())"
      ]
    },
    {
      "cell_type": "code",
      "execution_count": 59,
      "metadata": {
        "colab": {
          "base_uri": "https://localhost:8080/"
        },
        "id": "uTY6bXgA_1gb",
        "outputId": "dcf8c21a-0d71-43aa-cc2b-f0fda40d9317"
      },
      "outputs": [
        {
          "output_type": "stream",
          "name": "stdout",
          "text": [
            "['Supervisar', 'Informar']\n"
          ]
        }
      ],
      "source": [
        "print(supervisor1.tareas)"
      ]
    },
    {
      "cell_type": "code",
      "execution_count": 60,
      "metadata": {
        "id": "_6uvX79G_1gb"
      },
      "outputs": [],
      "source": [
        "persona2 = Persona(\"G-29855791\", \"Ana\", \"Reto\")"
      ]
    },
    {
      "cell_type": "code",
      "execution_count": 61,
      "metadata": {
        "colab": {
          "base_uri": "https://localhost:8080/"
        },
        "id": "MGW7er1G_1gb",
        "outputId": "f4dbefcd-2831-4835-e276-909b55c9394c"
      },
      "outputs": [
        {
          "output_type": "stream",
          "name": "stdout",
          "text": [
            "G-29855791, Ana Reto.\n"
          ]
        }
      ],
      "source": [
        "print(persona2.presentacion())"
      ]
    },
    {
      "cell_type": "markdown",
      "metadata": {
        "id": "Kk8s5Sf9_1gb"
      },
      "source": [
        "Veamos otro ejemplo. En este caso se heredan los atributos y métodos definidos en la clase \"Cuadrilatero\" a las clases \"Cuadrado\" y \"Rectangulo\". Cada una de estas dos clases se ha adapatado para definir un método que calcula el área en cada caso particular de los cuadrados o rectángulos."
      ]
    },
    {
      "cell_type": "markdown",
      "metadata": {
        "id": "Yev0yFsy_1gb"
      },
      "source": [
        "Observe también que se ha utilizado la función especial __new__ en lugar de __init__. La función __new__ se denomina constructor, permite construir un objeto (instancia) mientras que __init__ realiza las tareas de inicialización después de creado el objeto. Como habrá observado, la función __new__ se puede omitir y pasar directamente a __init__ como en los ejemplos anteriores. La función __new__ se emplea para establecer condiciones antes de crear un objeto, en este caso se ha empleado para establecer la condición \"los lados deben ser numeros enteros\". Tome en cuenta que esta función requiere que se retorne el objeto self."
      ]
    },
    {
      "cell_type": "code",
      "execution_count": 62,
      "metadata": {
        "id": "NY_6nTIJ_1gb"
      },
      "outputs": [],
      "source": [
        "class Cuadrilatero:\n",
        "\n",
        "    _n_lados = 4\n",
        "    _dimension = \"2D\"\n",
        "\n",
        "\n",
        "    def __new__(cls, lado1, lado2, lado3, lado4):\n",
        "\n",
        "        for x in [lado1, lado2, lado3, lado4]:\n",
        "                    # la funcion isinstance permite verificar si\n",
        "                    # un objeto es de una clase en especifico\n",
        "            if  isinstance(x,int) == False:\n",
        "                raise TypeError (\"se admiten solo numeros enteros\")\n",
        "\n",
        "        self = object.__new__(cls)\n",
        "\n",
        "        self._lado1 = lado1\n",
        "        self._lado2 = lado2\n",
        "        self._lado3 = lado3\n",
        "        self._lado4 = lado4\n",
        "\n",
        "        return self\n",
        "\n",
        "\n",
        "    def perimetro(self):\n",
        "        self._perimetro = self._lado1 + self._lado2 + \\\n",
        "                            self._lado3 + self._lado4\n",
        "        return \"el perimetro es {} unidades\".format(self._perimetro)\n",
        "        # la barra \"\\\"  permite continuar la operación en la siguiente\n",
        "        # linea"
      ]
    },
    {
      "cell_type": "code",
      "execution_count": 63,
      "metadata": {
        "id": "uTX4Xbus_1gb"
      },
      "outputs": [],
      "source": [
        "c = Cuadrilatero(1,2,1,2)"
      ]
    },
    {
      "cell_type": "code",
      "execution_count": 64,
      "metadata": {
        "colab": {
          "base_uri": "https://localhost:8080/",
          "height": 36
        },
        "id": "i1qcghBl_1gb",
        "outputId": "f1393dab-ecb6-4a5b-e7b5-e6b0ab15cd04"
      },
      "outputs": [
        {
          "output_type": "execute_result",
          "data": {
            "text/plain": [
              "'el perimetro es 6 unidades'"
            ],
            "application/vnd.google.colaboratory.intrinsic+json": {
              "type": "string"
            }
          },
          "metadata": {},
          "execution_count": 64
        }
      ],
      "source": [
        "c.perimetro()"
      ]
    },
    {
      "cell_type": "code",
      "execution_count": 65,
      "metadata": {
        "id": "4_EZRi_t_1gc"
      },
      "outputs": [],
      "source": [
        "class Rectangulo(Cuadrilatero): #Paso1\n",
        "\n",
        "    def __new__(cls, base, altura):\n",
        "        self = Cuadrilatero.__new__(cls, base, altura, base, altura) #Paso2\n",
        "        return self\n",
        "\n",
        "    def area(self):\n",
        "        base = self._lado1\n",
        "        altura = self._lado2\n",
        "        self._area = base*altura\n",
        "        return \"el area es {} unidades\".format(self._area)"
      ]
    },
    {
      "cell_type": "code",
      "execution_count": 66,
      "metadata": {
        "id": "E5-la2Ly_1gc"
      },
      "outputs": [],
      "source": [
        "class Cuadrado(Cuadrilatero):\n",
        "\n",
        "    def __new__(cls, lado):\n",
        "        self = Cuadrilatero.__new__(cls, lado, lado, lado, lado)\n",
        "        return self\n",
        "\n",
        "    def area(self):\n",
        "        lado = self._lado1\n",
        "        self._area = lado**2\n",
        "        #area = lado **2\n",
        "        return \"el area es {} unidades\".format(self._area)\n",
        "        #return \"el area es {} unidades\".format(area)"
      ]
    },
    {
      "cell_type": "code",
      "execution_count": 67,
      "metadata": {
        "id": "275itRsd_1gc"
      },
      "outputs": [],
      "source": [
        "rectangulo1 = Rectangulo(15,20)"
      ]
    },
    {
      "cell_type": "code",
      "execution_count": 68,
      "metadata": {
        "colab": {
          "base_uri": "https://localhost:8080/"
        },
        "id": "8IsiU1Pj_1gc",
        "outputId": "2ceaaa12-2e2c-4729-94ad-85106d52f3f5"
      },
      "outputs": [
        {
          "output_type": "stream",
          "name": "stdout",
          "text": [
            "el perimetro es 70 unidades\n"
          ]
        }
      ],
      "source": [
        "print(rectangulo1.perimetro())"
      ]
    },
    {
      "cell_type": "code",
      "execution_count": 69,
      "metadata": {
        "colab": {
          "base_uri": "https://localhost:8080/"
        },
        "id": "onhyFZzb_1gc",
        "outputId": "8fb8912c-8edc-4f1e-f429-9b2abef3f24a"
      },
      "outputs": [
        {
          "output_type": "stream",
          "name": "stdout",
          "text": [
            "el area es 300 unidades\n"
          ]
        }
      ],
      "source": [
        "print(rectangulo1.area())"
      ]
    },
    {
      "cell_type": "code",
      "execution_count": 70,
      "metadata": {
        "id": "KuB-l3U9_1gc"
      },
      "outputs": [],
      "source": [
        "cuadrado1 = Cuadrado(8)"
      ]
    },
    {
      "cell_type": "code",
      "execution_count": 71,
      "metadata": {
        "colab": {
          "base_uri": "https://localhost:8080/"
        },
        "id": "DoC3KeSc_1gc",
        "outputId": "924a5075-87c3-452c-bf0c-be4cd092df88"
      },
      "outputs": [
        {
          "output_type": "stream",
          "name": "stdout",
          "text": [
            "el perimetro es 32 unidades\n"
          ]
        }
      ],
      "source": [
        "print(cuadrado1.perimetro())"
      ]
    },
    {
      "cell_type": "code",
      "execution_count": 72,
      "metadata": {
        "colab": {
          "base_uri": "https://localhost:8080/"
        },
        "id": "qESWvkZl_1gc",
        "outputId": "b8c7cbbe-35eb-4bcd-d47a-a035996edde4"
      },
      "outputs": [
        {
          "output_type": "stream",
          "name": "stdout",
          "text": [
            "el area es 64 unidades\n"
          ]
        }
      ],
      "source": [
        "print(cuadrado1.area())"
      ]
    },
    {
      "cell_type": "code",
      "execution_count": 73,
      "metadata": {
        "colab": {
          "base_uri": "https://localhost:8080/"
        },
        "id": "BY_lel6n_1gc",
        "outputId": "240fbe67-cb54-4a01-a212-1810f9e11bd0"
      },
      "outputs": [
        {
          "output_type": "execute_result",
          "data": {
            "text/plain": [
              "64"
            ]
          },
          "metadata": {},
          "execution_count": 73
        }
      ],
      "source": [
        "cuadrado1._area"
      ]
    },
    {
      "cell_type": "markdown",
      "metadata": {
        "id": "aKmTsp0D_1gc"
      },
      "source": [
        "#### Blogs para repasar los conceptos\n",
        "\n",
        "#https://docs.python.org/es/3/tutorial/classes.html\n",
        "\n",
        "#https://pythones.net/clases-y-metodos-python-oop/\n",
        "\n",
        "#https://entrenamiento-python-basico.readthedocs.io/es/latest/leccion9/poo.html\n",
        "\n",
        "#https://entrenamiento-python-basico.readthedocs.io/es/latest/leccion9/herencia.html"
      ]
    }
  ],
  "metadata": {
    "kernelspec": {
      "display_name": "Python 3",
      "language": "python",
      "name": "python3"
    },
    "language_info": {
      "codemirror_mode": {
        "name": "ipython",
        "version": 3
      },
      "file_extension": ".py",
      "mimetype": "text/x-python",
      "name": "python",
      "nbconvert_exporter": "python",
      "pygments_lexer": "ipython3",
      "version": "3.8.5"
    },
    "colab": {
      "provenance": []
    }
  },
  "nbformat": 4,
  "nbformat_minor": 0
}