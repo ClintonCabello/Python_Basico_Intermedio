{
  "cells": [
    {
      "cell_type": "markdown",
      "metadata": {
        "id": "J8sOjq4auugN"
      },
      "source": [
        "# ESTRUCTURAS DE CONTROL\n",
        "\n",
        "# if - elif - else"
      ]
    },
    {
      "cell_type": "code",
      "execution_count": 1,
      "metadata": {
        "colab": {
          "base_uri": "https://localhost:8080/"
        },
        "id": "8j_db5L-sayQ",
        "outputId": "046df978-2bc1-4782-fef5-064055e04bf5"
      },
      "outputs": [
        {
          "output_type": "stream",
          "name": "stdout",
          "text": [
            "1.Fuera del if\n",
            "Adulto mayor\n",
            "Dentro del if\n",
            "2.Fuera del if\n"
          ]
        }
      ],
      "source": [
        "# if\n",
        "\n",
        "edad = 60\n",
        "\n",
        "print('1.Fuera del if')\n",
        "\n",
        "if edad >= 60:\n",
        "    print('Adulto mayor')\n",
        "    print('Dentro del if')\n",
        "print('2.Fuera del if')"
      ]
    },
    {
      "cell_type": "code",
      "execution_count": 2,
      "metadata": {
        "colab": {
          "base_uri": "https://localhost:8080/"
        },
        "id": "aEZiz5y4tvi6",
        "outputId": "eb2eb589-67dd-4187-89c7-bfc2d561f4ca"
      },
      "outputs": [
        {
          "output_type": "stream",
          "name": "stdout",
          "text": [
            "Adulto\n"
          ]
        }
      ],
      "source": [
        "# if - else\n",
        "\n",
        "edad = 15\n",
        "\n",
        "if edad >= 60:\n",
        "  print(\"Adulto mayor\")\n",
        "else:\n",
        "  print(\"Adulto\")"
      ]
    },
    {
      "cell_type": "code",
      "execution_count": 3,
      "metadata": {
        "colab": {
          "base_uri": "https://localhost:8080/"
        },
        "id": "89bdSQNvtx74",
        "outputId": "ea547423-0669-4053-a1ff-eb59ee02687c"
      },
      "outputs": [
        {
          "output_type": "stream",
          "name": "stdout",
          "text": [
            "Adulto\n"
          ]
        }
      ],
      "source": [
        "edad = 35\n",
        "\n",
        "if edad >= 60:\n",
        "  print(\"Adulto mayor\")\n",
        "else:\n",
        "  if edad <= 25:\n",
        "    print(\"Joven\")\n",
        "  else:\n",
        "    print(\"Adulto\")"
      ]
    },
    {
      "cell_type": "code",
      "execution_count": 4,
      "metadata": {
        "colab": {
          "base_uri": "https://localhost:8080/"
        },
        "id": "baHX5UWMt0Xv",
        "outputId": "9f3ce40f-439c-494c-93cd-b06617c55e8f"
      },
      "outputs": [
        {
          "output_type": "stream",
          "name": "stdout",
          "text": [
            "Adulto\n"
          ]
        }
      ],
      "source": [
        "# if - elif - else\n",
        "\n",
        "edad = 45\n",
        "\n",
        "if edad >= 60:\n",
        "  print(\"Adulto mayor\")\n",
        "elif edad <= 25:\n",
        "  print(\"Joven\")\n",
        "elif edad <= 40:\n",
        "  print(\"Adulto joven\")\n",
        "else:\n",
        "  print(\"Adulto\")"
      ]
    },
    {
      "cell_type": "markdown",
      "metadata": {
        "id": "XtWMgZwwu0e7"
      },
      "source": [
        "# for - while"
      ]
    },
    {
      "cell_type": "code",
      "execution_count": 5,
      "metadata": {
        "colab": {
          "base_uri": "https://localhost:8080/"
        },
        "id": "brfc5bhQuAjn",
        "outputId": "878d2285-ae84-40e6-f878-81b812a75960"
      },
      "outputs": [
        {
          "output_type": "stream",
          "name": "stdout",
          "text": [
            "2015\n",
            "2016\n",
            "2017\n",
            "2018\n",
            "2019\n",
            "2020\n",
            "2021\n",
            "2022\n"
          ]
        }
      ],
      "source": [
        "#while\n",
        "\n",
        "año = 2015\n",
        "\n",
        "while año <= 2022:\n",
        "  print(año)\n",
        "  año += 1"
      ]
    },
    {
      "cell_type": "code",
      "execution_count": 6,
      "metadata": {
        "colab": {
          "base_uri": "https://localhost:8080/"
        },
        "id": "yriAOnJ62vL0",
        "outputId": "4c41c24a-e69e-4c2b-faea-185602c84e27"
      },
      "outputs": [
        {
          "name": "stdout",
          "output_type": "stream",
          "text": [
            "Ingrese el genero:M\n"
          ]
        }
      ],
      "source": [
        "genero = input('Ingrese el genero:') # G\n",
        "        # G != M   and      G != F\n",
        "while genero != 'M' and genero != 'F':\n",
        "  genero = input('Ingrese el genero: ')"
      ]
    },
    {
      "cell_type": "code",
      "execution_count": 6,
      "metadata": {
        "id": "DuvRsX4f9IKW"
      },
      "outputs": [],
      "source": []
    },
    {
      "cell_type": "code",
      "execution_count": 7,
      "metadata": {
        "colab": {
          "base_uri": "https://localhost:8080/"
        },
        "id": "h6W43M-C2vUD",
        "outputId": "b06b12fc-20dd-43c8-be3d-1012013d1166"
      },
      "outputs": [
        {
          "name": "stdout",
          "output_type": "stream",
          "text": [
            "Ingrese el genero: M\n"
          ]
        }
      ],
      "source": [
        "while 1:\n",
        "  genero = input('Ingrese el genero: ')\n",
        "  if genero == 'M' or genero == 'F':\n",
        "    break"
      ]
    },
    {
      "cell_type": "code",
      "execution_count": 8,
      "metadata": {
        "colab": {
          "base_uri": "https://localhost:8080/"
        },
        "id": "6110jz1nt27t",
        "outputId": "b7bb893a-3dba-435e-b785-320ba202987b"
      },
      "outputs": [
        {
          "output_type": "stream",
          "name": "stdout",
          "text": [
            "Ingrese el ingreso mensual en soles:100\n",
            "Ingreso válido\n"
          ]
        }
      ],
      "source": [
        "# while True\n",
        "\n",
        "while True:\n",
        "\n",
        "  ingreso = int(input('Ingrese el ingreso mensual en soles:'))\n",
        "\n",
        "  if ingreso > 0:\n",
        "    print('Ingreso válido')\n",
        "    break\n",
        "  elif ingreso == 0:\n",
        "    print('Dato perdido')\n",
        "    break\n",
        "  else:\n",
        "    print('Ingreso inválido')\n",
        "    print('Ingrese nuevamente')"
      ]
    },
    {
      "cell_type": "code",
      "execution_count": 9,
      "metadata": {
        "colab": {
          "base_uri": "https://localhost:8080/"
        },
        "id": "WXjFDSXYt6_6",
        "outputId": "f3396276-0585-4727-b7aa-be7f14d939e7"
      },
      "outputs": [
        {
          "output_type": "stream",
          "name": "stdout",
          "text": [
            "0\n",
            "1\n",
            "2\n",
            "3\n",
            "4\n",
            "5\n",
            "6\n",
            "7\n",
            "8\n",
            "9\n"
          ]
        }
      ],
      "source": [
        "#for\n",
        "\n",
        "for i in range(10):\n",
        "  print(i)"
      ]
    },
    {
      "cell_type": "code",
      "execution_count": 10,
      "metadata": {
        "colab": {
          "base_uri": "https://localhost:8080/"
        },
        "id": "JTg-QJLFuLvz",
        "outputId": "71e8fb9b-c008-48d0-a22d-958f7728f3d9"
      },
      "outputs": [
        {
          "output_type": "stream",
          "name": "stdout",
          "text": [
            "H\n",
            "o\n",
            "l\n",
            "a\n",
            " \n",
            "m\n",
            "u\n",
            "n\n",
            "d\n",
            "o\n",
            "!\n"
          ]
        }
      ],
      "source": [
        "for c in 'Hola mundo!':\n",
        "  print(c)"
      ]
    },
    {
      "cell_type": "code",
      "execution_count": 11,
      "metadata": {
        "colab": {
          "base_uri": "https://localhost:8080/",
          "height": 111
        },
        "id": "4DgMWLM-9IKW",
        "outputId": "698302f9-39ac-4c38-b085-f85e41f193ed"
      },
      "outputs": [
        {
          "output_type": "error",
          "ename": "SyntaxError",
          "evalue": "expected ':' (<ipython-input-11-fe528e61a843>, line 3)",
          "traceback": [
            "\u001b[0;36m  File \u001b[0;32m\"<ipython-input-11-fe528e61a843>\"\u001b[0;36m, line \u001b[0;32m3\u001b[0m\n\u001b[0;31m    for i in range(1,12)\u001b[0m\n\u001b[0m                        ^\u001b[0m\n\u001b[0;31mSyntaxError\u001b[0m\u001b[0;31m:\u001b[0m expected ':'\n"
          ]
        }
      ],
      "source": [
        "num = int(input('Ingresa la tabla de multiplicar: '))\n",
        "\n",
        "for i in range(1,12)"
      ]
    },
    {
      "cell_type": "markdown",
      "metadata": {
        "id": "wGmZzE7KuXpI"
      },
      "source": [
        "Imprimir la tabla de multiplicación de un número n desde el 1 al 10."
      ]
    },
    {
      "cell_type": "code",
      "execution_count": 12,
      "metadata": {
        "colab": {
          "base_uri": "https://localhost:8080/"
        },
        "id": "QzfSNV_WudeJ",
        "outputId": "2303f799-d771-4176-c192-3cf1ed63e524"
      },
      "outputs": [
        {
          "output_type": "stream",
          "name": "stdout",
          "text": [
            "12 * 1 = 12\n",
            "12 * 2 = 24\n",
            "12 * 3 = 36\n",
            "12 * 4 = 48\n",
            "12 * 5 = 60\n"
          ]
        }
      ],
      "source": [
        "print(12, '*', 1, '=', 12*1)\n",
        "print(12, '*', 2, '=', 12*2)\n",
        "print(12, '*', 3, '=', 12*3)\n",
        "print(12, '*', 4, '=', 12*4)\n",
        "print(12, '*', 5, '=', 12*5)"
      ]
    },
    {
      "cell_type": "code",
      "execution_count": 13,
      "metadata": {
        "colab": {
          "base_uri": "https://localhost:8080/"
        },
        "id": "zt35ToNK02OI",
        "outputId": "57b2c5e7-6935-4a03-ee3b-43dafbd810d7"
      },
      "outputs": [
        {
          "output_type": "stream",
          "name": "stdout",
          "text": [
            "13 * 1 = 13\n",
            "13 * 2 = 26\n",
            "13 * 3 = 39\n",
            "13 * 4 = 52\n",
            "13 * 5 = 65\n",
            "13 * 6 = 78\n",
            "13 * 7 = 91\n",
            "13 * 8 = 104\n",
            "13 * 9 = 117\n",
            "13 * 10 = 130\n"
          ]
        }
      ],
      "source": [
        "n = 13\n",
        "\n",
        "for i in range(1, 11):\n",
        "  print(n, '*', i, '=', n*i)"
      ]
    },
    {
      "cell_type": "markdown",
      "metadata": {
        "id": "jPtCmO6nSHGQ"
      },
      "source": [
        "# Ejercicios a resolver - Estructura Control\n",
        "\n"
      ]
    },
    {
      "cell_type": "markdown",
      "metadata": {
        "id": "m6BZ_n08gTgN"
      },
      "source": [
        "1. Escribir un programa que calcule el monto final (préstamo + interés) a pagar considerando:\n",
        "- Solicitar el monto del préstamo **M**.\n",
        "- Si se trata de un **colaborador** del banco, la tasa es del 10.5%\n",
        "- Si el cliente es del **segmento** *VIP* la tasa será del 13% si tiene **cuenta** de ahorro,\n",
        "  de lo contrario la tasa es del 16%\n",
        "- En otros casos, la tasa es del 18.5%"
      ]
    },
    {
      "cell_type": "code",
      "execution_count": null,
      "metadata": {
        "id": "m3oRE44qRel_"
      },
      "outputs": [],
      "source": [
        "#Ingrese su solución aquí"
      ]
    },
    {
      "cell_type": "markdown",
      "metadata": {
        "id": "EY5qvyVcTFIk"
      },
      "source": [
        "2. Solicitar a, b, c (lados de un triangulo) y devolver si se trata de un escaleno, un isósceles o un equilátero."
      ]
    },
    {
      "cell_type": "code",
      "execution_count": null,
      "metadata": {
        "id": "wlP42oApTCBu"
      },
      "outputs": [],
      "source": [
        "#Ingrese su solución aquí"
      ]
    },
    {
      "cell_type": "markdown",
      "metadata": {
        "id": "fUtMBa6zS-qW"
      },
      "source": [
        "3. Ingresar el n y mostrar todos los números primos del 2 al n."
      ]
    },
    {
      "cell_type": "code",
      "execution_count": null,
      "metadata": {
        "id": "UQIyY5B4TIAk"
      },
      "outputs": [],
      "source": [
        "#Ingrese su solución aquí"
      ]
    }
  ],
  "metadata": {
    "colab": {
      "provenance": []
    },
    "kernelspec": {
      "display_name": "Python 3 (ipykernel)",
      "language": "python",
      "name": "python3"
    },
    "language_info": {
      "codemirror_mode": {
        "name": "ipython",
        "version": 3
      },
      "file_extension": ".py",
      "mimetype": "text/x-python",
      "name": "python",
      "nbconvert_exporter": "python",
      "pygments_lexer": "ipython3",
      "version": "3.11.2"
    }
  },
  "nbformat": 4,
  "nbformat_minor": 0
}