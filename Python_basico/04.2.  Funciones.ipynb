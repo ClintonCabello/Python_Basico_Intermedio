{
  "cells": [
    {
      "cell_type": "markdown",
      "metadata": {
        "id": "8XuEd9v1y7um"
      },
      "source": [
        "## Funciones"
      ]
    },
    {
      "cell_type": "code",
      "execution_count": 1,
      "metadata": {
        "id": "psYEmC6DkwLZ"
      },
      "outputs": [],
      "source": [
        "#Ejemplo 1\n",
        "\n",
        "def potencia(base, pot):\n",
        "  resultado = base ** pot\n",
        "  return resultado"
      ]
    },
    {
      "cell_type": "code",
      "execution_count": 2,
      "metadata": {
        "id": "4e73r7CTk6_S",
        "outputId": "9a5a1a25-2087-42cc-9cb8-f65c03fb0e29",
        "colab": {
          "base_uri": "https://localhost:8080/"
        }
      },
      "outputs": [
        {
          "output_type": "execute_result",
          "data": {
            "text/plain": [
              "125"
            ]
          },
          "metadata": {},
          "execution_count": 2
        }
      ],
      "source": [
        "potencia(5, 3)"
      ]
    },
    {
      "cell_type": "code",
      "execution_count": 3,
      "metadata": {
        "id": "-cbzcxMTk7Bl",
        "colab": {
          "base_uri": "https://localhost:8080/",
          "height": 148
        },
        "outputId": "7b559f9d-71dc-415d-918d-60496d1a93e6"
      },
      "outputs": [
        {
          "output_type": "error",
          "ename": "TypeError",
          "evalue": "potencia() missing 1 required positional argument: 'pot'",
          "traceback": [
            "\u001b[0;31m---------------------------------------------------------------------------\u001b[0m",
            "\u001b[0;31mTypeError\u001b[0m                                 Traceback (most recent call last)",
            "\u001b[0;32m<ipython-input-3-34286b763729>\u001b[0m in \u001b[0;36m<cell line: 1>\u001b[0;34m()\u001b[0m\n\u001b[0;32m----> 1\u001b[0;31m \u001b[0mpotencia\u001b[0m\u001b[0;34m(\u001b[0m\u001b[0;36m5\u001b[0m\u001b[0;34m)\u001b[0m\u001b[0;34m\u001b[0m\u001b[0;34m\u001b[0m\u001b[0m\n\u001b[0m",
            "\u001b[0;31mTypeError\u001b[0m: potencia() missing 1 required positional argument: 'pot'"
          ]
        }
      ],
      "source": [
        "potencia(5)"
      ]
    },
    {
      "cell_type": "code",
      "execution_count": 4,
      "metadata": {
        "id": "LdfhXOKGk-5I"
      },
      "outputs": [],
      "source": [
        "def potencia(base, pot = 2):\n",
        "  resultado = base ** pot\n",
        "  return resultado"
      ]
    },
    {
      "cell_type": "code",
      "execution_count": 5,
      "metadata": {
        "id": "tgrgv_UclBEF",
        "outputId": "459b8569-fb5d-48ec-ceba-99d4b71f437b",
        "colab": {
          "base_uri": "https://localhost:8080/"
        }
      },
      "outputs": [
        {
          "output_type": "execute_result",
          "data": {
            "text/plain": [
              "25"
            ]
          },
          "metadata": {},
          "execution_count": 5
        }
      ],
      "source": [
        "potencia(5)"
      ]
    },
    {
      "cell_type": "code",
      "execution_count": 6,
      "metadata": {
        "id": "-77KnpTkyVqD"
      },
      "outputs": [],
      "source": [
        "#Ejemplo 2\n",
        "\n",
        "def promedio(datos):\n",
        "    n=len(datos)\n",
        "    suma=0\n",
        "    for i in datos:\n",
        "        suma=suma+i\n",
        "\n",
        "    promedio=suma/n\n",
        "    return promedio\n"
      ]
    },
    {
      "cell_type": "code",
      "execution_count": 7,
      "metadata": {
        "colab": {
          "base_uri": "https://localhost:8080/"
        },
        "id": "yj3SW_gSSS6j",
        "outputId": "2517f31b-cbdc-4596-ed1b-d281cde44d12"
      },
      "outputs": [
        {
          "output_type": "execute_result",
          "data": {
            "text/plain": [
              "20.25"
            ]
          },
          "metadata": {},
          "execution_count": 7
        }
      ],
      "source": [
        "promedio([48,20,5,8])"
      ]
    },
    {
      "cell_type": "markdown",
      "metadata": {
        "id": "Izg8ORf-zwSg"
      },
      "source": [
        "### Ejercicio 1.\n",
        "\n",
        "Crear una función que calcule el índice de masa corporal (**peso / talla^2**) y muestre su clasificación según:\n",
        "\n",
        "<img src=\"http://tuendocrinologo.com/site/images/stories/aa_su/3594669.png\">"
      ]
    },
    {
      "cell_type": "code",
      "execution_count": 8,
      "metadata": {
        "colab": {
          "base_uri": "https://localhost:8080/"
        },
        "id": "GVSIghaszsD8",
        "outputId": "b7df102b-13bc-4075-f640-20c530dea2a3"
      },
      "outputs": [
        {
          "output_type": "stream",
          "name": "stdout",
          "text": [
            "Normal\n"
          ]
        }
      ],
      "source": [
        "#Ingrese su solución aquí\n",
        "\n",
        "def IMC(peso,talla):\n",
        "    IMC=peso/talla**2\n",
        "    if IMC>18.5 and IMC<25:\n",
        "        print(\"Normal\")\n",
        "    elif IMC>=25 and IMC<30:\n",
        "        print(\"Sobrepeso\")\n",
        "    elif IMC>=30 and IMC<35:\n",
        "        print(\"Obesidad Grado I\")\n",
        "    elif IMC>=35 and IMC<40:\n",
        "        print(\"Obesidad Grado II\")\n",
        "    elif IMC>40:\n",
        "        print(\"Obesidad Grado III\")\n",
        "\n",
        "\n",
        "IMC(65,1.62)\n"
      ]
    },
    {
      "cell_type": "markdown",
      "metadata": {
        "id": "QzkU49E20VAG"
      },
      "source": [
        "### Ejercicio 2.\n",
        "\n",
        "Crear una función que reciba la siguiente lista de DNI y devuelva el número de DNI inválidos."
      ]
    },
    {
      "cell_type": "code",
      "execution_count": 9,
      "metadata": {
        "id": "09k_pNYa0WVx",
        "outputId": "574467e0-5284-4484-82a6-b80484959106",
        "colab": {
          "base_uri": "https://localhost:8080/"
        }
      },
      "outputs": [
        {
          "output_type": "stream",
          "name": "stdout",
          "text": [
            "El numero de dnis invalidos es:  2\n"
          ]
        }
      ],
      "source": [
        "#Ingrese su solución aquí\n",
        "\n",
        "lista_dni = ['70047842', '1673181', '00157840', '25750480', '712460','33422233']\n",
        "\n",
        "def DNI(lista_dnis):\n",
        "    sum=0\n",
        "    for i in lista_dnis:\n",
        "        if len(i)!=8:\n",
        "            sum=sum+1\n",
        "    print(\"El numero de dnis invalidos es: \",sum)\n",
        "\n",
        "\n",
        "DNI(lista_dni)"
      ]
    },
    {
      "cell_type": "markdown",
      "metadata": {
        "id": "8GQcfPpC3jGN"
      },
      "source": [
        "## Funciones lambda"
      ]
    },
    {
      "cell_type": "code",
      "execution_count": 10,
      "metadata": {
        "id": "FQkQF39i1PpF"
      },
      "outputs": [],
      "source": [
        "genero = ['F', 'M', 'M', 'F', 'M']\n",
        "NSE    = ['A', 'A', 'C', 'B', 'C']"
      ]
    },
    {
      "cell_type": "code",
      "execution_count": 11,
      "metadata": {
        "id": "uiichMKf4Brj",
        "colab": {
          "base_uri": "https://localhost:8080/"
        },
        "outputId": "e376c8cc-2cec-4cd1-f1e5-ff7622059458"
      },
      "outputs": [
        {
          "output_type": "execute_result",
          "data": {
            "text/plain": [
              "[0, 1, 1, 0, 1]"
            ]
          },
          "metadata": {},
          "execution_count": 11
        }
      ],
      "source": [
        "# list, al igual es la funcion que nos servirá para castear a una lista\n",
        "# map, es una función que a cada elemento de un conjunto de datos aplica la función que le indiquemos\n",
        "\n",
        "list( map( lambda x: 0 if x == 'F' else 1, genero ) )"
      ]
    },
    {
      "cell_type": "code",
      "execution_count": 12,
      "metadata": {
        "id": "AaXb5QeR4EcQ",
        "colab": {
          "base_uri": "https://localhost:8080/"
        },
        "outputId": "04477b63-5c27-42aa-fd12-64044848378a"
      },
      "outputs": [
        {
          "output_type": "execute_result",
          "data": {
            "text/plain": [
              "[3, 3, 1, 2, 1]"
            ]
          },
          "metadata": {},
          "execution_count": 12
        }
      ],
      "source": [
        "list( map( lambda x: 1 if x == 'C' else (2 if x == 'B' else 3), NSE ) )"
      ]
    },
    {
      "cell_type": "code",
      "execution_count": null,
      "metadata": {
        "id": "z2O5WDIF4MlT"
      },
      "outputs": [],
      "source": []
    }
  ],
  "metadata": {
    "colab": {
      "provenance": []
    },
    "kernelspec": {
      "display_name": "Python 3 (ipykernel)",
      "language": "python",
      "name": "python3"
    },
    "language_info": {
      "codemirror_mode": {
        "name": "ipython",
        "version": 3
      },
      "file_extension": ".py",
      "mimetype": "text/x-python",
      "name": "python",
      "nbconvert_exporter": "python",
      "pygments_lexer": "ipython3",
      "version": "3.11.2"
    }
  },
  "nbformat": 4,
  "nbformat_minor": 0
}